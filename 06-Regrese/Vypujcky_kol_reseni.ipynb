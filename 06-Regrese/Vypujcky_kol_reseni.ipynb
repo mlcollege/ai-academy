{
  "nbformat": 4,
  "nbformat_minor": 0,
  "metadata": {
    "colab": {
      "name": "Vypujcky_kol-reseni.ipynb",
      "provenance": []
    },
    "kernelspec": {
      "name": "python3",
      "display_name": "Python 3"
    },
    "language_info": {
      "name": "python"
    }
  },
  "cells": [
    {
      "cell_type": "markdown",
      "metadata": {
        "id": "FKPy-_BfM68I"
      },
      "source": [
        "#Predikce počtu výpůjček kol\n",
        "\n",
        "Cílem úlohy je predikce počtu vypůjčených kol v aktuální hodině u jedné z půjčoven ve Washington DC. Data pocházejí z let 2011 a 2012 a jsou získána z webu [http://archive.ics.uci.edu/ml/datasets/Bike+Sharing+Dataset](http://archive.ics.uci.edu/ml/datasets/Bike+Sharing+Dataset).\n",
        "\n",
        "## Použité atributy\n",
        "* **den** - timestamp dne\n",
        "* **rocni_obdobi** -  1: jaro, 2: léto, 3: podzim, 4: zima)\n",
        "* **rok** - 0: 2011, 1: 2012\n",
        "* **mesic** - 1 až 12\n",
        "* **hodina** - 0 až 23\n",
        "* **svatek** - 1: státní svátek, 0: není státní svátek\n",
        "* **den_v_tydnu** - 0 až 6\n",
        "* **pracovni_den** - 1: pracovní den, 0: víkend nebo svátek\n",
        "* **pocasi** - 1: jasno, 2: mlha nebo zataženo, 3: mrholení nebo slabé sněžení, 4: silný déšť, husté sněžené nebo bouřky\n",
        "* **teplota** - normalizovaná teplota\n",
        "* **pocitova_teplota** - normalizovaná pocitová teplota\n",
        "* **vlhkost** - normalizovaná vlhkost vzduchu\n",
        "* **vitr** - normalizovaná rychlost větru\n",
        "* **pocet** -  počet výpůjček kol"
      ]
    },
    {
      "cell_type": "code",
      "metadata": {
        "colab": {
          "base_uri": "https://localhost:8080/",
          "height": 204
        },
        "id": "GpviliFdRT9b",
        "outputId": "a5eba10d-3cea-408e-d129-5ee4131c8351"
      },
      "source": [
        "import pandas as pd\n",
        "data = pd.read_csv('https://raw.githubusercontent.com/mlcollege/ai-academy/main/06-Regrese/data/vypujcky_kol.csv', sep=',')\n",
        "data.head()"
      ],
      "execution_count": 1,
      "outputs": [
        {
          "output_type": "execute_result",
          "data": {
            "text/html": [
              "<div>\n",
              "<style scoped>\n",
              "    .dataframe tbody tr th:only-of-type {\n",
              "        vertical-align: middle;\n",
              "    }\n",
              "\n",
              "    .dataframe tbody tr th {\n",
              "        vertical-align: top;\n",
              "    }\n",
              "\n",
              "    .dataframe thead th {\n",
              "        text-align: right;\n",
              "    }\n",
              "</style>\n",
              "<table border=\"1\" class=\"dataframe\">\n",
              "  <thead>\n",
              "    <tr style=\"text-align: right;\">\n",
              "      <th></th>\n",
              "      <th>den</th>\n",
              "      <th>rocni_obdobi</th>\n",
              "      <th>rok</th>\n",
              "      <th>mesic</th>\n",
              "      <th>hodina</th>\n",
              "      <th>svatek</th>\n",
              "      <th>den_v_tydnu</th>\n",
              "      <th>pracovni_den</th>\n",
              "      <th>pocasi</th>\n",
              "      <th>teplota</th>\n",
              "      <th>pocitova_teplota</th>\n",
              "      <th>vlhkost</th>\n",
              "      <th>vitr</th>\n",
              "      <th>pocet</th>\n",
              "    </tr>\n",
              "  </thead>\n",
              "  <tbody>\n",
              "    <tr>\n",
              "      <th>0</th>\n",
              "      <td>2011-01-01</td>\n",
              "      <td>1</td>\n",
              "      <td>0</td>\n",
              "      <td>1</td>\n",
              "      <td>0</td>\n",
              "      <td>0</td>\n",
              "      <td>6</td>\n",
              "      <td>0</td>\n",
              "      <td>1</td>\n",
              "      <td>0.24</td>\n",
              "      <td>0.2879</td>\n",
              "      <td>0.81</td>\n",
              "      <td>0.0</td>\n",
              "      <td>16</td>\n",
              "    </tr>\n",
              "    <tr>\n",
              "      <th>1</th>\n",
              "      <td>2011-01-01</td>\n",
              "      <td>1</td>\n",
              "      <td>0</td>\n",
              "      <td>1</td>\n",
              "      <td>1</td>\n",
              "      <td>0</td>\n",
              "      <td>6</td>\n",
              "      <td>0</td>\n",
              "      <td>1</td>\n",
              "      <td>0.22</td>\n",
              "      <td>0.2727</td>\n",
              "      <td>0.80</td>\n",
              "      <td>0.0</td>\n",
              "      <td>40</td>\n",
              "    </tr>\n",
              "    <tr>\n",
              "      <th>2</th>\n",
              "      <td>2011-01-01</td>\n",
              "      <td>1</td>\n",
              "      <td>0</td>\n",
              "      <td>1</td>\n",
              "      <td>2</td>\n",
              "      <td>0</td>\n",
              "      <td>6</td>\n",
              "      <td>0</td>\n",
              "      <td>1</td>\n",
              "      <td>0.22</td>\n",
              "      <td>0.2727</td>\n",
              "      <td>0.80</td>\n",
              "      <td>0.0</td>\n",
              "      <td>32</td>\n",
              "    </tr>\n",
              "    <tr>\n",
              "      <th>3</th>\n",
              "      <td>2011-01-01</td>\n",
              "      <td>1</td>\n",
              "      <td>0</td>\n",
              "      <td>1</td>\n",
              "      <td>3</td>\n",
              "      <td>0</td>\n",
              "      <td>6</td>\n",
              "      <td>0</td>\n",
              "      <td>1</td>\n",
              "      <td>0.24</td>\n",
              "      <td>0.2879</td>\n",
              "      <td>0.75</td>\n",
              "      <td>0.0</td>\n",
              "      <td>13</td>\n",
              "    </tr>\n",
              "    <tr>\n",
              "      <th>4</th>\n",
              "      <td>2011-01-01</td>\n",
              "      <td>1</td>\n",
              "      <td>0</td>\n",
              "      <td>1</td>\n",
              "      <td>4</td>\n",
              "      <td>0</td>\n",
              "      <td>6</td>\n",
              "      <td>0</td>\n",
              "      <td>1</td>\n",
              "      <td>0.24</td>\n",
              "      <td>0.2879</td>\n",
              "      <td>0.75</td>\n",
              "      <td>0.0</td>\n",
              "      <td>1</td>\n",
              "    </tr>\n",
              "  </tbody>\n",
              "</table>\n",
              "</div>"
            ],
            "text/plain": [
              "          den  rocni_obdobi  rok  mesic  ...  pocitova_teplota  vlhkost  vitr  pocet\n",
              "0  2011-01-01             1    0      1  ...            0.2879     0.81   0.0     16\n",
              "1  2011-01-01             1    0      1  ...            0.2727     0.80   0.0     40\n",
              "2  2011-01-01             1    0      1  ...            0.2727     0.80   0.0     32\n",
              "3  2011-01-01             1    0      1  ...            0.2879     0.75   0.0     13\n",
              "4  2011-01-01             1    0      1  ...            0.2879     0.75   0.0      1\n",
              "\n",
              "[5 rows x 14 columns]"
            ]
          },
          "metadata": {
            "tags": []
          },
          "execution_count": 1
        }
      ]
    },
    {
      "cell_type": "markdown",
      "metadata": {
        "id": "oeZaEOhsdaX9"
      },
      "source": [
        "## Příprava dat\n",
        "\n",
        "Do vstupních dat nepoužijeme atribut _den_, protože je podobná informace obsažena v jiných atributech. Jako cílový atribut použijeme _pocet_."
      ]
    },
    {
      "cell_type": "code",
      "metadata": {
        "colab": {
          "base_uri": "https://localhost:8080/"
        },
        "id": "j8rVhXhIbvh1",
        "outputId": "03c30b31-d1b2-4c9d-c0b6-a2dc9b22daec"
      },
      "source": [
        "from sklearn.model_selection import train_test_split\n",
        "\n",
        "X_all = data[['rocni_obdobi', 'rok', 'mesic', 'hodina', 'svatek', 'den_v_tydnu', 'pracovni_den',\n",
        "              'pocasi', 'teplota', 'pocitova_teplota', 'vlhkost', 'vitr']]\n",
        "y_all = data['pocet']\n",
        "\n",
        "\n",
        "X_train, X_test, y_train, y_test = train_test_split(\n",
        "    X_all, \n",
        "    y_all,\n",
        "    random_state=1,\n",
        "    test_size=0.2)\n",
        "\n",
        "print('Velikost trenovaci mnoziny: {}'.format(len(X_train)))\n",
        "print('Velikost testovaci mnoziny: {}'.format(len(X_test)))"
      ],
      "execution_count": 2,
      "outputs": [
        {
          "output_type": "stream",
          "text": [
            "Velikost trenovaci mnoziny: 13903\n",
            "Velikost testovaci mnoziny: 3476\n"
          ],
          "name": "stdout"
        }
      ]
    },
    {
      "cell_type": "markdown",
      "metadata": {
        "id": "g0o27r4afZCu"
      },
      "source": [
        "## Vytvoření regresního modelu\n",
        "\n",
        "Vytvořte a natrénujte regresní modely pro predikci počtu výpůjček kol pomocí [lineární regrese](http://scikit-learn.org/stable/modules/generated/sklearn.linear_model.LinearRegression.html) a [náhodných lesů](https://scikit-learn.org/stable/modules/generated/sklearn.ensemble.RandomForestRegressor.html). Experimentujte s různým počtem stromů u náhodných lesů a zkuste najít nejlepší řešení. Pro vyhodnocení kvality použijte MAE a RMSE."
      ]
    },
    {
      "cell_type": "code",
      "metadata": {
        "colab": {
          "base_uri": "https://localhost:8080/"
        },
        "id": "xvX5wMb7elmB",
        "outputId": "37a1f139-8432-4c00-fa58-1d2d946ca69c"
      },
      "source": [
        "from sklearn.linear_model import LinearRegression\n",
        "from sklearn.ensemble import RandomForestRegressor\n",
        "from sklearn.metrics import mean_absolute_error, mean_squared_error\n",
        "\n",
        "#model = LinearRegression()\n",
        "model = RandomForestRegressor(n_estimators=100)\n",
        "model.fit(X_train, y_train)\n",
        "y_pred = model.predict(X_test)\n",
        "\n",
        "print (\"MAE: {}\".format(mean_absolute_error(y_test, y_pred)))\n",
        "print (\"RMSE: {}\".format(mean_squared_error(y_test, y_pred, squared=False)))"
      ],
      "execution_count": 3,
      "outputs": [
        {
          "output_type": "stream",
          "text": [
            "MAE: 25.390564935064933\n",
            "RMSE: 42.399272375516205\n"
          ],
          "name": "stdout"
        }
      ]
    }
  ]
}