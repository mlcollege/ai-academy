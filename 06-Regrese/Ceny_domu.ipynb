{
  "nbformat": 4,
  "nbformat_minor": 0,
  "metadata": {
    "colab": {
      "name": "06-Ceny_domu.ipynb",
      "provenance": []
    },
    "kernelspec": {
      "name": "python3",
      "display_name": "Python 3"
    },
    "language_info": {
      "name": "python"
    }
  },
  "cells": [
    {
      "cell_type": "markdown",
      "metadata": {
        "id": "hjpyCWHGvc3_"
      },
      "source": [
        "# Úvod do regrese a knihovny ScikitLearn"
      ]
    },
    {
      "cell_type": "markdown",
      "metadata": {
        "id": "ts3obL7_v78z"
      },
      "source": [
        "* ScikitLearn je jednoduchá knihovna napsaná v Pythonu, která implementuje základní algoritmy strojového učení.\n",
        "* Je postavená na knihovnách NumPy a SciPy\n",
        "* Opensource pod licencí BSD\n",
        "* Dokumentace: [http://scikit-learn.org/stable/documentation.html](http://scikit-learn.org/stable/documentation.html)"
      ]
    },
    {
      "cell_type": "markdown",
      "metadata": {
        "id": "0csRQhyHwQ5p"
      },
      "source": [
        "Pro seznámení s regresí v knihovně ScikitLearn budeme pracovat s datasetem cen nemovitostí. Tento dataset původně pochází z [www.zillow.com](https://www.zillow.com/research/data/), ale je zjednodušen a upraven na české prostředí."
      ]
    },
    {
      "cell_type": "markdown",
      "metadata": {
        "id": "tiTjSahWwyOo"
      },
      "source": [
        "## Načteme trénovací a testovací data do DataFramu Pandas.\n",
        "\n",
        "* **Stav** je stav budovy na škále 1 až 10, kde 1 je nejhorší a 10 nejlepší.\n",
        "* **plocha** je obytná plocha budovy v metrech čtverečních\n",
        "* **rok_stavby** je rok výstavby domu\n",
        "* **rok_prodeje** je rok, ve kterém byl dům prodaný\n",
        "* **cena** je cena, za kterou se dům prodal "
      ]
    },
    {
      "cell_type": "code",
      "metadata": {
        "colab": {
          "base_uri": "https://localhost:8080/",
          "height": 204
        },
        "id": "8b_KttVpw6jr",
        "outputId": "941b8a66-2683-417d-fa75-ed0976d03b3b"
      },
      "source": [
        "import pandas as pd\n",
        "data = pd.read_csv(\"https://raw.githubusercontent.com/mlcollege/ai-academy/main/06-Regrese/data/ceny_domu.csv\", sep=',')\n",
        "data.head()"
      ],
      "execution_count": 1,
      "outputs": [
        {
          "output_type": "execute_result",
          "data": {
            "text/html": [
              "<div>\n",
              "<style scoped>\n",
              "    .dataframe tbody tr th:only-of-type {\n",
              "        vertical-align: middle;\n",
              "    }\n",
              "\n",
              "    .dataframe tbody tr th {\n",
              "        vertical-align: top;\n",
              "    }\n",
              "\n",
              "    .dataframe thead th {\n",
              "        text-align: right;\n",
              "    }\n",
              "</style>\n",
              "<table border=\"1\" class=\"dataframe\">\n",
              "  <thead>\n",
              "    <tr style=\"text-align: right;\">\n",
              "      <th></th>\n",
              "      <th>kvalita</th>\n",
              "      <th>plocha</th>\n",
              "      <th>datum_stavby</th>\n",
              "      <th>datum_prodeje</th>\n",
              "      <th>cena</th>\n",
              "    </tr>\n",
              "  </thead>\n",
              "  <tbody>\n",
              "    <tr>\n",
              "      <th>0</th>\n",
              "      <td>7</td>\n",
              "      <td>158</td>\n",
              "      <td>2003</td>\n",
              "      <td>2008</td>\n",
              "      <td>5.21</td>\n",
              "    </tr>\n",
              "    <tr>\n",
              "      <th>1</th>\n",
              "      <td>6</td>\n",
              "      <td>117</td>\n",
              "      <td>1976</td>\n",
              "      <td>2007</td>\n",
              "      <td>4.54</td>\n",
              "    </tr>\n",
              "    <tr>\n",
              "      <th>2</th>\n",
              "      <td>7</td>\n",
              "      <td>165</td>\n",
              "      <td>2001</td>\n",
              "      <td>2008</td>\n",
              "      <td>5.59</td>\n",
              "    </tr>\n",
              "    <tr>\n",
              "      <th>3</th>\n",
              "      <td>7</td>\n",
              "      <td>159</td>\n",
              "      <td>1915</td>\n",
              "      <td>2006</td>\n",
              "      <td>3.50</td>\n",
              "    </tr>\n",
              "    <tr>\n",
              "      <th>4</th>\n",
              "      <td>8</td>\n",
              "      <td>204</td>\n",
              "      <td>2000</td>\n",
              "      <td>2008</td>\n",
              "      <td>6.25</td>\n",
              "    </tr>\n",
              "  </tbody>\n",
              "</table>\n",
              "</div>"
            ],
            "text/plain": [
              "   kvalita  plocha  datum_stavby  datum_prodeje  cena\n",
              "0        7     158          2003           2008  5.21\n",
              "1        6     117          1976           2007  4.54\n",
              "2        7     165          2001           2008  5.59\n",
              "3        7     159          1915           2006  3.50\n",
              "4        8     204          2000           2008  6.25"
            ]
          },
          "metadata": {
            "tags": []
          },
          "execution_count": 1
        }
      ]
    },
    {
      "cell_type": "markdown",
      "metadata": {
        "id": "5vuDzO3d30zl"
      },
      "source": [
        "## Rozdělíme si data na trénovací a testovací"
      ]
    },
    {
      "cell_type": "code",
      "metadata": {
        "colab": {
          "base_uri": "https://localhost:8080/"
        },
        "id": "aB-6wsM6xnGC",
        "outputId": "af666266-6523-44ea-82d7-28498151e5a7"
      },
      "source": [
        "from sklearn.model_selection import train_test_split\n",
        "\n",
        "input_features = ['kvalita', 'plocha', 'datum_stavby',\t'datum_prodeje']\n",
        "target_feature = 'cena'\n",
        "\n",
        "X_train, X_test, y_train, y_test = train_test_split(data[input_features], data[target_feature], test_size=0.1)\n",
        "print('Train size: {}'.format(len(X_train)))\n",
        "print('Test size: {}'.format(len(X_test)))"
      ],
      "execution_count": 2,
      "outputs": [
        {
          "output_type": "stream",
          "text": [
            "Train size: 1314\n",
            "Test size: 146\n"
          ],
          "name": "stdout"
        }
      ]
    },
    {
      "cell_type": "markdown",
      "metadata": {
        "id": "7Vwl7LIX6G1M"
      },
      "source": [
        "## Trénování a predikce\n",
        "\n",
        "Nyní si vytvoříme instanci modelu lineární regrese, model natrénujeme a vypíšeme koeficienty.\n"
      ]
    },
    {
      "cell_type": "code",
      "metadata": {
        "colab": {
          "base_uri": "https://localhost:8080/"
        },
        "id": "E472m96z4X9D",
        "outputId": "32ad4842-1117-495a-8ac8-c8bd3b0b36a6"
      },
      "source": [
        "from sklearn.linear_model import LinearRegression\n",
        "model = LinearRegression()\n",
        "model.fit(X_train, y_train)\n",
        "print (model.coef_)"
      ],
      "execution_count": 3,
      "outputs": [
        {
          "output_type": "stream",
          "text": [
            "[ 6.39635629e-01  1.59777341e-02  1.26809142e-02 -4.26048874e-04]\n"
          ],
          "name": "stdout"
        }
      ]
    },
    {
      "cell_type": "markdown",
      "metadata": {
        "id": "sjAN1YlY6e6n"
      },
      "source": [
        "Natrénovaný model můžeme použít k predikcím pro nová (testovací) data."
      ]
    },
    {
      "cell_type": "code",
      "metadata": {
        "id": "y8Qb3-Xc5v_2"
      },
      "source": [
        "y_pred = model.predict(X_test)"
      ],
      "execution_count": 4,
      "outputs": []
    },
    {
      "cell_type": "code",
      "metadata": {
        "colab": {
          "base_uri": "https://localhost:8080/",
          "height": 204
        },
        "id": "3nF-7ybE6rXO",
        "outputId": "74018af3-dc56-469d-ff60-c540d62d0895"
      },
      "source": [
        "import numpy as np\n",
        "result =  pd.DataFrame(zip(y_test, np.around(y_pred, decimals=2)),\n",
        "               columns =['skutecna_cena', 'predikce'])\n",
        "result.head()"
      ],
      "execution_count": 5,
      "outputs": [
        {
          "output_type": "execute_result",
          "data": {
            "text/html": [
              "<div>\n",
              "<style scoped>\n",
              "    .dataframe tbody tr th:only-of-type {\n",
              "        vertical-align: middle;\n",
              "    }\n",
              "\n",
              "    .dataframe tbody tr th {\n",
              "        vertical-align: top;\n",
              "    }\n",
              "\n",
              "    .dataframe thead th {\n",
              "        text-align: right;\n",
              "    }\n",
              "</style>\n",
              "<table border=\"1\" class=\"dataframe\">\n",
              "  <thead>\n",
              "    <tr style=\"text-align: right;\">\n",
              "      <th></th>\n",
              "      <th>skutecna_cena</th>\n",
              "      <th>predikce</th>\n",
              "    </tr>\n",
              "  </thead>\n",
              "  <tbody>\n",
              "    <tr>\n",
              "      <th>0</th>\n",
              "      <td>3.38</td>\n",
              "      <td>2.60</td>\n",
              "    </tr>\n",
              "    <tr>\n",
              "      <th>1</th>\n",
              "      <td>4.65</td>\n",
              "      <td>4.48</td>\n",
              "    </tr>\n",
              "    <tr>\n",
              "      <th>2</th>\n",
              "      <td>2.28</td>\n",
              "      <td>1.27</td>\n",
              "    </tr>\n",
              "    <tr>\n",
              "      <th>3</th>\n",
              "      <td>3.22</td>\n",
              "      <td>3.07</td>\n",
              "    </tr>\n",
              "    <tr>\n",
              "      <th>4</th>\n",
              "      <td>8.00</td>\n",
              "      <td>6.93</td>\n",
              "    </tr>\n",
              "  </tbody>\n",
              "</table>\n",
              "</div>"
            ],
            "text/plain": [
              "   skutecna_cena  predikce\n",
              "0           3.38      2.60\n",
              "1           4.65      4.48\n",
              "2           2.28      1.27\n",
              "3           3.22      3.07\n",
              "4           8.00      6.93"
            ]
          },
          "metadata": {
            "tags": []
          },
          "execution_count": 5
        }
      ]
    },
    {
      "cell_type": "markdown",
      "metadata": {
        "id": "0uq9oIBU_2SC"
      },
      "source": [
        "Můžeme jednoduše provést predikci i pro jeden smyšlený dům."
      ]
    },
    {
      "cell_type": "code",
      "metadata": {
        "colab": {
          "base_uri": "https://localhost:8080/"
        },
        "id": "Xi97qzzd-Rtc",
        "outputId": "2ee9dda0-0a08-4ce2-fc1c-94d89e640bd2"
      },
      "source": [
        "cena = model.predict([[8, 140, 2003, 2020]])\n",
        "print (\"Odhadovaná cena domu je: {}\".format(cena[0]))"
      ],
      "execution_count": 6,
      "outputs": [
        {
          "output_type": "stream",
          "text": [
            "Odhadovaná cena domu je: 6.128387365730905\n"
          ],
          "name": "stdout"
        }
      ]
    },
    {
      "cell_type": "markdown",
      "metadata": {
        "id": "oyDHKVtlKBOU"
      },
      "source": [
        "Nakonec určíme celkovou absolutní a kvadratickou chybu predikce na testovacím datasetu. Kvadratickou chybu pro snazší interpretaci odmocníme a dostaneme tak ukazatel, který se nazývá RMSE (Root Mean Squared Error)."
      ]
    },
    {
      "cell_type": "code",
      "metadata": {
        "colab": {
          "base_uri": "https://localhost:8080/"
        },
        "id": "00Qdvg0WAXga",
        "outputId": "70c9b9ec-8986-4e8a-9c2e-eb89c45ad133"
      },
      "source": [
        "from sklearn.metrics import mean_absolute_error, mean_squared_error\n",
        "print (\"MAE: {}\".format(mean_absolute_error(y_test, y_pred)))\n",
        "print (\"RMSE: {}\".format(mean_squared_error(y_test, y_pred, squared=False)))"
      ],
      "execution_count": 7,
      "outputs": [
        {
          "output_type": "stream",
          "text": [
            "MAE: 0.7420932690663066\n",
            "RMSE: 1.0653306413346761\n"
          ],
          "name": "stdout"
        }
      ]
    }
  ]
}