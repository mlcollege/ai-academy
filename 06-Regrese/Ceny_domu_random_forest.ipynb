{
  "nbformat": 4,
  "nbformat_minor": 0,
  "metadata": {
    "colab": {
      "name": "Ceny_domu_random_forest.ipynb",
      "provenance": []
    },
    "kernelspec": {
      "name": "python3",
      "display_name": "Python 3"
    },
    "language_info": {
      "name": "python"
    }
  },
  "cells": [
    {
      "cell_type": "markdown",
      "metadata": {
        "id": "hjpyCWHGvc3_"
      },
      "source": [
        "# Regrese s využitím Random forest"
      ]
    },
    {
      "cell_type": "markdown",
      "metadata": {
        "id": "ts3obL7_v78z"
      },
      "source": [
        "Pro ilustraci použití rozhodovacích stromů použijeme opět data set cen nemovitostí a knihovnu ScikitLearn. Výsledek porovnáme s lineární regresí."
      ]
    },
    {
      "cell_type": "markdown",
      "metadata": {
        "id": "tiTjSahWwyOo"
      },
      "source": [
        "## Načteme trénovací a testovací data do DataFramu Pandas.\n",
        "\n",
        "* **Stav** je stav budovy na škále 1 až 10, kde 1 je nejhorší a 10 nejlepší.\n",
        "* **plocha** je obytná plocha budovy v metrech čtverečních\n",
        "* **rok_stavby** je rok výstavby domu\n",
        "* **rok_prodeje** je rok, ve kterém byl dům prodaný\n",
        "* **cena** je cena v milionech Kč, za kterou se dům prodal"
      ]
    },
    {
      "cell_type": "code",
      "metadata": {
        "colab": {
          "base_uri": "https://localhost:8080/",
          "height": 204
        },
        "id": "8b_KttVpw6jr",
        "outputId": "00c40329-04f3-4a0d-95ec-f5e3055e5f48"
      },
      "source": [
        "import pandas as pd\n",
        "data = pd.read_csv(\"https://raw.githubusercontent.com/mlcollege/ai-academy/main/06-Regrese/data/ceny_domu.csv\", sep=',')\n",
        "data.head()"
      ],
      "execution_count": 1,
      "outputs": [
        {
          "output_type": "execute_result",
          "data": {
            "text/html": [
              "<div>\n",
              "<style scoped>\n",
              "    .dataframe tbody tr th:only-of-type {\n",
              "        vertical-align: middle;\n",
              "    }\n",
              "\n",
              "    .dataframe tbody tr th {\n",
              "        vertical-align: top;\n",
              "    }\n",
              "\n",
              "    .dataframe thead th {\n",
              "        text-align: right;\n",
              "    }\n",
              "</style>\n",
              "<table border=\"1\" class=\"dataframe\">\n",
              "  <thead>\n",
              "    <tr style=\"text-align: right;\">\n",
              "      <th></th>\n",
              "      <th>kvalita</th>\n",
              "      <th>plocha</th>\n",
              "      <th>rok_stavby</th>\n",
              "      <th>rok_prodeje</th>\n",
              "      <th>cena</th>\n",
              "    </tr>\n",
              "  </thead>\n",
              "  <tbody>\n",
              "    <tr>\n",
              "      <th>0</th>\n",
              "      <td>7</td>\n",
              "      <td>158</td>\n",
              "      <td>2003</td>\n",
              "      <td>2008</td>\n",
              "      <td>5.21</td>\n",
              "    </tr>\n",
              "    <tr>\n",
              "      <th>1</th>\n",
              "      <td>6</td>\n",
              "      <td>117</td>\n",
              "      <td>1976</td>\n",
              "      <td>2007</td>\n",
              "      <td>4.54</td>\n",
              "    </tr>\n",
              "    <tr>\n",
              "      <th>2</th>\n",
              "      <td>7</td>\n",
              "      <td>165</td>\n",
              "      <td>2001</td>\n",
              "      <td>2008</td>\n",
              "      <td>5.59</td>\n",
              "    </tr>\n",
              "    <tr>\n",
              "      <th>3</th>\n",
              "      <td>7</td>\n",
              "      <td>159</td>\n",
              "      <td>1915</td>\n",
              "      <td>2006</td>\n",
              "      <td>3.50</td>\n",
              "    </tr>\n",
              "    <tr>\n",
              "      <th>4</th>\n",
              "      <td>8</td>\n",
              "      <td>204</td>\n",
              "      <td>2000</td>\n",
              "      <td>2008</td>\n",
              "      <td>6.25</td>\n",
              "    </tr>\n",
              "  </tbody>\n",
              "</table>\n",
              "</div>"
            ],
            "text/plain": [
              "   kvalita  plocha  rok_stavby  rok_prodeje  cena\n",
              "0        7     158          2003           2008  5.21\n",
              "1        6     117          1976           2007  4.54\n",
              "2        7     165          2001           2008  5.59\n",
              "3        7     159          1915           2006  3.50\n",
              "4        8     204          2000           2008  6.25"
            ]
          },
          "metadata": {
            "tags": []
          },
          "execution_count": 1
        }
      ]
    },
    {
      "cell_type": "markdown",
      "metadata": {
        "id": "5vuDzO3d30zl"
      },
      "source": [
        "## Rozdělíme si data na trénovací a testovací"
      ]
    },
    {
      "cell_type": "code",
      "metadata": {
        "colab": {
          "base_uri": "https://localhost:8080/"
        },
        "id": "aB-6wsM6xnGC",
        "outputId": "dc8c05c4-ac53-47ae-f143-3f56cd247f4c"
      },
      "source": [
        "from sklearn.model_selection import train_test_split\n",
        "\n",
        "input_features = ['kvalita', 'plocha', 'rok_stavby',\t'rok_prodeje']\n",
        "target_feature = 'cena'\n",
        "\n",
        "X_train, X_test, y_train, y_test = train_test_split(data[input_features], data[target_feature], test_size=0.1)\n",
        "print('Velikost trenovaci mnoziny: {}'.format(len(X_train)))\n",
        "print('Velikost testovaci mnoziny: {}'.format(len(X_test)))"
      ],
      "execution_count": 2,
      "outputs": [
        {
          "output_type": "stream",
          "text": [
            "Velikost trenovaci mnoziny: 1314\n",
            "Velikost testovaci mnoziny: 146\n"
          ],
          "name": "stdout"
        }
      ]
    },
    {
      "cell_type": "markdown",
      "metadata": {
        "id": "7Vwl7LIX6G1M"
      },
      "source": [
        "## Trénování a predikce\n",
        "\n",
        "Nyní si vytvoříme instanci modelu lineární regrese i random forest a modely natrénujeme.\n"
      ]
    },
    {
      "cell_type": "code",
      "metadata": {
        "colab": {
          "base_uri": "https://localhost:8080/"
        },
        "id": "E472m96z4X9D",
        "outputId": "a2b42ca8-ff87-4e02-e133-c77f10d72ae0"
      },
      "source": [
        "from sklearn.linear_model import LinearRegression\n",
        "lr = LinearRegression()\n",
        "lr.fit(X_train, y_train)"
      ],
      "execution_count": 3,
      "outputs": [
        {
          "output_type": "execute_result",
          "data": {
            "text/plain": [
              "LinearRegression(copy_X=True, fit_intercept=True, n_jobs=None, normalize=False)"
            ]
          },
          "metadata": {
            "tags": []
          },
          "execution_count": 3
        }
      ]
    },
    {
      "cell_type": "markdown",
      "metadata": {
        "id": "WxhsNq2DdKdO"
      },
      "source": [
        "Random forest se v knihovně ScikitLearn používá podobným způsobem jako lineární regrese. Nejdůležitejším parametrem je počet stromů (*n_estimators*). Seznam všech přípustných parametrů je k dispozici v [dokumentaci](https://scikit-learn.org/stable/modules/generated/sklearn.ensemble.RandomForestRegressor.html)."
      ]
    },
    {
      "cell_type": "code",
      "metadata": {
        "colab": {
          "base_uri": "https://localhost:8080/"
        },
        "id": "wwJPPI9udaUh",
        "outputId": "40355208-e6dd-4e54-edf2-8b62d9a931a7"
      },
      "source": [
        "from sklearn.ensemble import RandomForestRegressor\n",
        "rf = RandomForestRegressor(n_estimators=50)\n",
        "rf.fit(X_train, y_train)"
      ],
      "execution_count": 4,
      "outputs": [
        {
          "output_type": "execute_result",
          "data": {
            "text/plain": [
              "RandomForestRegressor(bootstrap=True, ccp_alpha=0.0, criterion='mse',\n",
              "                      max_depth=None, max_features='auto', max_leaf_nodes=None,\n",
              "                      max_samples=None, min_impurity_decrease=0.0,\n",
              "                      min_impurity_split=None, min_samples_leaf=1,\n",
              "                      min_samples_split=2, min_weight_fraction_leaf=0.0,\n",
              "                      n_estimators=50, n_jobs=None, oob_score=False,\n",
              "                      random_state=None, verbose=0, warm_start=False)"
            ]
          },
          "metadata": {
            "tags": []
          },
          "execution_count": 4
        }
      ]
    },
    {
      "cell_type": "markdown",
      "metadata": {
        "id": "oyDHKVtlKBOU"
      },
      "source": [
        "## Vyhodnocení kvality modelu\n",
        "\n",
        "Nakonec provedeme predikce pro testovací data a porovnáme výsledky. Pro porovnání použijeme MAE i RMSE. V obou případech dosahují random forest lepších výsledků. V případě menšího počtu stromů to tak ale být nemusí. Zkuste s hodnotami parametru *n_estimators* experimentovat."
      ]
    },
    {
      "cell_type": "code",
      "metadata": {
        "colab": {
          "base_uri": "https://localhost:8080/"
        },
        "id": "00Qdvg0WAXga",
        "outputId": "ffb64851-4e02-4083-a4cb-9cd31c0f0701"
      },
      "source": [
        "from sklearn.metrics import mean_absolute_error, mean_squared_error\n",
        "\n",
        "lr_pred = lr.predict(X_test)\n",
        "rf_pred = rf.predict(X_test)\n",
        "\n",
        "print (\"Linearni regrese MAE: {}, MSE: {}\".format(mean_absolute_error(y_test, lr_pred), mean_squared_error(y_test, lr_pred, squared=False)))\n",
        "print (\"Random forest MAE: {}, MSE: {}\".format(mean_absolute_error(y_test, rf_pred), mean_squared_error(y_test, rf_pred, squared=False)))"
      ],
      "execution_count": 5,
      "outputs": [
        {
          "output_type": "stream",
          "text": [
            "Linearni regrese MAE: 0.6578472596904307, MSE: 0.8588766801030574\n",
            "Random forest MAE: 0.5328928962818005, MSE: 0.74871399470129\n"
          ],
          "name": "stdout"
        }
      ]
    }
  ]
}
