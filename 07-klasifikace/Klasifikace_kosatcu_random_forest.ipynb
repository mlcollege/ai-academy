{
  "nbformat": 4,
  "nbformat_minor": 0,
  "metadata": {
    "colab": {
      "name": "Klasifikace_kosatcu_random_forest.ipynb",
      "provenance": []
    },
    "kernelspec": {
      "name": "python3",
      "display_name": "Python 3"
    },
    "language_info": {
      "name": "python"
    }
  },
  "cells": [
    {
      "cell_type": "markdown",
      "metadata": {
        "id": "rp7wz91bEyso"
      },
      "source": [
        "#Klasifikace kosatců\n",
        "\n",
        "Cílem klasifikační úlohy je rozlišit tři druhy kosatců pouze na základě rozměrů jejich okvětních a kališních lístků. \n",
        "\n",
        "![Sepal vs. Petal](https://github.com/mlcollege/ai-academy/blob/main/07-klasifikace/img/iris.png?raw=1)\n",
        "\n",
        "Data set Iris (anglicky kosatec) je v komunitě machine learning specialistů velmi známý, a proto je již přímo součástí knihovny ScikitLearn.\n"
      ]
    },
    {
      "cell_type": "code",
      "metadata": {
        "colab": {
          "base_uri": "https://localhost:8080/"
        },
        "id": "hIX99cN4E46x",
        "outputId": "0afa90b0-7dbf-4d8e-ecd7-f04c99ff9fc9"
      },
      "source": [
        "from sklearn import datasets\n",
        "iris = datasets.load_iris()\n",
        "print(iris.data[:10])"
      ],
      "execution_count": null,
      "outputs": [
        {
          "output_type": "stream",
          "text": [
            "[[5.1 3.5 1.4 0.2]\n",
            " [4.9 3.  1.4 0.2]\n",
            " [4.7 3.2 1.3 0.2]\n",
            " [4.6 3.1 1.5 0.2]\n",
            " [5.  3.6 1.4 0.2]\n",
            " [5.4 3.9 1.7 0.4]\n",
            " [4.6 3.4 1.4 0.3]\n",
            " [5.  3.4 1.5 0.2]\n",
            " [4.4 2.9 1.4 0.2]\n",
            " [4.9 3.1 1.5 0.1]]\n"
          ],
          "name": "stdout"
        }
      ]
    },
    {
      "cell_type": "markdown",
      "metadata": {
        "id": "9hMaLC9uHP6R"
      },
      "source": [
        "Každý řádek proměnné _iris.data_ představuje jednu rostlinu a každý sloupeček jeden ze vstupních atributů, které budou použity pro klasifikaci. Jejich význam je následující: "
      ]
    },
    {
      "cell_type": "code",
      "metadata": {
        "colab": {
          "base_uri": "https://localhost:8080/"
        },
        "id": "qjlviD18HJQm",
        "outputId": "f0648718-9300-410a-945b-f3dae8824d55"
      },
      "source": [
        "print(iris.feature_names)"
      ],
      "execution_count": null,
      "outputs": [
        {
          "output_type": "stream",
          "text": [
            "['sepal length (cm)', 'sepal width (cm)', 'petal length (cm)', 'petal width (cm)']\n"
          ],
          "name": "stdout"
        }
      ]
    },
    {
      "cell_type": "markdown",
      "metadata": {
        "id": "pqYqYtDVHujF"
      },
      "source": [
        "V proměnné _iris.target_ jsou uloženy třídy (druhy kostaců), odpovídající jednotlivým rostlinám z proměnné _iris.data_. Třídy jsou kódovány indexy 0, 1 a 2."
      ]
    },
    {
      "cell_type": "code",
      "metadata": {
        "colab": {
          "base_uri": "https://localhost:8080/"
        },
        "id": "72gY9FQkHfHg",
        "outputId": "c3ca085e-eab9-4f4d-f2e5-e0f347d82be4"
      },
      "source": [
        "print(iris.target)"
      ],
      "execution_count": null,
      "outputs": [
        {
          "output_type": "stream",
          "text": [
            "[0 0 0 0 0 0 0 0 0 0 0 0 0 0 0 0 0 0 0 0 0 0 0 0 0 0 0 0 0 0 0 0 0 0 0 0 0\n",
            " 0 0 0 0 0 0 0 0 0 0 0 0 0 1 1 1 1 1 1 1 1 1 1 1 1 1 1 1 1 1 1 1 1 1 1 1 1\n",
            " 1 1 1 1 1 1 1 1 1 1 1 1 1 1 1 1 1 1 1 1 1 1 1 1 1 1 2 2 2 2 2 2 2 2 2 2 2\n",
            " 2 2 2 2 2 2 2 2 2 2 2 2 2 2 2 2 2 2 2 2 2 2 2 2 2 2 2 2 2 2 2 2 2 2 2 2 2\n",
            " 2 2]\n"
          ],
          "name": "stdout"
        }
      ]
    },
    {
      "cell_type": "markdown",
      "metadata": {
        "id": "c6Ri1rvTIlBC"
      },
      "source": [
        "Jejich význam je možné zjistit zde:"
      ]
    },
    {
      "cell_type": "code",
      "metadata": {
        "colab": {
          "base_uri": "https://localhost:8080/"
        },
        "id": "qGl1LmoXIgx7",
        "outputId": "fc88d0aa-12aa-4046-a7ea-831192f904d7"
      },
      "source": [
        "print(iris.target_names)"
      ],
      "execution_count": null,
      "outputs": [
        {
          "output_type": "stream",
          "text": [
            "['setosa' 'versicolor' 'virginica']\n"
          ],
          "name": "stdout"
        }
      ]
    },
    {
      "cell_type": "markdown",
      "metadata": {
        "id": "srVptIBnI51m"
      },
      "source": [
        "Tak jako v předchozích příkladech si data rozdělíme na trénovací a testovací část."
      ]
    },
    {
      "cell_type": "code",
      "metadata": {
        "colab": {
          "base_uri": "https://localhost:8080/"
        },
        "id": "XcGHCG7RIpwV",
        "outputId": "eb9dba1d-35e9-4a19-93ea-c2238e3f4517"
      },
      "source": [
        "from sklearn.model_selection import train_test_split\n",
        "\n",
        "X_train, X_test, y_train, y_test = train_test_split(iris.data, iris.target, test_size=0.2, random_state=5)\n",
        "print('Velikost trenovaci casti: {}'.format(len(X_train)))\n",
        "print('Velikost testovaci casti: {}'.format(len(X_test)))"
      ],
      "execution_count": null,
      "outputs": [
        {
          "output_type": "stream",
          "text": [
            "Velikost trenovaci casti: 120\n",
            "Velikost testovaci casti: 30\n"
          ],
          "name": "stdout"
        }
      ]
    },
    {
      "cell_type": "markdown",
      "metadata": {
        "id": "hzP95ptlW74q"
      },
      "source": [
        "## Předzpracování dat\n",
        "\n",
        "Před trénováním modelu je vhodné data normalizovat tak, aby měl každý vstupní atribut v trénovacích datech střední hodnotu 0 a směrodatnou odchylku 1. Tento způsob normalizace se nazývá standardizace a výrazně urychluje trénování u algoritmů založených na gradientních metodách (včetně prosté lineární nebo logistické regrese). Ke standardizaci ve ScikitLearn je možné použít nástroj [StandardScaler](https://scikit-learn.org/stable/modules/generated/sklearn.preprocessing.StandardScaler.html). "
      ]
    },
    {
      "cell_type": "code",
      "metadata": {
        "colab": {
          "base_uri": "https://localhost:8080/"
        },
        "id": "Vq1pnKO_Yk9z",
        "outputId": "42c0e9a7-370a-412e-d5f4-b809a332f34b"
      },
      "source": [
        "from sklearn.preprocessing import StandardScaler\n",
        "\n",
        "scaler = StandardScaler()\n",
        "scaler.fit(X_train)\n",
        "print(scaler.transform(X_train)[:10,:])"
      ],
      "execution_count": null,
      "outputs": [
        {
          "output_type": "stream",
          "text": [
            "[[-0.88140924  0.7143396  -1.23427138 -1.26819767]\n",
            " [-0.40389633 -1.69108967  0.17471421  0.16749781]\n",
            " [-0.16513988 -1.03506351 -0.10708291 -0.22405551]\n",
            " [-0.52327456  1.37036577 -1.23427138 -1.26819767]\n",
            " [ 1.38677706  0.27698883  0.56923018  0.29801558]\n",
            " [-1.00078746  0.49566421 -1.2906308  -1.26819767]\n",
            " [-1.00078746  0.93301499 -1.17791196 -0.74612659]\n",
            " [ 2.22242464 -0.16036195  1.35826211  1.47267551]\n",
            " [-1.00078746  0.93301499 -1.34699023 -1.1376799 ]\n",
            " [ 0.6705077   0.27698883  0.90738672  1.47267551]]\n"
          ],
          "name": "stdout"
        }
      ]
    },
    {
      "cell_type": "code",
      "metadata": {
        "colab": {
          "base_uri": "https://localhost:8080/"
        },
        "id": "denIoD7HZIJT",
        "outputId": "86b540f3-e379-49d0-cac9-9631502681ff"
      },
      "source": [
        "print(scaler.transform(X_train)[:,0].mean())\n",
        "print(scaler.transform(X_train)[:,0].std())"
      ],
      "execution_count": null,
      "outputs": [
        {
          "output_type": "stream",
          "text": [
            "-2.67193674593121e-15\n",
            "1.0000000000000002\n"
          ],
          "name": "stdout"
        }
      ]
    },
    {
      "cell_type": "markdown",
      "metadata": {
        "id": "lbM2f6EVOkxP"
      },
      "source": [
        "## Trénování a predikce\n",
        "\n",
        "Stejně jako v případě regrese nejprve vytvoříme instanci klasifikátoru a natrénujeme model, který je poté možné použít pro klasifikaci testovacích nebo úplně nových příkladů. Vzhledem k tomu, že chceme data nejdříve standardizovat a poté klasifikovat, můžeme využít nástroje [Pipeline](https://scikit-learn.org/stable/modules/generated/sklearn.pipeline.Pipeline.html). Pomocí Pipeline můžeme ve ScikitLearn jednoduše řetězit různé metody práce s daty.  "
      ]
    },
    {
      "cell_type": "code",
      "metadata": {
        "colab": {
          "base_uri": "https://localhost:8080/"
        },
        "id": "6rnowrFdJaHv",
        "outputId": "ebbb909c-229c-4338-8506-0da38b5972a7"
      },
      "source": [
        "from sklearn.linear_model import LogisticRegression\n",
        "from sklearn.ensemble import RandomForestClassifier\n",
        "from sklearn.preprocessing import StandardScaler\n",
        "from sklearn.pipeline import Pipeline\n",
        "\n",
        "model = Pipeline([('std', StandardScaler()),\n",
        "                  #('lr', LogisticRegression())])\n",
        "                  ('rf', RandomForestClassifier(n_estimators=50))])\n",
        "\n",
        "model.fit(X_train, y_train)\n"
      ],
      "execution_count": null,
      "outputs": [
        {
          "output_type": "execute_result",
          "data": {
            "text/plain": [
              "Pipeline(memory=None,\n",
              "         steps=[('std',\n",
              "                 StandardScaler(copy=True, with_mean=True, with_std=True)),\n",
              "                ('rf',\n",
              "                 RandomForestClassifier(bootstrap=True, ccp_alpha=0.0,\n",
              "                                        class_weight=None, criterion='gini',\n",
              "                                        max_depth=None, max_features='auto',\n",
              "                                        max_leaf_nodes=None, max_samples=None,\n",
              "                                        min_impurity_decrease=0.0,\n",
              "                                        min_impurity_split=None,\n",
              "                                        min_samples_leaf=1, min_samples_split=2,\n",
              "                                        min_weight_fraction_leaf=0.0,\n",
              "                                        n_estimators=50, n_jobs=None,\n",
              "                                        oob_score=False, random_state=None,\n",
              "                                        verbose=0, warm_start=False))],\n",
              "         verbose=False)"
            ]
          },
          "metadata": {
            "tags": []
          },
          "execution_count": 8
        }
      ]
    },
    {
      "cell_type": "markdown",
      "metadata": {
        "id": "3oOwCW0Bg8vB"
      },
      "source": [
        "Na závěr vyhodnotíme kvalitu predikce. "
      ]
    },
    {
      "cell_type": "code",
      "metadata": {
        "colab": {
          "base_uri": "https://localhost:8080/"
        },
        "id": "ARWGNqaYPfJq",
        "outputId": "e9a23755-a84f-437f-a997-623ba13451cc"
      },
      "source": [
        "from sklearn import metrics\n",
        "from sklearn.metrics import accuracy_score\n",
        "\n",
        "y_pred = model.predict(X_test)\n",
        "\n",
        "print (\"Celkova spravnost klasifikace pro testovaci data: {:.2f}\".format(accuracy_score(y_test, y_pred)))\n",
        "print ()\n",
        "print(metrics.classification_report(y_test, y_pred))\n"
      ],
      "execution_count": null,
      "outputs": [
        {
          "output_type": "stream",
          "text": [
            "Celkova spravnost klasifikace pro testovaci data: 0.93\n",
            "\n",
            "              precision    recall  f1-score   support\n",
            "\n",
            "           0       1.00      1.00      1.00         8\n",
            "           1       0.91      0.91      0.91        11\n",
            "           2       0.91      0.91      0.91        11\n",
            "\n",
            "    accuracy                           0.93        30\n",
            "   macro avg       0.94      0.94      0.94        30\n",
            "weighted avg       0.93      0.93      0.93        30\n",
            "\n"
          ],
          "name": "stdout"
        }
      ]
    }
  ]
}