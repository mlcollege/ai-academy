{
  "nbformat": 4,
  "nbformat_minor": 0,
  "metadata": {
    "colab": {
      "name": "Predikce_infarktu_myokardu_zadani.ipynb",
      "provenance": []
    },
    "kernelspec": {
      "name": "python3",
      "display_name": "Python 3"
    },
    "language_info": {
      "name": "python"
    }
  },
  "cells": [
    {
      "cell_type": "markdown",
      "metadata": {
        "id": "-V9g6pKj77_a"
      },
      "source": [
        "#Predikce infarktu myokardu\n",
        "\n",
        "Cílem úlohy je na základě několika málo atributů určit, jestli člověk prodělal infarkt myokardu. Data set je převzatý a upravený z repozitáře [Kaggle](https://www.kaggle.com/fedesoriano/stroke-prediction-dataset?select=healthcare-dataset-stroke-data.csv). Přestože všechny použité atributy mají na vznik infarktu vliv, úlohu není možné vyřešit příliš přesně. To ji dělá zajímavější. \n",
        "\n",
        "Dalším problémem je velká nevyváženost hodnot cílového atributu. Předtím, než začnete problém modelovat, zjistěte, jaké je zastoupení hodnot 0 a 1 u atributu _infarkt_. Diskutujte, na co to má vliv a na co je třeba dávat pozor.\n",
        "\n",
        "Použité atributy:\n",
        "* pohlaví - 0: muž, 1: žena, 2: nespecifikováno\n",
        "* věk\n",
        "* hypertenze -  zvýšený krevní tlak 0: ne, 1: ano\n",
        "* nemoc_srdce - 0: neléčí se s žádnou srdeční nemocí, 1: trpí srdeční nemocí\n",
        "* manzelstvi - 0: nikdy nebyl(a) ženatý/vdaná, 1: byl(a) nebo je ženatý/vdaná\n",
        "* zamestnani - 0: dite, 1: nikdy nepracoval(a), 2: ve verejnem sektoru, 3: v soukromem sektoru, 4: OSVC\n",
        "* bydliste - 0: venkov, 1: mesto\n",
        "* cukr - množství cukru v krvi\n",
        "* bmi - body mass index, 0 pokud není známo\n",
        "* koureni - 0: neznamé, 1: nikdy nekouřil(a), 2: přestal(a) kouřit, 3: kouří\n",
        "* infarkt - 0: nikdy neprodělal(a) infarkt, 1: prodělal(a) infarkt"
      ]
    },
    {
      "cell_type": "code",
      "metadata": {
        "colab": {
          "base_uri": "https://localhost:8080/",
          "height": 235
        },
        "id": "OBhIZsCLd8KW",
        "outputId": "12f15325-6103-4aa3-d1c0-0f31a1227231"
      },
      "source": [
        "import pandas as pd\n",
        "\n",
        "data = pd.read_csv('https://raw.githubusercontent.com/mlcollege/ai-academy/main/07-klasifikace/data/infarkt.csv', index_col='id')\n",
        "data.head()"
      ],
      "execution_count": 1,
      "outputs": [
        {
          "output_type": "execute_result",
          "data": {
            "text/html": [
              "<div>\n",
              "<style scoped>\n",
              "    .dataframe tbody tr th:only-of-type {\n",
              "        vertical-align: middle;\n",
              "    }\n",
              "\n",
              "    .dataframe tbody tr th {\n",
              "        vertical-align: top;\n",
              "    }\n",
              "\n",
              "    .dataframe thead th {\n",
              "        text-align: right;\n",
              "    }\n",
              "</style>\n",
              "<table border=\"1\" class=\"dataframe\">\n",
              "  <thead>\n",
              "    <tr style=\"text-align: right;\">\n",
              "      <th></th>\n",
              "      <th>pohlavi</th>\n",
              "      <th>vek</th>\n",
              "      <th>hypertenze</th>\n",
              "      <th>nemoc_srdce</th>\n",
              "      <th>manzelstvi</th>\n",
              "      <th>zamestnani</th>\n",
              "      <th>bydliste</th>\n",
              "      <th>cukr</th>\n",
              "      <th>bmi</th>\n",
              "      <th>koureni</th>\n",
              "      <th>infarkt</th>\n",
              "    </tr>\n",
              "    <tr>\n",
              "      <th>id</th>\n",
              "      <th></th>\n",
              "      <th></th>\n",
              "      <th></th>\n",
              "      <th></th>\n",
              "      <th></th>\n",
              "      <th></th>\n",
              "      <th></th>\n",
              "      <th></th>\n",
              "      <th></th>\n",
              "      <th></th>\n",
              "      <th></th>\n",
              "    </tr>\n",
              "  </thead>\n",
              "  <tbody>\n",
              "    <tr>\n",
              "      <th>9046</th>\n",
              "      <td>0</td>\n",
              "      <td>67.0</td>\n",
              "      <td>0</td>\n",
              "      <td>1</td>\n",
              "      <td>1</td>\n",
              "      <td>3</td>\n",
              "      <td>1</td>\n",
              "      <td>228.69</td>\n",
              "      <td>36.6</td>\n",
              "      <td>2</td>\n",
              "      <td>1</td>\n",
              "    </tr>\n",
              "    <tr>\n",
              "      <th>51676</th>\n",
              "      <td>1</td>\n",
              "      <td>61.0</td>\n",
              "      <td>0</td>\n",
              "      <td>0</td>\n",
              "      <td>1</td>\n",
              "      <td>4</td>\n",
              "      <td>0</td>\n",
              "      <td>202.21</td>\n",
              "      <td>0.0</td>\n",
              "      <td>1</td>\n",
              "      <td>1</td>\n",
              "    </tr>\n",
              "    <tr>\n",
              "      <th>31112</th>\n",
              "      <td>0</td>\n",
              "      <td>80.0</td>\n",
              "      <td>0</td>\n",
              "      <td>1</td>\n",
              "      <td>1</td>\n",
              "      <td>3</td>\n",
              "      <td>0</td>\n",
              "      <td>105.92</td>\n",
              "      <td>32.5</td>\n",
              "      <td>1</td>\n",
              "      <td>1</td>\n",
              "    </tr>\n",
              "    <tr>\n",
              "      <th>60182</th>\n",
              "      <td>1</td>\n",
              "      <td>49.0</td>\n",
              "      <td>0</td>\n",
              "      <td>0</td>\n",
              "      <td>1</td>\n",
              "      <td>3</td>\n",
              "      <td>1</td>\n",
              "      <td>171.23</td>\n",
              "      <td>34.4</td>\n",
              "      <td>3</td>\n",
              "      <td>1</td>\n",
              "    </tr>\n",
              "    <tr>\n",
              "      <th>1665</th>\n",
              "      <td>1</td>\n",
              "      <td>79.0</td>\n",
              "      <td>1</td>\n",
              "      <td>0</td>\n",
              "      <td>1</td>\n",
              "      <td>4</td>\n",
              "      <td>0</td>\n",
              "      <td>174.12</td>\n",
              "      <td>24.0</td>\n",
              "      <td>1</td>\n",
              "      <td>1</td>\n",
              "    </tr>\n",
              "  </tbody>\n",
              "</table>\n",
              "</div>"
            ],
            "text/plain": [
              "       pohlavi   vek  hypertenze  nemoc_srdce  ...    cukr   bmi  koureni  infarkt\n",
              "id                                             ...                                \n",
              "9046         0  67.0           0            1  ...  228.69  36.6        2        1\n",
              "51676        1  61.0           0            0  ...  202.21   0.0        1        1\n",
              "31112        0  80.0           0            1  ...  105.92  32.5        1        1\n",
              "60182        1  49.0           0            0  ...  171.23  34.4        3        1\n",
              "1665         1  79.0           1            0  ...  174.12  24.0        1        1\n",
              "\n",
              "[5 rows x 11 columns]"
            ]
          },
          "metadata": {
            "tags": []
          },
          "execution_count": 1
        }
      ]
    },
    {
      "cell_type": "markdown",
      "metadata": {
        "id": "jDHhb_xCmf7e"
      },
      "source": [
        "## Příprava dat\n",
        "\n",
        "Nejprve si rozdělíme data na trénovací a testovací část.\n"
      ]
    },
    {
      "cell_type": "code",
      "metadata": {
        "colab": {
          "base_uri": "https://localhost:8080/"
        },
        "id": "BdGLR4PZeJWq",
        "outputId": "6f785f00-1faa-4754-98a2-9483f7f01031"
      },
      "source": [
        "from sklearn.model_selection import train_test_split\n",
        "\n",
        "vstupni_atributy = ['pohlavi', 'vek',\t'hypertenze', 'nemoc_srdce', 'manzelstvi', \n",
        "                    'zamestnani', 'bydliste', 'cukr', 'bmi', 'koureni']\n",
        "vystupni_atribut = 'infarkt'\n",
        "\n",
        "X_train, X_test, y_train, y_test = train_test_split(data[vstupni_atributy], data[vystupni_atribut], test_size=0.3, random_state=4)\n",
        "print('Velikost trenovaci casti: {}'.format(len(X_train)))\n",
        "print('Velikost testovaci casti: {}'.format(len(X_test)))"
      ],
      "execution_count": 2,
      "outputs": [
        {
          "output_type": "stream",
          "text": [
            "Velikost trenovaci casti: 3577\n",
            "Velikost testovaci casti: 1533\n"
          ],
          "name": "stdout"
        }
      ]
    },
    {
      "cell_type": "markdown",
      "metadata": {
        "id": "NT3ghGDu_bSq"
      },
      "source": [
        "Nyní zjistíme, jaké je zastoupení obou tříd cílového atributu."
      ]
    },
    {
      "cell_type": "code",
      "metadata": {
        "id": "M3Z5HN5q_98r"
      },
      "source": [
        "#TODO"
      ],
      "execution_count": 3,
      "outputs": []
    },
    {
      "cell_type": "markdown",
      "metadata": {
        "id": "lrZt8AKljbx5"
      },
      "source": [
        "#Vytvoření a natrénování modelu\n",
        "\n",
        "Vyzkoušejte použít logistickou regresi a náhodné stromy pro klasifikaci. Výsledek vyhodnoťte vhodným ukazatelem úspěšnosti."
      ]
    },
    {
      "cell_type": "code",
      "metadata": {
        "id": "eygB2boBlC9T"
      },
      "source": [
        "from sklearn.linear_model import LogisticRegression\n",
        "from sklearn.ensemble import RandomForestClassifier\n",
        "from sklearn.preprocessing import StandardScaler\n",
        "from sklearn.pipeline import Pipeline\n",
        "\n",
        "#TODO"
      ],
      "execution_count": 4,
      "outputs": []
    },
    {
      "cell_type": "markdown",
      "metadata": {
        "id": "0u_a-1YfmFFz"
      },
      "source": [
        "Pro vyhodnocení modelu je vhodné se dívat na precision, recall a f1-score. Accuracy bude díky nevyváženosti data setu vysoká."
      ]
    },
    {
      "cell_type": "code",
      "metadata": {
        "id": "IKQA7C2QlWty"
      },
      "source": [
        "from sklearn import metrics\n",
        "from sklearn.metrics import accuracy_score\n",
        "\n",
        "#TODO"
      ],
      "execution_count": 5,
      "outputs": []
    }
  ]
}