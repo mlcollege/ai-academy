{
  "nbformat": 4,
  "nbformat_minor": 0,
  "metadata": {
    "colab": {
      "name": "Predikce_infarktu_myokardu_vylepseni.ipynb",
      "provenance": []
    },
    "kernelspec": {
      "name": "python3",
      "display_name": "Python 3"
    },
    "language_info": {
      "name": "python"
    }
  },
  "cells": [
    {
      "cell_type": "markdown",
      "metadata": {
        "id": "-V9g6pKj77_a"
      },
      "source": [
        "#Predikce infarktu myokardu\n",
        "\n",
        "Cílem úlohy je na základě několika málo atributů určit, jestli člověk prodělal infarkt myokardu. Data set je převzatý a upravený z repozitáře [Kaggle](https://www.kaggle.com/fedesoriano/stroke-prediction-dataset?select=healthcare-dataset-stroke-data.csv). Přestože všechny použité atributy mají na vznik infarktu vliv, úlohu není možné vyřešit příliš přesně. To ji dělá zajímavější. \n",
        "\n",
        "Dalším problémem je velká nevyváženost hodnot cílového atributu. Předtím, než začnete problém modelovat, zjistěte, jaké je zastoupení hodnot 0 a 1 u atributu _infarkt_. Diskutujte, na co to má vliv a na co je třeba dávat pozor.\n",
        "\n",
        "Použité atributy:\n",
        "* pohlaví - 0: muž, 1: žena, 2: nespecifikováno\n",
        "* věk\n",
        "* hypertenze -  zvýšený krevní tlak 0: ne, 1: ano\n",
        "* nemoc_srdce - 0: neléčí se s žádnou srdeční nemocí, 1: trpí srdeční nemocí\n",
        "* manzelstvi - 0: nikdy nebyl(a) ženatý/vdaná, 1: byl(a) nebo je ženatý/vdaná\n",
        "* zamestnani - 0: dite, 1: nikdy nepracoval(a), 2: ve verejnem sektoru, 3: v soukromem sektoru, 4: OSVC\n",
        "* bydliste - 0: venkov, 1: mesto\n",
        "* cukr - množství cukru v krvi\n",
        "* bmi - body mass index, 0 pokud není známo\n",
        "* koureni - 0: neznamé, 1: nikdy nekouřil(a), 2: přestal(a) kouřit, 3: kouří\n",
        "* infarkt - 0: nikdy neprodělal(a) infarkt, 1: prodělal(a) infarkt"
      ]
    },
    {
      "cell_type": "code",
      "metadata": {
        "colab": {
          "base_uri": "https://localhost:8080/",
          "height": 235
        },
        "id": "OBhIZsCLd8KW",
        "outputId": "8ac44dc8-58c5-4569-f5d4-0aa3ec75a20b"
      },
      "source": [
        "import pandas as pd\n",
        "\n",
        "data = pd.read_csv('https://raw.githubusercontent.com/mlcollege/ai-academy/main/07-klasifikace/data/infarkt.csv', index_col='id')\n",
        "data.head()"
      ],
      "execution_count": 1,
      "outputs": [
        {
          "output_type": "execute_result",
          "data": {
            "text/html": [
              "<div>\n",
              "<style scoped>\n",
              "    .dataframe tbody tr th:only-of-type {\n",
              "        vertical-align: middle;\n",
              "    }\n",
              "\n",
              "    .dataframe tbody tr th {\n",
              "        vertical-align: top;\n",
              "    }\n",
              "\n",
              "    .dataframe thead th {\n",
              "        text-align: right;\n",
              "    }\n",
              "</style>\n",
              "<table border=\"1\" class=\"dataframe\">\n",
              "  <thead>\n",
              "    <tr style=\"text-align: right;\">\n",
              "      <th></th>\n",
              "      <th>pohlavi</th>\n",
              "      <th>vek</th>\n",
              "      <th>hypertenze</th>\n",
              "      <th>nemoc_srdce</th>\n",
              "      <th>manzelstvi</th>\n",
              "      <th>zamestnani</th>\n",
              "      <th>bydliste</th>\n",
              "      <th>cukr</th>\n",
              "      <th>bmi</th>\n",
              "      <th>koureni</th>\n",
              "      <th>infarkt</th>\n",
              "    </tr>\n",
              "    <tr>\n",
              "      <th>id</th>\n",
              "      <th></th>\n",
              "      <th></th>\n",
              "      <th></th>\n",
              "      <th></th>\n",
              "      <th></th>\n",
              "      <th></th>\n",
              "      <th></th>\n",
              "      <th></th>\n",
              "      <th></th>\n",
              "      <th></th>\n",
              "      <th></th>\n",
              "    </tr>\n",
              "  </thead>\n",
              "  <tbody>\n",
              "    <tr>\n",
              "      <th>9046</th>\n",
              "      <td>0</td>\n",
              "      <td>67.0</td>\n",
              "      <td>0</td>\n",
              "      <td>1</td>\n",
              "      <td>1</td>\n",
              "      <td>3</td>\n",
              "      <td>1</td>\n",
              "      <td>228.69</td>\n",
              "      <td>36.6</td>\n",
              "      <td>2</td>\n",
              "      <td>1</td>\n",
              "    </tr>\n",
              "    <tr>\n",
              "      <th>51676</th>\n",
              "      <td>1</td>\n",
              "      <td>61.0</td>\n",
              "      <td>0</td>\n",
              "      <td>0</td>\n",
              "      <td>1</td>\n",
              "      <td>4</td>\n",
              "      <td>0</td>\n",
              "      <td>202.21</td>\n",
              "      <td>0.0</td>\n",
              "      <td>1</td>\n",
              "      <td>1</td>\n",
              "    </tr>\n",
              "    <tr>\n",
              "      <th>31112</th>\n",
              "      <td>0</td>\n",
              "      <td>80.0</td>\n",
              "      <td>0</td>\n",
              "      <td>1</td>\n",
              "      <td>1</td>\n",
              "      <td>3</td>\n",
              "      <td>0</td>\n",
              "      <td>105.92</td>\n",
              "      <td>32.5</td>\n",
              "      <td>1</td>\n",
              "      <td>1</td>\n",
              "    </tr>\n",
              "    <tr>\n",
              "      <th>60182</th>\n",
              "      <td>1</td>\n",
              "      <td>49.0</td>\n",
              "      <td>0</td>\n",
              "      <td>0</td>\n",
              "      <td>1</td>\n",
              "      <td>3</td>\n",
              "      <td>1</td>\n",
              "      <td>171.23</td>\n",
              "      <td>34.4</td>\n",
              "      <td>3</td>\n",
              "      <td>1</td>\n",
              "    </tr>\n",
              "    <tr>\n",
              "      <th>1665</th>\n",
              "      <td>1</td>\n",
              "      <td>79.0</td>\n",
              "      <td>1</td>\n",
              "      <td>0</td>\n",
              "      <td>1</td>\n",
              "      <td>4</td>\n",
              "      <td>0</td>\n",
              "      <td>174.12</td>\n",
              "      <td>24.0</td>\n",
              "      <td>1</td>\n",
              "      <td>1</td>\n",
              "    </tr>\n",
              "  </tbody>\n",
              "</table>\n",
              "</div>"
            ],
            "text/plain": [
              "       pohlavi   vek  hypertenze  nemoc_srdce  ...    cukr   bmi  koureni  infarkt\n",
              "id                                             ...                                \n",
              "9046         0  67.0           0            1  ...  228.69  36.6        2        1\n",
              "51676        1  61.0           0            0  ...  202.21   0.0        1        1\n",
              "31112        0  80.0           0            1  ...  105.92  32.5        1        1\n",
              "60182        1  49.0           0            0  ...  171.23  34.4        3        1\n",
              "1665         1  79.0           1            0  ...  174.12  24.0        1        1\n",
              "\n",
              "[5 rows x 11 columns]"
            ]
          },
          "metadata": {
            "tags": []
          },
          "execution_count": 1
        }
      ]
    },
    {
      "cell_type": "markdown",
      "metadata": {
        "id": "jDHhb_xCmf7e"
      },
      "source": [
        "## Příprava dat\n",
        "\n",
        "Nejprve si rozdělíme data na trénovací a testovací část.\n"
      ]
    },
    {
      "cell_type": "code",
      "metadata": {
        "colab": {
          "base_uri": "https://localhost:8080/"
        },
        "id": "BdGLR4PZeJWq",
        "outputId": "6a7596ea-48db-4dab-b1d7-2be8de6ae178"
      },
      "source": [
        "from sklearn.model_selection import train_test_split\n",
        "\n",
        "vstupni_atributy = ['pohlavi', 'vek',\t'hypertenze', 'nemoc_srdce', 'manzelstvi', \n",
        "                    'zamestnani', 'bydliste', 'cukr', 'bmi', 'koureni']\n",
        "vystupni_atribut = 'infarkt'\n",
        "\n",
        "X_train, X_test, y_train, y_test = train_test_split(data[vstupni_atributy], data[vystupni_atribut], test_size=0.3, random_state=4)\n",
        "print('Velikost trenovaci casti: {}'.format(len(X_train)))\n",
        "print('Velikost testovaci casti: {}'.format(len(X_test)))"
      ],
      "execution_count": 2,
      "outputs": [
        {
          "output_type": "stream",
          "text": [
            "Velikost trenovaci casti: 3577\n",
            "Velikost testovaci casti: 1533\n"
          ],
          "name": "stdout"
        }
      ]
    },
    {
      "cell_type": "markdown",
      "metadata": {
        "id": "NT3ghGDu_bSq"
      },
      "source": [
        "Nyní zjistíme, jaké je zastoupení obou tříd cílového atributu."
      ]
    },
    {
      "cell_type": "code",
      "metadata": {
        "colab": {
          "base_uri": "https://localhost:8080/",
          "height": 435
        },
        "id": "M3Z5HN5q_98r",
        "outputId": "e0abae6d-1200-4e71-fdda-6ba2669f10a5"
      },
      "source": [
        "print(\"Trénovací data: \\n{}\".format(y_train.value_counts()))\n",
        "print()\n",
        "print(\"Testovací data: \\n{}\".format(y_test.value_counts()))\n",
        "print()\n",
        "y_train.value_counts().plot.pie(autopct='%1.1f%%')\n",
        "print ('Poměry tříd')"
      ],
      "execution_count": 3,
      "outputs": [
        {
          "output_type": "stream",
          "text": [
            "Trénovací data: \n",
            "0    3396\n",
            "1     181\n",
            "Name: infarkt, dtype: int64\n",
            "\n",
            "Testovací data: \n",
            "0    1465\n",
            "1      68\n",
            "Name: infarkt, dtype: int64\n",
            "\n",
            "Poměry tříd\n"
          ],
          "name": "stdout"
        },
        {
          "output_type": "display_data",
          "data": {
            "image/png": "[encoded data removed]",
            "text/plain": [
              "<Figure size 432x288 with 1 Axes>"
            ]
          },
          "metadata": {
            "tags": []
          }
        }
      ]
    },
    {
      "cell_type": "markdown",
      "metadata": {
        "id": "-HpbHsfIWZcE"
      },
      "source": [
        "Z analýzy je vidět, že třída 0 (neměl(a) infrakt) je zastoupená výrazně více (94.9 %) než třída 1 (5.1 %). To znamená, že je obtížnější takto málo zastoupenou třídu modelovat. Kromě toho není vhodné používat jako ukazatel úspěšnosti accuracy. Pokud by náš klasifikátor vždy vrátil predikci 0, jeho accuracy by byla 0.949, přestože by takový model nebyl k ničemu. Z toho důvodu jsou mnohem vhodnějšími ukazateli kvality modelu precision a recall. "
      ]
    },
    {
      "cell_type": "markdown",
      "metadata": {
        "id": "UM8JZNOP-UD2"
      },
      "source": [
        "## Práce s kategorickými atributy\n",
        "\n",
        "Některé z atributů jsou takzvaně kategorické (jejich hodnotami jsou kategorie) a nemá smysl je zpracovávat jako číselné atributy. Jedná se o atributy _pohlavi_, _zamestnani_ a _koureni_. Volba číselných označení jejich kategorií byla čistě náhodná a klidně by mohla být úplně jiná. S takovými atributy je správné zacházet jiným způsobem.\n",
        "\n",
        "Nejčastějším zpracováním kategorických atributů je použití takzvaného [one-hot encoding](https://en.wikipedia.org/wiki/One-hot). Namísto jednoho atributu, který může nabývat například tří hodnot, budeme mít v této reprezentaci 3 atributy, kde je jeden z nich nastaven na 1 a ostatní na 0. Proto se one-hot ecoding někdy do češtiny překládá jako \"jeden z n\".\n",
        "\n",
        "Ve ScikitLearn je pro takové zakódování možné použít například [ColumnTransformer](https://scikit-learn.org/stable/modules/generated/sklearn.compose.ColumnTransformer.html). V něm můžeme specifikovat, které atributy budou standardizované, které budou kódované \"one-hot\" a které zůstanou beze změny."
      ]
    },
    {
      "cell_type": "markdown",
      "metadata": {
        "id": "lrZt8AKljbx5"
      },
      "source": [
        "#Vytvoření a natrénování modelu\n",
        "\n",
        "Vykoušejte použít logistickou regresi a náhodné stromy pro klasifikaci. Výsledek vyhodnoťte vhodným ukazatelem úspěšnosti.\n",
        "\n"
      ]
    },
    {
      "cell_type": "code",
      "metadata": {
        "id": "eygB2boBlC9T"
      },
      "source": [
        "from sklearn.linear_model import LogisticRegression\n",
        "from sklearn.ensemble import RandomForestClassifier\n",
        "from sklearn.preprocessing import StandardScaler\n",
        "from sklearn.preprocessing import OneHotEncoder\n",
        "from sklearn.compose import ColumnTransformer\n",
        "from sklearn.pipeline import Pipeline\n",
        "\n",
        "column_trans = ColumnTransformer(\n",
        "    [('ohe', OneHotEncoder(categories='auto'),['pohlavi', 'zamestnani', 'koureni']),\n",
        "     ('std', StandardScaler(), ['vek', 'cukr', 'bmi'])\n",
        "    ], remainder='passthrough')\n",
        "\n",
        "model = Pipeline([('trans', column_trans),\n",
        "                  #('lr', LogisticRegression())])\n",
        "                  ('rf', RandomForestClassifier(n_estimators=1000))])\n",
        "\n",
        "model.fit(X_train, y_train)"
      ],
      "execution_count": null,
      "outputs": []
    },
    {
      "cell_type": "markdown",
      "metadata": {
        "id": "0u_a-1YfmFFz"
      },
      "source": [
        "Pro vyhodnocení modelu je vhodné se dívat na precision, recall a f1-score. Accuracy bude díky nevyváženosti data setu vysoká."
      ]
    },
    {
      "cell_type": "code",
      "metadata": {
        "colab": {
          "base_uri": "https://localhost:8080/"
        },
        "id": "IKQA7C2QlWty",
        "outputId": "49eaa6a9-f040-429b-bdd5-a79e1f639550"
      },
      "source": [
        "from sklearn import metrics\n",
        "from sklearn.metrics import accuracy_score\n",
        "\n",
        "y_pred = model.predict(X_test)\n",
        "\n",
        "print (\"Celkova spravnost klasifikace pro testovaci data: {:.2f}\".format(accuracy_score(y_test, y_pred)))\n",
        "print ()\n",
        "print(metrics.classification_report(y_test, y_pred))"
      ],
      "execution_count": 5,
      "outputs": [
        {
          "output_type": "stream",
          "text": [
            "Celkova spravnost klasifikace pro testovaci data: 0.95\n",
            "\n",
            "              precision    recall  f1-score   support\n",
            "\n",
            "           0       0.96      1.00      0.98      1465\n",
            "           1       0.44      0.06      0.10        68\n",
            "\n",
            "    accuracy                           0.95      1533\n",
            "   macro avg       0.70      0.53      0.54      1533\n",
            "weighted avg       0.94      0.95      0.94      1533\n",
            "\n"
          ],
          "name": "stdout"
        }
      ]
    },
    {
      "cell_type": "markdown",
      "metadata": {
        "id": "3YZlkKhVYstK"
      },
      "source": [
        "##Významnost jednotlivých atributů\n",
        "\n",
        "Pro určení významnosti jednotlivých atributů si můžeme v případě lineární regrese vypsat jejich koeficienty. V případě rozhodovacích stromů nabízí ScikitLearn možnost vypsat [feature importance](https://scikit-learn.org/stable/modules/generated/sklearn.ensemble.RandomForestClassifier.html#sklearn.ensemble.RandomForestClassifier.feature_importances_). Dejte však pozor na ukvapenou interpretaci. Množství trénovacích příkladů je malé a výsledná kvalita predikce nízká."
      ]
    },
    {
      "cell_type": "code",
      "metadata": {
        "colab": {
          "base_uri": "https://localhost:8080/"
        },
        "id": "OrfnfCxUpY1H",
        "outputId": "07ca4203-c2c3-4427-d221-a2fa700d48c5"
      },
      "source": [
        "import numpy as np\n",
        "feature_names = ['pohlavi_muz', 'pohlavi_zena', 'pohlavi_nespecifikovano',\n",
        "                 'zamestnani_dite', 'zamestnani_nepracoval', 'zamestnani_verejny_sektor', 'zamestnani_soukromy_sektor', 'zamestnani_osvc',\n",
        "                 'koureni_nezname', 'koureni_nikdy', 'koureni_prestal', 'koureni_kouri',\n",
        "                 'vek', 'cukr', 'bmi',\n",
        "                 'hypertenze', 'nemoc_srdce', 'manzelstvi', 'bydliste']\n",
        "#importances = model['lr'].coef_[0]\n",
        "importances = model['rf'].feature_importances_\n",
        "\n",
        "result = sorted (zip(feature_names, importances), key = lambda x: -np.abs(x[1]))\n",
        "for k,v in result[:5]:\n",
        "  print (k,v)"
      ],
      "execution_count": 6,
      "outputs": [
        {
          "output_type": "stream",
          "text": [
            "cukr 0.25950372076071954\n",
            "vek 0.2465920567981289\n",
            "bmi 0.22310741198364056\n",
            "bydliste 0.034050079493547776\n",
            "hypertenze 0.027831939890570166\n"
          ],
          "name": "stdout"
        }
      ]
    }
  ]
}