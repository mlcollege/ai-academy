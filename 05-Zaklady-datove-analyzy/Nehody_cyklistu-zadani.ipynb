{
  "nbformat": 4,
  "nbformat_minor": 0,
  "metadata": {
    "kernelspec": {
      "display_name": "Python 3",
      "language": "python",
      "name": "python3"
    },
    "language_info": {
      "codemirror_mode": {
        "name": "ipython",
        "version": 3
      },
      "file_extension": ".py",
      "mimetype": "text/x-python",
      "name": "python",
      "nbconvert_exporter": "python",
      "pygments_lexer": "ipython3",
      "version": "3.7.3"
    },
    "colab": {
      "name": "Nehody_cyklistu-zadani.ipynb",
      "provenance": []
    }
  },
  "cells": [
    {
      "cell_type": "markdown",
      "metadata": {
        "id": "F-wcDgIEFDq9"
      },
      "source": [
        "# Analýza nehod cyklistů v Brně\n",
        "\n",
        "Datová sada pochází z portálu https://data.brno.cz/ a obsahuje záznamy o všech evidovaných nehodách cyklistů na území Brna od roku 2010 do roku 2021."
      ]
    },
    {
      "cell_type": "markdown",
      "metadata": {
        "id": "lwZ7C-J8FDq-"
      },
      "source": [
        "## Načtení dat do dataframu Pandas"
      ]
    },
    {
      "cell_type": "code",
      "metadata": {
        "id": "NNhu5apiFDq-",
        "outputId": "f995fe6f-dad7-4f5b-a439-58a03a576648",
        "colab": {
          "base_uri": "https://localhost:8080/",
          "height": 340
        }
      },
      "source": [
        "import pandas as pd \n",
        "data = pd.read_csv(\"https://raw.githubusercontent.com/mlcollege/ai-academy/main/05-Zaklady-datove-analyzy/data/nehody_cyklistu.csv\", sep=';')\n",
        "data.head()"
      ],
      "execution_count": 1,
      "outputs": [
        {
          "output_type": "execute_result",
          "data": {
            "text/html": [
              "<div>\n",
              "<style scoped>\n",
              "    .dataframe tbody tr th:only-of-type {\n",
              "        vertical-align: middle;\n",
              "    }\n",
              "\n",
              "    .dataframe tbody tr th {\n",
              "        vertical-align: top;\n",
              "    }\n",
              "\n",
              "    .dataframe thead th {\n",
              "        text-align: right;\n",
              "    }\n",
              "</style>\n",
              "<table border=\"1\" class=\"dataframe\">\n",
              "  <thead>\n",
              "    <tr style=\"text-align: right;\">\n",
              "      <th></th>\n",
              "      <th>datum</th>\n",
              "      <th>srazka</th>\n",
              "      <th>zavineni</th>\n",
              "      <th>alkohol</th>\n",
              "      <th>nasledek</th>\n",
              "      <th>prilba</th>\n",
              "      <th>pohlavi</th>\n",
              "    </tr>\n",
              "  </thead>\n",
              "  <tbody>\n",
              "    <tr>\n",
              "      <th>0</th>\n",
              "      <td>2013/10/16 00:00:00+00</td>\n",
              "      <td>srážka s jedoucím nekolejovým vozidlem</td>\n",
              "      <td>řidičem motorového vozidla</td>\n",
              "      <td>Ano, obsah alkoholu v krvi od 0,5‰ do 0,8‰</td>\n",
              "      <td>lehké zranění</td>\n",
              "      <td>ano</td>\n",
              "      <td>muž</td>\n",
              "    </tr>\n",
              "    <tr>\n",
              "      <th>1</th>\n",
              "      <td>2014/06/14 00:00:00+00</td>\n",
              "      <td>srážka s chodcem</td>\n",
              "      <td>chodcem</td>\n",
              "      <td>Ne</td>\n",
              "      <td>lehké zranění</td>\n",
              "      <td>ne</td>\n",
              "      <td>muž</td>\n",
              "    </tr>\n",
              "    <tr>\n",
              "      <th>2</th>\n",
              "      <td>2014/08/13 00:00:00+00</td>\n",
              "      <td>havárie</td>\n",
              "      <td>řidičem nemotorového vozidla</td>\n",
              "      <td>Ano, obsah alkoholu v krvi 1,5‰ a více</td>\n",
              "      <td>lehké zranění</td>\n",
              "      <td>ne</td>\n",
              "      <td>muž</td>\n",
              "    </tr>\n",
              "    <tr>\n",
              "      <th>3</th>\n",
              "      <td>2014/08/29 00:00:00+00</td>\n",
              "      <td>havárie</td>\n",
              "      <td>řidičem nemotorového vozidla</td>\n",
              "      <td>Ano, obsah alkoholu v krvi 1,5‰ a více</td>\n",
              "      <td>lehké zranění</td>\n",
              "      <td>ne</td>\n",
              "      <td>muž</td>\n",
              "    </tr>\n",
              "    <tr>\n",
              "      <th>4</th>\n",
              "      <td>2015/02/02 00:00:00+00</td>\n",
              "      <td>srážka s vozidlem zaparkovaným, odstaveným</td>\n",
              "      <td>řidičem nemotorového vozidla</td>\n",
              "      <td>Ano, obsah alkoholu v krvi 1,5‰ a více</td>\n",
              "      <td>lehké zranění</td>\n",
              "      <td>ne</td>\n",
              "      <td>muž</td>\n",
              "    </tr>\n",
              "  </tbody>\n",
              "</table>\n",
              "</div>"
            ],
            "text/plain": [
              "                    datum  ... pohlavi\n",
              "0  2013/10/16 00:00:00+00  ...     muž\n",
              "1  2014/06/14 00:00:00+00  ...     muž\n",
              "2  2014/08/13 00:00:00+00  ...     muž\n",
              "3  2014/08/29 00:00:00+00  ...     muž\n",
              "4  2015/02/02 00:00:00+00  ...     muž\n",
              "\n",
              "[5 rows x 7 columns]"
            ]
          },
          "metadata": {
            "tags": []
          },
          "execution_count": 1
        }
      ]
    },
    {
      "cell_type": "markdown",
      "metadata": {
        "id": "Ywh8ZhYJFDq_"
      },
      "source": [
        "## Vizualizace\n",
        "\n",
        "Vizualizujeme jednotlivé atributy formou vykreslení histogramu jejich hodnot."
      ]
    },
    {
      "cell_type": "code",
      "metadata": {
        "id": "bnjt_RJNFDq_",
        "outputId": "22d57470-69f1-4519-9d62-421de4d976ce",
        "colab": {
          "base_uri": "https://localhost:8080/",
          "height": 505
        }
      },
      "source": [
        "data['srazka'].value_counts().plot.bar()\n",
        "print ('Klasifikace nehody.')"
      ],
      "execution_count": 2,
      "outputs": [
        {
          "output_type": "stream",
          "text": [
            "Klasifikace nehody.\n"
          ],
          "name": "stdout"
        },
        {
          "output_type": "display_data",
          "data": {
            "image/png": "[encoded data removed]",
            "text/plain": [
              "<Figure size 432x288 with 1 Axes>"
            ]
          },
          "metadata": {
            "tags": [],
            "needs_background": "light"
          }
        }
      ]
    },
    {
      "cell_type": "code",
      "metadata": {
        "id": "0wETuTRBFDq_",
        "outputId": "3ec87c1c-5639-4b3c-8a1b-b6d36cb35fb3",
        "colab": {
          "base_uri": "https://localhost:8080/",
          "height": 454
        }
      },
      "source": [
        "data['zavineni'].value_counts().plot.bar()\n",
        "print ('Zavinění nehody.')"
      ],
      "execution_count": 3,
      "outputs": [
        {
          "output_type": "stream",
          "text": [
            "Zavinění nehody.\n"
          ],
          "name": "stdout"
        },
        {
          "output_type": "display_data",
          "data": {
            "image/png": "[encoded data removed]",
            "text/plain": [
              "<Figure size 432x288 with 1 Axes>"
            ]
          },
          "metadata": {
            "tags": [],
            "needs_background": "light"
          }
        }
      ]
    },
    {
      "cell_type": "code",
      "metadata": {
        "id": "bWk9Q2F2FDrA",
        "outputId": "d7064add-1ee3-4609-8f61-032b8124dcbc",
        "colab": {
          "base_uri": "https://localhost:8080/",
          "height": 505
        }
      },
      "source": [
        "data['alkohol'].value_counts().plot.bar()\n",
        "print ('Přítomnost návykových látek v krvi.')"
      ],
      "execution_count": 4,
      "outputs": [
        {
          "output_type": "stream",
          "text": [
            "Přítomnost návykových látek v krvi.\n"
          ],
          "name": "stdout"
        },
        {
          "output_type": "display_data",
          "data": {
            "image/png": "[encoded data removed]",
            "text/plain": [
              "<Figure size 432x288 with 1 Axes>"
            ]
          },
          "metadata": {
            "tags": [],
            "needs_background": "light"
          }
        }
      ]
    },
    {
      "cell_type": "code",
      "metadata": {
        "id": "xPsOmNTmFDrA",
        "outputId": "babf39d2-299f-41c0-ed4a-9f23dac251f0",
        "colab": {
          "base_uri": "https://localhost:8080/",
          "height": 339
        }
      },
      "source": [
        "data['nasledek'].value_counts().plot.bar()\n",
        "print ('Následek nehody.')"
      ],
      "execution_count": 5,
      "outputs": [
        {
          "output_type": "stream",
          "text": [
            "Následek nehody.\n"
          ],
          "name": "stdout"
        },
        {
          "output_type": "display_data",
          "data": {
            "image/png": "[encoded data removed]",
            "text/plain": [
              "<Figure size 432x288 with 1 Axes>"
            ]
          },
          "metadata": {
            "tags": [],
            "needs_background": "light"
          }
        }
      ]
    },
    {
      "cell_type": "code",
      "metadata": {
        "id": "fZeXAR7LFDrB",
        "outputId": "f7a48fb9-cf33-4d50-a586-e6974b7c33f1",
        "colab": {
          "base_uri": "https://localhost:8080/",
          "height": 291
        }
      },
      "source": [
        "data['prilba'].value_counts().plot.bar()\n",
        "print ('Měl cyklista v době nehody na hlavě přilbu?')"
      ],
      "execution_count": 6,
      "outputs": [
        {
          "output_type": "stream",
          "text": [
            "Měl cyklista v době nehody na hlavě přilbu?\n"
          ],
          "name": "stdout"
        },
        {
          "output_type": "display_data",
          "data": {
            "image/png": "[encoded data removed]",
            "text/plain": [
              "<Figure size 432x288 with 1 Axes>"
            ]
          },
          "metadata": {
            "tags": [],
            "needs_background": "light"
          }
        }
      ]
    },
    {
      "cell_type": "code",
      "metadata": {
        "id": "kvEnLv1xFDrB",
        "outputId": "c9da77bb-cbb2-409a-c858-4108413735bd",
        "colab": {
          "base_uri": "https://localhost:8080/",
          "height": 366
        }
      },
      "source": [
        "data['pohlavi'].value_counts().plot.bar()\n",
        "print ('Pohlaví')"
      ],
      "execution_count": 7,
      "outputs": [
        {
          "output_type": "stream",
          "text": [
            "Pohlaví\n"
          ],
          "name": "stdout"
        },
        {
          "output_type": "display_data",
          "data": {
            "image/png": "[encoded data removed]",
            "text/plain": [
              "<Figure size 432x288 with 1 Axes>"
            ]
          },
          "metadata": {
            "tags": [],
            "needs_background": "light"
          }
        }
      ]
    },
    {
      "cell_type": "markdown",
      "metadata": {
        "id": "p3arGFm0FDrB"
      },
      "source": [
        "## Analýza dat"
      ]
    },
    {
      "cell_type": "markdown",
      "metadata": {
        "id": "DmyOBQs7FDrC"
      },
      "source": [
        " **Úkol č. 1:** Zjistěte, ve kterých dnech v týdnu a měsících dochází nehodám cyklistů nejčastěji."
      ]
    },
    {
      "cell_type": "markdown",
      "metadata": {
        "id": "dAA9iWLFFDrC"
      },
      "source": [
        "Převedeme první sloupec na datový typ datetime."
      ]
    },
    {
      "cell_type": "code",
      "metadata": {
        "id": "_tsY2_xUFDrC",
        "outputId": "f1644325-607b-4692-c795-385a146a97de",
        "colab": {
          "base_uri": "https://localhost:8080/"
        }
      },
      "source": [
        "data['datum'] = pd.to_datetime(data['datum'])\n",
        "print(data['datum'].dtype)"
      ],
      "execution_count": 8,
      "outputs": [
        {
          "output_type": "stream",
          "text": [
            "datetime64[ns, UTC]\n"
          ],
          "name": "stdout"
        }
      ]
    },
    {
      "cell_type": "markdown",
      "metadata": {
        "id": "fff6zflLFDrC"
      },
      "source": [
        "Vytvoříme nové sloupce, které budou odpovídat hodině, měsíci a dni v týdnu. Dále vytvoříme histogram pro jednotlivé dny a výsledek vizualizujeme."
      ]
    },
    {
      "cell_type": "code",
      "metadata": {
        "id": "Tk6wVLVcFDrC"
      },
      "source": [
        "data['dvt'] = data['datum'].dt.weekday\n",
        "weekDay = {0:'pondeli', 1:'utery', 2:'streda', 3:'ctvrtek', 4:'patek', 5:'sobota', 6:'nedele'}\n",
        "data['dvt'] = data['dvt'].map(weekDay)\n",
        "data['mesic'] = data['datum'].dt.month"
      ],
      "execution_count": 9,
      "outputs": []
    },
    {
      "cell_type": "code",
      "metadata": {
        "id": "R_JD3UjdFDrC",
        "outputId": "b1ea2d2a-a02a-4e37-b617-265e16390920",
        "colab": {
          "base_uri": "https://localhost:8080/",
          "height": 309
        }
      },
      "source": [
        "data['dvt'].value_counts().plot.bar()\n",
        "print(\"Počty nehod pro jednotlivé dny v týdnu.\")"
      ],
      "execution_count": 10,
      "outputs": [
        {
          "output_type": "stream",
          "text": [
            "Počty nehod pro jednotlivé dny v týdnu.\n"
          ],
          "name": "stdout"
        },
        {
          "output_type": "display_data",
          "data": {
            "image/png": "[encoded data removed]",
            "text/plain": [
              "<Figure size 432x288 with 1 Axes>"
            ]
          },
          "metadata": {
            "tags": [],
            "needs_background": "light"
          }
        }
      ]
    },
    {
      "cell_type": "code",
      "metadata": {
        "id": "bdTofrVwFDrD",
        "outputId": "20f188f2-9d15-49cf-b47b-9058b97cc072",
        "colab": {
          "base_uri": "https://localhost:8080/",
          "height": 286
        }
      },
      "source": [
        "data['mesic'].value_counts().plot.bar()\n",
        "print(\"Počty nehod pro jednotlivé měsíce.\")"
      ],
      "execution_count": 11,
      "outputs": [
        {
          "output_type": "stream",
          "text": [
            "Počty nehod pro jednotlivé měsíce.\n"
          ],
          "name": "stdout"
        },
        {
          "output_type": "display_data",
          "data": {
            "image/png": "[encoded data removed]",
            "text/plain": [
              "<Figure size 432x288 with 1 Axes>"
            ]
          },
          "metadata": {
            "tags": [],
            "needs_background": "light"
          }
        }
      ]
    },
    {
      "cell_type": "markdown",
      "metadata": {
        "id": "1nhCCA_cFDrD"
      },
      "source": [
        "### Otázky k diskuzi\n",
        "* Jak se dají interpretovat výsledky?\n",
        "* Lze z výsledků usuzovat, že budeme podstupovat nejvyšší riziko, pokud se na kole po Brně vydáme ve středu nebo v srpnu?\n",
        "* Jaká dodatečná data by nám pomohla lépe určit rizikovost jízdy na kole pro daná období?"
      ]
    },
    {
      "cell_type": "markdown",
      "metadata": {
        "id": "NcQ-FPnUFDrD"
      },
      "source": [
        " **Úkol č. 2:** Vytvořte koláčové grafy následků nehody zvlášť pro cyklisty s přilbou a bez přilby a zhodnoťte, zda data prokazují, že má nošení přilby vliv na snížení závažnosti následků."
      ]
    },
    {
      "cell_type": "code",
      "metadata": {
        "id": "dhsn797YFDrD"
      },
      "source": [
        "#TODO"
      ],
      "execution_count": 12,
      "outputs": []
    },
    {
      "cell_type": "markdown",
      "metadata": {
        "id": "93mLh0CIFDrD"
      },
      "source": [
        "**Úkol č. 3:** Zjistěte, zda v Brně nosí cyklistickou helmu častěji muži nebo ženy."
      ]
    },
    {
      "cell_type": "code",
      "metadata": {
        "id": "Z38zM04-FDrD"
      },
      "source": [
        "#TODO"
      ],
      "execution_count": 13,
      "outputs": []
    }
  ]
}