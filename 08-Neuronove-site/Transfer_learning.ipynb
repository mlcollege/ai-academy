{
  "nbformat": 4,
  "nbformat_minor": 0,
  "metadata": {
    "colab": {
      "name": "Transfer_learning.ipynb",
      "provenance": [],
      "collapsed_sections": []
    },
    "kernelspec": {
      "name": "python3",
      "display_name": "Python 3"
    },
    "accelerator": "GPU"
  },
  "cells": [
    {
      "cell_type": "markdown",
      "metadata": {
        "id": "hOF_INxUcPLD"
      },
      "source": [
        "# Transfer Learning\n",
        "\n",
        "Cílem této úlohy je ukázat, jak se dají použít předtrénované neuronové sítě pro řešení problémů, pro které nebyly původně trénovány.\n",
        "\n",
        "\n",
        "## Data\n",
        "\n",
        "Pro klasifikaci použijeme data set [Cifar 10 dataset](https://www.cs.toronto.edu/~kriz/cifar.html). Tento data set obsahuje 60000 barevných obrázků velikosti 32x32 pixelů, rozřazených do 10 tříd. Data set je již rozdělený na 50000 trénovacích příkladů a 10000 testovacích příkladů.\n",
        "\n",
        "Zde je ukázka nějakolika příkladů obrázků pro každou třídu:\n",
        "\n",
        "![cifar10](https://github.com/mlcollege/deep-learning-rb/blob/master/images/cifar10.png?raw=1)\n",
        "\n"
      ]
    },
    {
      "cell_type": "code",
      "metadata": {
        "id": "70eKVSd3Bcev",
        "colab": {
          "base_uri": "https://localhost:8080/"
        },
        "outputId": "20279260-be56-4301-aa7b-321ffa7b9a17"
      },
      "source": [
        "%tensorflow_version 2.x\n",
        "from tensorflow.keras.datasets import cifar10\n",
        "(x_train, y_train), (x_test, y_test) = cifar10.load_data()\n",
        "\n",
        "print(x_train.shape)\n",
        "print(y_train.shape)"
      ],
      "execution_count": 1,
      "outputs": [
        {
          "output_type": "stream",
          "text": [
            "(50000, 32, 32, 3)\n",
            "(50000, 1)\n"
          ],
          "name": "stdout"
        }
      ]
    },
    {
      "cell_type": "markdown",
      "metadata": {
        "id": "sKgE-SjNC5Do"
      },
      "source": [
        "## Předzpracování dat"
      ]
    },
    {
      "cell_type": "code",
      "metadata": {
        "id": "g8lqSW6OC8Gs"
      },
      "source": [
        "from keras.utils import np_utils\n",
        "import numpy as np\n",
        "\n",
        "n_classes = 10\n",
        "\n",
        "y_train = np_utils.to_categorical(y_train, n_classes)\n",
        "y_test = np_utils.to_categorical(y_test, n_classes)\n",
        "x_train = x_train.astype('float32') / 255\n",
        "x_test = x_test.astype('float32') / 255\n",
        "\n",
        "x_train_mean = np.mean(x_train, axis=0)\n",
        "x_train -= x_train_mean\n",
        "x_test -= x_train_mean"
      ],
      "execution_count": 2,
      "outputs": []
    },
    {
      "cell_type": "markdown",
      "metadata": {
        "id": "v1v5qOMsDgow"
      },
      "source": [
        "## Načteme předtrénovaný model\n",
        "\n",
        "Použijeme model [VGG16](https://keras.io/api/applications/vgg/), který byl natrénovaný pomocí data setu [ImageNet](https://image-net.org/). Odstraníme klasifikační vrstvy sítě (ty budou nahrazeny našimi vlastními) a ze zbytku  budeme trénovat pouze váhy v posledních 4 vrstvách sítě. Ostatní váhy zůstanou po celou dobu tak, jak byly natrénovány na ImageNetu."
      ]
    },
    {
      "cell_type": "code",
      "metadata": {
        "id": "LXlt7ntQCpc4"
      },
      "source": [
        "from tensorflow.keras.applications import VGG16\n",
        "base_model = VGG16(weights='imagenet', include_top=False, input_shape=(32, 32, 3))\n",
        "for layer in base_model.layers[:-4]:\n",
        "    layer.trainable = False"
      ],
      "execution_count": 3,
      "outputs": []
    },
    {
      "cell_type": "markdown",
      "metadata": {
        "id": "xZIpQiXwDyQ_"
      },
      "source": [
        "## Vytvoření nového modelu\n",
        "\n",
        "K předtrénované síti VGG16 přidáme vlastní klasifikační vrstvu, která bude řešit zadaný problém."
      ]
    },
    {
      "cell_type": "code",
      "metadata": {
        "id": "EZsaIchIP6wa"
      },
      "source": [
        "from tensorflow.keras import models, layers\n",
        "    \n",
        "model = models.Sequential()\n",
        "model.add(base_model)\n",
        "model.add(layers.Flatten())\n",
        "model.add(layers.Dense(512, activation='relu'))\n",
        "model.add(layers.Dense(10, activation='softmax'))\n"
      ],
      "execution_count": 4,
      "outputs": []
    },
    {
      "cell_type": "markdown",
      "metadata": {
        "id": "GlN-7FUqEGEf"
      },
      "source": [
        "Zkompilujeme model a spustíme trénování."
      ]
    },
    {
      "cell_type": "code",
      "metadata": {
        "id": "joNSbPVxQwL_"
      },
      "source": [
        "model.compile(loss='categorical_crossentropy',\n",
        "              optimizer='adam',\n",
        "              metrics=['accuracy'])"
      ],
      "execution_count": 5,
      "outputs": []
    },
    {
      "cell_type": "code",
      "metadata": {
        "id": "y3VgPkmaKyMK",
        "colab": {
          "base_uri": "https://localhost:8080/"
        },
        "outputId": "0597ac90-d643-431c-fd52-869ba5926549"
      },
      "source": [
        "model.fit(x_train, y_train,\n",
        "          batch_size = 512, epochs = 5, verbose=1,\n",
        "          validation_data=(x_test, y_test))"
      ],
      "execution_count": 6,
      "outputs": [
        {
          "output_type": "stream",
          "text": [
            "Epoch 1/5\n",
            "98/98 [==============================] - 32s 250ms/step - loss: 1.2004 - accuracy: 0.5757 - val_loss: 0.8623 - val_accuracy: 0.7015\n",
            "Epoch 2/5\n",
            "98/98 [==============================] - 18s 179ms/step - loss: 0.7812 - accuracy: 0.7272 - val_loss: 0.7953 - val_accuracy: 0.7213\n",
            "Epoch 3/5\n",
            "98/98 [==============================] - 17s 178ms/step - loss: 0.6554 - accuracy: 0.7683 - val_loss: 0.7462 - val_accuracy: 0.7403\n",
            "Epoch 4/5\n",
            "98/98 [==============================] - 17s 178ms/step - loss: 0.5583 - accuracy: 0.8019 - val_loss: 0.7861 - val_accuracy: 0.7343\n",
            "Epoch 5/5\n",
            "98/98 [==============================] - 17s 178ms/step - loss: 0.4780 - accuracy: 0.8308 - val_loss: 0.7627 - val_accuracy: 0.7468\n"
          ],
          "name": "stdout"
        },
        {
          "output_type": "execute_result",
          "data": {
            "text/plain": [
              "<tensorflow.python.keras.callbacks.History at 0x7f59e02bb3d0>"
            ]
          },
          "metadata": {
            "tags": []
          },
          "execution_count": 6
        }
      ]
    },
    {
      "cell_type": "markdown",
      "metadata": {
        "id": "HAMR2Y-4Fc1r"
      },
      "source": [
        "## Vyhodnocení modelu\n",
        "\n",
        "Na závěr vyhodnotíme kvalitu modelu."
      ]
    },
    {
      "cell_type": "code",
      "metadata": {
        "id": "Sx9BF4owRQLw",
        "colab": {
          "base_uri": "https://localhost:8080/"
        },
        "outputId": "2aecca21-b950-412a-dbc4-0ea54396b3d8"
      },
      "source": [
        "y_pred = model.predict(x_test)\n",
        "\n",
        "print(y_pred.shape)"
      ],
      "execution_count": 7,
      "outputs": [
        {
          "output_type": "stream",
          "text": [
            "(10000, 10)\n"
          ],
          "name": "stdout"
        }
      ]
    },
    {
      "cell_type": "code",
      "metadata": {
        "id": "1Fkgj0CsFiKf",
        "colab": {
          "base_uri": "https://localhost:8080/"
        },
        "outputId": "3f79436f-15e5-45e0-d38f-bea3199f26b8"
      },
      "source": [
        "import numpy as np\n",
        "\n",
        "y_test_class = np.argmax(y_test, axis=1)\n",
        "y_pred_class = np.argmax(y_pred, axis=1)\n",
        "print(y_pred_class.shape)"
      ],
      "execution_count": 8,
      "outputs": [
        {
          "output_type": "stream",
          "text": [
            "(10000,)\n"
          ],
          "name": "stdout"
        }
      ]
    },
    {
      "cell_type": "code",
      "metadata": {
        "id": "6hJX2LzCFqH3",
        "colab": {
          "base_uri": "https://localhost:8080/"
        },
        "outputId": "3202c216-b720-4eb5-8405-1c30bc5cdf16"
      },
      "source": [
        "from sklearn import metrics\n",
        "from sklearn.metrics import accuracy_score\n",
        "\n",
        "\n",
        "print (\"Accuracy testovací množiny: {:.4f}\".format(accuracy_score(y_test_class, y_pred_class)))\n",
        "print ()\n",
        "print(metrics.classification_report(y_test_class, y_pred_class, digits=4))"
      ],
      "execution_count": 9,
      "outputs": [
        {
          "output_type": "stream",
          "text": [
            "Accuracy testovací množiny: 0.7468\n",
            "\n",
            "              precision    recall  f1-score   support\n",
            "\n",
            "           0     0.8316    0.7900    0.8103      1000\n",
            "           1     0.8658    0.8190    0.8417      1000\n",
            "           2     0.8230    0.5720    0.6749      1000\n",
            "           3     0.6028    0.5100    0.5525      1000\n",
            "           4     0.7186    0.6870    0.7025      1000\n",
            "           5     0.6466    0.6770    0.6615      1000\n",
            "           6     0.7178    0.8090    0.7607      1000\n",
            "           7     0.7619    0.8290    0.7941      1000\n",
            "           8     0.7662    0.9080    0.8311      1000\n",
            "           9     0.7474    0.8670    0.8028      1000\n",
            "\n",
            "    accuracy                         0.7468     10000\n",
            "   macro avg     0.7482    0.7468    0.7432     10000\n",
            "weighted avg     0.7482    0.7468    0.7432     10000\n",
            "\n"
          ],
          "name": "stdout"
        }
      ]
    },
    {
      "cell_type": "code",
      "metadata": {
        "id": "NsyQZar3Fw5F",
        "colab": {
          "base_uri": "https://localhost:8080/"
        },
        "outputId": "6f6b1b36-e6ad-4af7-c5ba-88003f971242"
      },
      "source": [
        "from sklearn.metrics import confusion_matrix\n",
        "\n",
        "print(confusion_matrix(y_test_class, y_pred_class))"
      ],
      "execution_count": 10,
      "outputs": [
        {
          "output_type": "stream",
          "text": [
            "[[790  15  17  11  14   6  14  14  86  33]\n",
            " [  5 819   1   7   3   1   7   3  38 116]\n",
            " [ 54  12 572  52  96  52  86  40  22  14]\n",
            " [ 16  10  38 510  41 179  91  43  38  34]\n",
            " [ 19   7  22  46 687  29  59  94  25  12]\n",
            " [  6   4  12 152  33 677  41  47   8  20]\n",
            " [  6   7  16  37  43  47 809   4  18  13]\n",
            " [  9   0   9  24  36  50  10 829   5  28]\n",
            " [ 31  18   6   2   3   1   5   3 908  23]\n",
            " [ 14  54   2   5   0   5   5  11  37 867]]\n"
          ],
          "name": "stdout"
        }
      ]
    }
  ]
}