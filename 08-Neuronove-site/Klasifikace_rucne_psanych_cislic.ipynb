{
  "nbformat": 4,
  "nbformat_minor": 0,
  "metadata": {
    "kernelspec": {
      "name": "python3",
      "display_name": "Python 3"
    },
    "language_info": {
      "codemirror_mode": {
        "name": "ipython",
        "version": 3
      },
      "file_extension": ".py",
      "mimetype": "text/x-python",
      "name": "python",
      "nbconvert_exporter": "python",
      "pygments_lexer": "ipython3",
      "version": "3.7.3"
    },
    "colab": {
      "name": "Klasifikace_rucne_psanych_cislic.ipynb",
      "provenance": []
    },
    "accelerator": "GPU"
  },
  "cells": [
    {
      "cell_type": "markdown",
      "metadata": {
        "id": "KFj9vKMnYsvu"
      },
      "source": [
        "# Klasifikace ručně psaných číslic v Kerasu\n"
      ]
    },
    {
      "cell_type": "markdown",
      "metadata": {
        "id": "qMWzadigYsvx"
      },
      "source": [
        "## Data set MNIST\n",
        "\n",
        "Pro úlohu použijeme známý data set [MNIST](http://yann.lecun.com/exdb/mnist/), který obsahuje obrázky ručně psaných číslic od 0 do 9 včetně označení správné třídy. Cílem bude navrhnout a natrénovat neuronovou síť, která dokáže určit, jaká číslice se na obrázku nachází."
      ]
    },
    {
      "cell_type": "markdown",
      "metadata": {
        "id": "FCodqoi3Ysvy"
      },
      "source": [
        "![Mnist data set](https://github.com/jirimaterna/image-processing-2days/blob/master/images/mnist-examples.png?raw=1)"
      ]
    },
    {
      "cell_type": "markdown",
      "metadata": {
        "id": "WnbUUb8NYsvy"
      },
      "source": [
        "## Načtení dat\n",
        "\n",
        "Data set je součástí knihovny Keras, takže je jeho načtení snadné. Data jsou již rozdělena na trénovací a testovací část."
      ]
    },
    {
      "cell_type": "code",
      "metadata": {
        "id": "WjQRPjiyYsvz",
        "colab": {
          "base_uri": "https://localhost:8080/"
        },
        "outputId": "ea4e2973-ed27-4de1-bc09-e7e1bce8990d"
      },
      "source": [
        "%tensorflow_version 2.x\n",
        "import pickle\n",
        "from tensorflow.python.keras.datasets import mnist\n",
        "\n",
        "(X_train, y_train), (X_test, y_test) = mnist.load_data()\n",
        "\n",
        "print(\"Rozmery vstupnich trenovacich dat X_train: {}\".format(X_train.shape))\n",
        "print(\"Rozmery vystupnich trenovacich dat y_train: {}\".format(y_train.shape))\n",
        "print(\"Rozmery vstupnich testovacich dat X_test: {}\".format(X_test.shape))\n",
        "print(\"Rozmery vystupnich trenovacich dat y_test: {}\".format(y_test.shape))"
      ],
      "execution_count": 1,
      "outputs": [
        {
          "output_type": "stream",
          "text": [
            "Rozmery vstupnich trenovacich dat X_train: (60000, 28, 28)\n",
            "Rozmery vystupnich trenovacich dat y_train: (60000,)\n",
            "Rozmery vstupnich testovacich dat X_test: (10000, 28, 28)\n",
            "Rozmery vystupnich trenovacich dat y_test: (10000,)\n"
          ],
          "name": "stdout"
        }
      ]
    },
    {
      "cell_type": "markdown",
      "metadata": {
        "id": "F_-dMqsGYsv2"
      },
      "source": [
        "Můžeme se podívat na jeden příklad z trénovací množiny."
      ]
    },
    {
      "cell_type": "code",
      "metadata": {
        "id": "t1tAla-zYsv3",
        "colab": {
          "base_uri": "https://localhost:8080/",
          "height": 281
        },
        "outputId": "c93ad1b3-1422-49ae-a25c-8ee9a256eb79"
      },
      "source": [
        "%matplotlib inline\n",
        "import matplotlib.pyplot as plt\n",
        "i=3495\n",
        "\n",
        "#print(X_train[i])\n",
        "plt.imshow(X_train[i], cmap='gray')\n",
        "plt.title(\"Class {}\".format(y_train[i]))\n",
        "plt.show()"
      ],
      "execution_count": 2,
      "outputs": [
        {
          "output_type": "display_data",
          "data": {
            "image/png": "[encoded data removed]",
            "text/plain": [
              "<Figure size 432x288 with 1 Axes>"
            ]
          },
          "metadata": {
            "tags": [],
            "needs_background": "light"
          }
        }
      ]
    },
    {
      "cell_type": "markdown",
      "metadata": {
        "id": "5nv520izYsv4"
      },
      "source": [
        "## Transformace dat"
      ]
    },
    {
      "cell_type": "markdown",
      "metadata": {
        "id": "IIHRAFdyYsv5"
      },
      "source": [
        "Vstupní data je nutné nejdříve normalizovat. Vzhledem k tomu, že jsou hodnoty všech pixelů ze stejného rozsahu, bude stačit všechny hodnoty podělit 255. Tím je dostaneme do intervalu <0, 1>.\n"
      ]
    },
    {
      "cell_type": "code",
      "metadata": {
        "id": "4s_pCongYsv6"
      },
      "source": [
        "X_train = X_train.astype('float32')\n",
        "X_test = X_test.astype('float32')\n",
        "X_train /= 255\n",
        "X_test /= 255"
      ],
      "execution_count": 3,
      "outputs": []
    },
    {
      "cell_type": "markdown",
      "metadata": {
        "id": "ni4IGvKIYsv7"
      },
      "source": [
        "Abyhom mohli obrázky zpracovávat jednoduchou neuronovou sítí, je potřeba je převést na pole atributů. Z obrázků velikosti 28x28 pixelů se tedy stane pole o délce 784 reálých čísel."
      ]
    },
    {
      "cell_type": "code",
      "metadata": {
        "id": "9rr7O6ZCYsv8",
        "colab": {
          "base_uri": "https://localhost:8080/"
        },
        "outputId": "9efdecce-2afd-4bea-9ed5-0212f4cf1210"
      },
      "source": [
        "X_train_flat = X_train.reshape(60000, 784)\n",
        "X_test_flat = X_test.reshape(10000, 784)\n",
        "print(\"Rozmery X_train: {}\".format(X_train_flat.shape))\n",
        "print(\"Rozmery X_test: {}\".format(X_test_flat.shape))"
      ],
      "execution_count": 4,
      "outputs": [
        {
          "output_type": "stream",
          "text": [
            "Rozmery X_train: (60000, 784)\n",
            "Rozmery X_test: (10000, 784)\n"
          ],
          "name": "stdout"
        }
      ]
    },
    {
      "cell_type": "markdown",
      "metadata": {
        "id": "1dzQVa-MYsv-"
      },
      "source": [
        "Výstupní hodnoty jsou v originálních datech celá čísla od 0 do 9. Abychom je mohli v neuronové síti použít, je třeba je převést na one-hot encoding:\n",
        "\n",
        "```\n",
        "0 -> [1, 0, 0, 0, 0, 0, 0, 0, 0]\n",
        "1 -> [0, 1, 0, 0, 0, 0, 0, 0, 0]\n",
        "2 -> [0, 0, 1, 0, 0, 0, 0, 0, 0]\n",
        ".\n",
        ".\n",
        ".\n",
        "9 -> [0, 0, 0, 0, 0, 0, 0, 0, 1]\n",
        "```"
      ]
    },
    {
      "cell_type": "code",
      "metadata": {
        "id": "J0xWKgl4Ysv-",
        "colab": {
          "base_uri": "https://localhost:8080/"
        },
        "outputId": "1293c274-5c1e-477c-b7eb-ffb140c71854"
      },
      "source": [
        "from tensorflow.python.keras.utils import np_utils\n",
        "\n",
        "n_classes = 10\n",
        "\n",
        "print(y_train[49])\n",
        "\n",
        "y_train = np_utils.to_categorical(y_train, n_classes)\n",
        "y_test = np_utils.to_categorical(y_test, n_classes)\n",
        "\n",
        "print(y_train[49])"
      ],
      "execution_count": 5,
      "outputs": [
        {
          "output_type": "stream",
          "text": [
            "3\n",
            "[0. 0. 0. 1. 0. 0. 0. 0. 0. 0.]\n"
          ],
          "name": "stdout"
        }
      ]
    },
    {
      "cell_type": "markdown",
      "metadata": {
        "id": "BzJ92hhWYswB"
      },
      "source": [
        "## Definice architektury neuronové sítě\n"
      ]
    },
    {
      "cell_type": "markdown",
      "metadata": {
        "id": "IWubHwp1YswD"
      },
      "source": [
        "Pro změnu použijeme jako aktivační funkci vnitřních vrstev _relu_. Dobře by ale posloužila i funkce _tanh_. Vzhledem k tomu, že máme 10 klasifikačních tříd, na výstupu budeme potřebovat 10 neuronů a aktivační funkci _softmax_. Zkuste experimentovat s jinými architekturami neuronové sítě."
      ]
    },
    {
      "cell_type": "code",
      "metadata": {
        "id": "pl9wwk_5YswE"
      },
      "source": [
        "from tensorflow.python.keras.models import Sequential\n",
        "from tensorflow.python.keras.layers import Dense, Activation\n",
        "\n",
        "model = Sequential()\n",
        "\n",
        "model.add(Dense(64, input_shape=(784, )))\n",
        "model.add(Activation('relu'))\n",
        "model.add(Dense(10))\n",
        "model.add(Activation('softmax'))"
      ],
      "execution_count": 6,
      "outputs": []
    },
    {
      "cell_type": "markdown",
      "metadata": {
        "id": "Ofum8sViYswF"
      },
      "source": [
        "Vzhledem k tomu, že se jedná o klasifikaci do více tříd, při kompilaci musíme zadat jako chybovou funkci _categorical_crossentropy_."
      ]
    },
    {
      "cell_type": "code",
      "metadata": {
        "id": "BVsQcrkNYswG"
      },
      "source": [
        "model.compile(loss='categorical_crossentropy',\n",
        "              optimizer='adam',\n",
        "              metrics=['accuracy'])"
      ],
      "execution_count": 7,
      "outputs": []
    },
    {
      "cell_type": "markdown",
      "metadata": {
        "id": "PludkxZgYswL"
      },
      "source": [
        "## Natrénování modelu"
      ]
    },
    {
      "cell_type": "code",
      "metadata": {
        "id": "NFcR6qaoYswL",
        "colab": {
          "base_uri": "https://localhost:8080/"
        },
        "outputId": "6ebfc859-d7ba-4ce2-f09a-8c6e70ca3b7a"
      },
      "source": [
        "model.fit(X_train_flat, y_train,\n",
        "          batch_size = 128, epochs = 10, verbose=1,\n",
        "          validation_data=(X_test_flat, y_test))"
      ],
      "execution_count": 8,
      "outputs": [
        {
          "output_type": "stream",
          "text": [
            "Epoch 1/10\n",
            "469/469 [==============================] - 2s 3ms/step - loss: 0.4091 - accuracy: 0.8887 - val_loss: 0.2325 - val_accuracy: 0.9327\n",
            "Epoch 2/10\n",
            "469/469 [==============================] - 2s 3ms/step - loss: 0.2079 - accuracy: 0.9411 - val_loss: 0.1714 - val_accuracy: 0.9504\n",
            "Epoch 3/10\n",
            "469/469 [==============================] - 1s 3ms/step - loss: 0.1579 - accuracy: 0.9548 - val_loss: 0.1365 - val_accuracy: 0.9593\n",
            "Epoch 4/10\n",
            "469/469 [==============================] - 1s 3ms/step - loss: 0.1268 - accuracy: 0.9636 - val_loss: 0.1171 - val_accuracy: 0.9655\n",
            "Epoch 5/10\n",
            "469/469 [==============================] - 1s 3ms/step - loss: 0.1059 - accuracy: 0.9693 - val_loss: 0.1118 - val_accuracy: 0.9653\n",
            "Epoch 6/10\n",
            "469/469 [==============================] - 1s 3ms/step - loss: 0.0905 - accuracy: 0.9730 - val_loss: 0.1037 - val_accuracy: 0.9684\n",
            "Epoch 7/10\n",
            "469/469 [==============================] - 1s 3ms/step - loss: 0.0787 - accuracy: 0.9772 - val_loss: 0.0928 - val_accuracy: 0.9719\n",
            "Epoch 8/10\n",
            "469/469 [==============================] - 1s 3ms/step - loss: 0.0695 - accuracy: 0.9797 - val_loss: 0.0908 - val_accuracy: 0.9722\n",
            "Epoch 9/10\n",
            "469/469 [==============================] - 1s 3ms/step - loss: 0.0623 - accuracy: 0.9821 - val_loss: 0.0857 - val_accuracy: 0.9736\n",
            "Epoch 10/10\n",
            "469/469 [==============================] - 1s 3ms/step - loss: 0.0552 - accuracy: 0.9842 - val_loss: 0.0854 - val_accuracy: 0.9728\n"
          ],
          "name": "stdout"
        },
        {
          "output_type": "execute_result",
          "data": {
            "text/plain": [
              "<tensorflow.python.keras.callbacks.History at 0x7fd8c1623ed0>"
            ]
          },
          "metadata": {
            "tags": []
          },
          "execution_count": 8
        }
      ]
    },
    {
      "cell_type": "markdown",
      "metadata": {
        "id": "BHImBbKyYswN"
      },
      "source": [
        "## Vyhodnocení modelu\n",
        "\n",
        "Z neuronové sítě dostáváme na výstupu pravděpodobnosti jednolitvých tříd. Je tedy tředba najít třídu s nejvyšší pravděpodobností."
      ]
    },
    {
      "cell_type": "code",
      "metadata": {
        "id": "5_y67B_IYswO",
        "colab": {
          "base_uri": "https://localhost:8080/"
        },
        "outputId": "d9429e5a-e124-4650-b19a-396ce68bd6d5"
      },
      "source": [
        "y_pred = model.predict(X_test_flat)\n",
        "\n",
        "print(y_pred.shape)"
      ],
      "execution_count": 9,
      "outputs": [
        {
          "output_type": "stream",
          "text": [
            "(10000, 10)\n"
          ],
          "name": "stdout"
        }
      ]
    },
    {
      "cell_type": "code",
      "metadata": {
        "id": "jP2jxFM9YswQ",
        "colab": {
          "base_uri": "https://localhost:8080/"
        },
        "outputId": "e60c4a40-6dbb-4148-dcf3-1798e99410b6"
      },
      "source": [
        "import numpy as np\n",
        "\n",
        "y_test_class = np.argmax(y_test, axis=1)\n",
        "y_pred_class = np.argmax(y_pred, axis=1)\n",
        "print(y_pred_class.shape)"
      ],
      "execution_count": 10,
      "outputs": [
        {
          "output_type": "stream",
          "text": [
            "(10000,)\n"
          ],
          "name": "stdout"
        }
      ]
    },
    {
      "cell_type": "markdown",
      "metadata": {
        "id": "s4brA_gmYswR"
      },
      "source": [
        "Nyní můžeme použít implementace vyhodnocovacích funkcí z knihovny ScikitLearn.\n"
      ]
    },
    {
      "cell_type": "code",
      "metadata": {
        "id": "mehwEBXhYswS",
        "colab": {
          "base_uri": "https://localhost:8080/"
        },
        "outputId": "576d8788-d69c-4574-c979-1a3f938d5c2f"
      },
      "source": [
        "from sklearn import metrics\n",
        "from sklearn.metrics import accuracy_score\n",
        "\n",
        "\n",
        "print (\"Accuracy testovaci mnoziny: {:.4f}\".format(accuracy_score(y_test_class, y_pred_class)))\n",
        "print ()\n",
        "print(metrics.classification_report(y_test_class, y_pred_class, digits=4))"
      ],
      "execution_count": 11,
      "outputs": [
        {
          "output_type": "stream",
          "text": [
            "Accuracy testovaci mnoziny: 0.9728\n",
            "\n",
            "              precision    recall  f1-score   support\n",
            "\n",
            "           0     0.9728    0.9867    0.9797       980\n",
            "           1     0.9860    0.9921    0.9890      1135\n",
            "           2     0.9739    0.9748    0.9743      1032\n",
            "           3     0.9701    0.9634    0.9667      1010\n",
            "           4     0.9674    0.9684    0.9679       982\n",
            "           5     0.9543    0.9832    0.9685       892\n",
            "           6     0.9751    0.9802    0.9776       958\n",
            "           7     0.9821    0.9601    0.9710      1028\n",
            "           8     0.9719    0.9589    0.9654       974\n",
            "           9     0.9709    0.9594    0.9651      1009\n",
            "\n",
            "    accuracy                         0.9728     10000\n",
            "   macro avg     0.9725    0.9727    0.9725     10000\n",
            "weighted avg     0.9729    0.9728    0.9728     10000\n",
            "\n"
          ],
          "name": "stdout"
        }
      ]
    },
    {
      "cell_type": "markdown",
      "metadata": {
        "id": "9iGZTcnqGpz8"
      },
      "source": [
        "Pro zjisteni, ktere tridy u klasifikace do vice trid jsou zamenovany nejcasteji je vhodne vypsat matici zamen."
      ]
    },
    {
      "cell_type": "code",
      "metadata": {
        "id": "122pHhUsYswU",
        "colab": {
          "base_uri": "https://localhost:8080/"
        },
        "outputId": "3b485a65-5afc-41e2-fcda-09eb1235191b"
      },
      "source": [
        "from sklearn.metrics import confusion_matrix\n",
        "\n",
        "print(confusion_matrix(y_test_class, y_pred_class))"
      ],
      "execution_count": 12,
      "outputs": [
        {
          "output_type": "stream",
          "text": [
            "[[ 967    0    1    1    0    2    6    1    1    1]\n",
            " [   0 1126    4    0    0    1    1    0    3    0]\n",
            " [   6    0 1006    2    1    0    3    5    8    1]\n",
            " [   0    0    4  973    0   24    0    3    5    1]\n",
            " [   3    0    2    1  951    1    7    1    2   14]\n",
            " [   3    0    0    3    1  877    4    1    2    1]\n",
            " [   5    3    0    1    4    5  939    0    1    0]\n",
            " [   2    8   11    4    4    0    0  987    4    8]\n",
            " [   5    1    4    7    9    5    3    3  934    3]\n",
            " [   3    4    1   11   13    4    0    4    1  968]]\n"
          ],
          "name": "stdout"
        }
      ]
    },
    {
      "cell_type": "markdown",
      "metadata": {
        "id": "LnvA9BySYswq"
      },
      "source": [
        "## Na závěr může zobrazit některé z chybně klasifikovaných příkladů."
      ]
    },
    {
      "cell_type": "code",
      "metadata": {
        "id": "X9-bjAf5Yswr",
        "colab": {
          "base_uri": "https://localhost:8080/"
        },
        "outputId": "c577ff98-df4b-4782-f1a2-2de8470e865a"
      },
      "source": [
        "incorrect_indices = np.nonzero(y_pred_class != y_test_class)[0]\n",
        "print(incorrect_indices)"
      ],
      "execution_count": 13,
      "outputs": [
        {
          "output_type": "stream",
          "text": [
            "[ 115  149  217  247  259  321  340  381  445  495  507  551  582  610\n",
            "  619  659  684  691  707  740  760  844  846  890  938  947  951  956\n",
            "  965 1014 1039 1107 1112 1114 1166 1178 1181 1194 1198 1226 1232 1242\n",
            " 1247 1260 1283 1290 1299 1319 1326 1328 1337 1393 1414 1444 1496 1500\n",
            " 1522 1530 1531 1549 1553 1581 1609 1621 1681 1709 1717 1748 1754 1790\n",
            " 1901 1938 1941 1952 1984 2004 2016 2024 2029 2053 2070 2073 2098 2109\n",
            " 2118 2129 2130 2135 2174 2182 2195 2224 2272 2293 2387 2406 2414 2422\n",
            " 2425 2447 2488 2534 2582 2607 2618 2648 2654 2730 2877 2896 2915 2921\n",
            " 2939 2952 2953 3005 3030 3060 3073 3117 3251 3405 3422 3490 3503 3520\n",
            " 3558 3559 3567 3575 3597 3604 3674 3718 3727 3751 3757 3776 3780 3808\n",
            " 3811 3818 3838 3853 3902 3906 3926 3941 3943 3985 3995 4000 4007 4065\n",
            " 4075 4078 4093 4154 4176 4199 4207 4211 4224 4248 4269 4289 4369 4415\n",
            " 4419 4425 4437 4497 4567 4601 4635 4639 4740 4807 4814 4823 4833 4838\n",
            " 4861 4879 4880 4886 4888 4956 4966 5140 5331 5409 5457 5600 5611 5642\n",
            " 5676 5734 5749 5887 5936 5955 5973 6023 6045 6046 6059 6071 6166 6168\n",
            " 6400 6426 6505 6511 6555 6560 6568 6571 6574 6576 6597 6625 6651 6755\n",
            " 6769 7216 7233 7432 7434 7451 7481 7921 8020 8091 8094 8246 8255 8277\n",
            " 8279 8325 8339 8362 8456 8520 8522 9009 9015 9019 9024 9280 9587 9634\n",
            " 9642 9664 9669 9679 9700 9726 9729 9740 9745 9768 9770 9779 9808 9811\n",
            " 9828 9839 9892 9904 9944 9980]\n"
          ],
          "name": "stdout"
        }
      ]
    },
    {
      "cell_type": "code",
      "metadata": {
        "id": "JgM3b_j3Yswt",
        "colab": {
          "base_uri": "https://localhost:8080/",
          "height": 281
        },
        "outputId": "3b78b8d3-4fd5-45e8-e7fc-413c5b6cf7de"
      },
      "source": [
        "%matplotlib inline\n",
        "import matplotlib.pyplot as plt\n",
        "i = incorrect_indices[5]\n",
        "\n",
        "plt.imshow(X_test[i], cmap='gray')\n",
        "plt.title(\"Predikovano: {}, Spravna trida: {}\".format(y_pred_class[i], y_test_class[i]))\n",
        "plt.show()"
      ],
      "execution_count": 14,
      "outputs": [
        {
          "output_type": "display_data",
          "data": {
            "image/png": "[encoded data removed]",
            "text/plain": [
              "<Figure size 432x288 with 1 Axes>"
            ]
          },
          "metadata": {
            "tags": [],
            "needs_background": "light"
          }
        }
      ]
    }
  ]
}