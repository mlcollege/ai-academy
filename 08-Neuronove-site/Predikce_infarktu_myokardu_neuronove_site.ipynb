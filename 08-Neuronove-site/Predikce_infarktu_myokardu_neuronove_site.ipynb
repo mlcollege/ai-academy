{
  "nbformat": 4,
  "nbformat_minor": 0,
  "metadata": {
    "colab": {
      "name": "Predikce_infarktu_myokardu_neuronove_site.ipynb",
      "provenance": []
    },
    "kernelspec": {
      "name": "python3",
      "display_name": "Python 3"
    },
    "language_info": {
      "name": "python"
    }
  },
  "cells": [
    {
      "cell_type": "markdown",
      "metadata": {
        "id": "-V9g6pKj77_a"
      },
      "source": [
        "#Predikce infarktu myokardu s využitím neuronových sítí\n",
        "\n",
        "Cílem úlohy je na základě několika málo atributů určit, jestli člověk prodělal infarkt myokardu. Data set je převzatý a upravený z repozitáře [Kaggle](https://www.kaggle.com/fedesoriano/stroke-prediction-dataset?select=healthcare-dataset-stroke-data.csv).\n",
        "\n",
        "Použité atributy:\n",
        "* pohlaví - 0: muž, 1: žena, 2: nespecifikováno\n",
        "* věk\n",
        "* hypertenze -  zvýšený krevní tlak 0: ne, 1: ano\n",
        "* nemoc_srdce - 0: neléčí se s žádnou srdeční nemocí, 1: trpí srdeční nemocí\n",
        "* manzelstvi - 0: nikdy nebyl(a) ženatý/vdaná, 1: byl(a) nebo je ženatý/vdaná\n",
        "* zamestnani - 0: dite, 1: nikdy nepracoval(a), 2: ve verejnem sektoru, 3: v soukromem sektoru, 4: OSVC\n",
        "* bydliste - 0: venkov, 1: mesto\n",
        "* cukr - množství cukru v krvi\n",
        "* bmi - body mass index, 0 pokud není známo\n",
        "* koureni - 0: neznamé, 1: nikdy nekouřil(a), 2: přestal(a) kouřit, 3: kouří\n",
        "* infarkt - 0: nikdy neprodělal(a) infarkt, 1: prodělal(a) infarkt"
      ]
    },
    {
      "cell_type": "code",
      "metadata": {
        "colab": {
          "base_uri": "https://localhost:8080/",
          "height": 235
        },
        "id": "OBhIZsCLd8KW",
        "outputId": "0bfaca51-a811-4fb3-dfa6-b0d47bb454d3"
      },
      "source": [
        "import pandas as pd\n",
        "\n",
        "data = pd.read_csv('https://raw.githubusercontent.com/mlcollege/ai-academy/main/07-klasifikace/data/infarkt.csv', index_col='id')\n",
        "data.head()"
      ],
      "execution_count": null,
      "outputs": [
        {
          "output_type": "execute_result",
          "data": {
            "text/html": [
              "<div>\n",
              "<style scoped>\n",
              "    .dataframe tbody tr th:only-of-type {\n",
              "        vertical-align: middle;\n",
              "    }\n",
              "\n",
              "    .dataframe tbody tr th {\n",
              "        vertical-align: top;\n",
              "    }\n",
              "\n",
              "    .dataframe thead th {\n",
              "        text-align: right;\n",
              "    }\n",
              "</style>\n",
              "<table border=\"1\" class=\"dataframe\">\n",
              "  <thead>\n",
              "    <tr style=\"text-align: right;\">\n",
              "      <th></th>\n",
              "      <th>pohlavi</th>\n",
              "      <th>vek</th>\n",
              "      <th>hypertenze</th>\n",
              "      <th>nemoc_srdce</th>\n",
              "      <th>manzelstvi</th>\n",
              "      <th>zamestnani</th>\n",
              "      <th>bydliste</th>\n",
              "      <th>cukr</th>\n",
              "      <th>bmi</th>\n",
              "      <th>koureni</th>\n",
              "      <th>infarkt</th>\n",
              "    </tr>\n",
              "    <tr>\n",
              "      <th>id</th>\n",
              "      <th></th>\n",
              "      <th></th>\n",
              "      <th></th>\n",
              "      <th></th>\n",
              "      <th></th>\n",
              "      <th></th>\n",
              "      <th></th>\n",
              "      <th></th>\n",
              "      <th></th>\n",
              "      <th></th>\n",
              "      <th></th>\n",
              "    </tr>\n",
              "  </thead>\n",
              "  <tbody>\n",
              "    <tr>\n",
              "      <th>9046</th>\n",
              "      <td>0</td>\n",
              "      <td>67.0</td>\n",
              "      <td>0</td>\n",
              "      <td>1</td>\n",
              "      <td>1</td>\n",
              "      <td>3</td>\n",
              "      <td>1</td>\n",
              "      <td>228.69</td>\n",
              "      <td>36.6</td>\n",
              "      <td>2</td>\n",
              "      <td>1</td>\n",
              "    </tr>\n",
              "    <tr>\n",
              "      <th>51676</th>\n",
              "      <td>1</td>\n",
              "      <td>61.0</td>\n",
              "      <td>0</td>\n",
              "      <td>0</td>\n",
              "      <td>1</td>\n",
              "      <td>4</td>\n",
              "      <td>0</td>\n",
              "      <td>202.21</td>\n",
              "      <td>0.0</td>\n",
              "      <td>1</td>\n",
              "      <td>1</td>\n",
              "    </tr>\n",
              "    <tr>\n",
              "      <th>31112</th>\n",
              "      <td>0</td>\n",
              "      <td>80.0</td>\n",
              "      <td>0</td>\n",
              "      <td>1</td>\n",
              "      <td>1</td>\n",
              "      <td>3</td>\n",
              "      <td>0</td>\n",
              "      <td>105.92</td>\n",
              "      <td>32.5</td>\n",
              "      <td>1</td>\n",
              "      <td>1</td>\n",
              "    </tr>\n",
              "    <tr>\n",
              "      <th>60182</th>\n",
              "      <td>1</td>\n",
              "      <td>49.0</td>\n",
              "      <td>0</td>\n",
              "      <td>0</td>\n",
              "      <td>1</td>\n",
              "      <td>3</td>\n",
              "      <td>1</td>\n",
              "      <td>171.23</td>\n",
              "      <td>34.4</td>\n",
              "      <td>3</td>\n",
              "      <td>1</td>\n",
              "    </tr>\n",
              "    <tr>\n",
              "      <th>1665</th>\n",
              "      <td>1</td>\n",
              "      <td>79.0</td>\n",
              "      <td>1</td>\n",
              "      <td>0</td>\n",
              "      <td>1</td>\n",
              "      <td>4</td>\n",
              "      <td>0</td>\n",
              "      <td>174.12</td>\n",
              "      <td>24.0</td>\n",
              "      <td>1</td>\n",
              "      <td>1</td>\n",
              "    </tr>\n",
              "  </tbody>\n",
              "</table>\n",
              "</div>"
            ],
            "text/plain": [
              "       pohlavi   vek  hypertenze  nemoc_srdce  ...    cukr   bmi  koureni  infarkt\n",
              "id                                             ...                                \n",
              "9046         0  67.0           0            1  ...  228.69  36.6        2        1\n",
              "51676        1  61.0           0            0  ...  202.21   0.0        1        1\n",
              "31112        0  80.0           0            1  ...  105.92  32.5        1        1\n",
              "60182        1  49.0           0            0  ...  171.23  34.4        3        1\n",
              "1665         1  79.0           1            0  ...  174.12  24.0        1        1\n",
              "\n",
              "[5 rows x 11 columns]"
            ]
          },
          "metadata": {
            "tags": []
          },
          "execution_count": 1
        }
      ]
    },
    {
      "cell_type": "markdown",
      "metadata": {
        "id": "jDHhb_xCmf7e"
      },
      "source": [
        "## Příprava dat\n",
        "\n",
        "Nejprve si rozdělíme data na trénovací a testovací část.\n"
      ]
    },
    {
      "cell_type": "code",
      "metadata": {
        "colab": {
          "base_uri": "https://localhost:8080/"
        },
        "id": "BdGLR4PZeJWq",
        "outputId": "3e994393-1750-4b23-becd-532daa21b644"
      },
      "source": [
        "from sklearn.model_selection import train_test_split\n",
        "\n",
        "vstupni_atributy = ['pohlavi', 'vek',\t'hypertenze', 'nemoc_srdce', 'manzelstvi',\n",
        "                    'zamestnani', 'bydliste', 'cukr', 'bmi', 'koureni']\n",
        "vystupni_atribut = 'infarkt'\n",
        "\n",
        "X_train, X_test, y_train, y_test = train_test_split(data[vstupni_atributy], data[vystupni_atribut], test_size=0.3, random_state=4)\n",
        "print('Velikost trenovaci casti: {}'.format(len(X_train)))\n",
        "print('Velikost testovaci casti: {}'.format(len(X_test)))"
      ],
      "execution_count": null,
      "outputs": [
        {
          "output_type": "stream",
          "text": [
            "Velikost trenovaci casti: 3577\n",
            "Velikost testovaci casti: 1533\n"
          ],
          "name": "stdout"
        }
      ]
    },
    {
      "cell_type": "markdown",
      "metadata": {
        "id": "NT3ghGDu_bSq"
      },
      "source": [
        "Pro použití v neuronových sítích je vhodné vstupní data předzpracovat. Experimentujte s různými způsoby předzpracování."
      ]
    },
    {
      "cell_type": "code",
      "metadata": {
        "id": "3o53qtDWLZUO"
      },
      "source": [
        "from sklearn.preprocessing import StandardScaler\n",
        "from sklearn.preprocessing import OneHotEncoder\n",
        "from sklearn.compose import ColumnTransformer\n",
        "\n",
        "column_trans = ColumnTransformer(\n",
        "    [('ohe', OneHotEncoder(categories='auto'),['pohlavi', 'zamestnani', 'koureni']),\n",
        "     ('std', StandardScaler(), ['vek', 'cukr', 'bmi'])\n",
        "    ], remainder='passthrough')\n",
        "\n",
        "column_trans.fit(X_train)\n",
        "\n",
        "X_train_trans = column_trans.transform(X_train)\n",
        "X_test_trans = column_trans.transform(X_test)"
      ],
      "execution_count": null,
      "outputs": []
    },
    {
      "cell_type": "markdown",
      "metadata": {
        "id": "lrZt8AKljbx5"
      },
      "source": [
        "#Vytvoření a natrénování modelu\n",
        "\n",
        "Použijeme stejnou architekturu jako v případě regese. Jediný rozdíl bude v použití Sigmoidy jako aktivační funkce poslední vrstvy. Zkuste experimentovat i s jinými architekturami neuronové sítě."
      ]
    },
    {
      "cell_type": "code",
      "metadata": {
        "id": "eygB2boBlC9T"
      },
      "source": [
        "from tensorflow.keras.models import Sequential\n",
        "from tensorflow.keras.layers import Dense, Activation\n",
        "\n",
        "model = Sequential()\n",
        "\n",
        "model.add(Dense(50, input_shape=(19, )))\n",
        "model.add(Activation('tanh'))\n",
        "model.add(Dense(50))\n",
        "model.add(Activation('tanh'))\n",
        "model.add(Dense(1))\n",
        "model.add(Activation('sigmoid'))"
      ],
      "execution_count": null,
      "outputs": []
    },
    {
      "cell_type": "markdown",
      "metadata": {
        "id": "A_6vBrQJsAei"
      },
      "source": [
        "Dále je potřeba model zkompilovat. Pro kompilaci musíme zadat několik důležitých parametrů:\n",
        "* **loss** - chybová funkce, kterou budeme minimalizovat. Pro binární klasifikaci použijeme *binary_crossentropy*.\n",
        "* **optimizer** - algoritmů pro hledání minima chybové funkce existuje celá řada. Všechny vycházejí z podobných principů a liší se hlavně ve způsobech, jakými minimalizují šanci uvíznutí v nějakém špatném lokálním extrému. Jedním z nejčastěji používaných optimalizátorů je [Adam](https://keras.io/api/optimizers/adam/).\n",
        "* **metrics** - během trénování umožňuje algoritmus průběžné vypisování aktuální kvality modelu. Pokud o to stojíme, je třeba specifikovat konkrétní metriku. V našem případě jsme zvolili _accuracy_."
      ]
    },
    {
      "cell_type": "code",
      "metadata": {
        "id": "nou8tq97uSSr"
      },
      "source": [
        "model.compile(loss='binary_crossentropy',\n",
        "              optimizer='adam',\n",
        "              metrics=['accuracy'])"
      ],
      "execution_count": null,
      "outputs": []
    },
    {
      "cell_type": "markdown",
      "metadata": {
        "id": "PhJHwm7nuh1-"
      },
      "source": [
        "Samotné trénování se provádí metodou fit a je třeba opět specifikovat několik parametrů:\n",
        "\n",
        "* trénovací data - X_train_std a y_train\n",
        "* **batch_size** - počet trénovacích příkladů, které jsou zpracovávány současně.\n",
        "* **epochs** - počet epoch (průchodů celými trénovacími daty).\n",
        "* **verbose** - úroveň množství výpisů během trénování\n",
        "* **validation_data** - data, použitá pro validaci"
      ]
    },
    {
      "cell_type": "code",
      "metadata": {
        "colab": {
          "base_uri": "https://localhost:8080/"
        },
        "id": "GD4YhvV6uIEE",
        "outputId": "b647ca3d-58fc-40e4-8c49-20d31c22030e"
      },
      "source": [
        "model.fit(X_train_trans, y_train,\n",
        "          batch_size = 64, epochs = 50, verbose=1,\n",
        "          validation_data=(X_test_trans, y_test))"
      ],
      "execution_count": null,
      "outputs": [
        {
          "output_type": "stream",
          "text": [
            "Epoch 1/50\n",
            "56/56 [==============================] - 1s 6ms/step - loss: 0.2732 - accuracy: 0.9223 - val_loss: 0.1582 - val_accuracy: 0.9550\n",
            "Epoch 2/50\n",
            "56/56 [==============================] - 0s 2ms/step - loss: 0.1716 - accuracy: 0.9486 - val_loss: 0.1493 - val_accuracy: 0.9550\n",
            "Epoch 3/50\n",
            "56/56 [==============================] - 0s 2ms/step - loss: 0.1630 - accuracy: 0.9494 - val_loss: 0.1482 - val_accuracy: 0.9550\n",
            "Epoch 4/50\n",
            "56/56 [==============================] - 0s 2ms/step - loss: 0.1588 - accuracy: 0.9486 - val_loss: 0.1474 - val_accuracy: 0.9563\n",
            "Epoch 5/50\n",
            "56/56 [==============================] - 0s 3ms/step - loss: 0.1579 - accuracy: 0.9491 - val_loss: 0.1471 - val_accuracy: 0.9556\n",
            "Epoch 6/50\n",
            "56/56 [==============================] - 0s 3ms/step - loss: 0.1574 - accuracy: 0.9491 - val_loss: 0.1463 - val_accuracy: 0.9556\n",
            "Epoch 7/50\n",
            "56/56 [==============================] - 0s 2ms/step - loss: 0.1567 - accuracy: 0.9491 - val_loss: 0.1469 - val_accuracy: 0.9550\n",
            "Epoch 8/50\n",
            "56/56 [==============================] - 0s 2ms/step - loss: 0.1552 - accuracy: 0.9494 - val_loss: 0.1493 - val_accuracy: 0.9569\n",
            "Epoch 9/50\n",
            "56/56 [==============================] - 0s 2ms/step - loss: 0.1561 - accuracy: 0.9497 - val_loss: 0.1459 - val_accuracy: 0.9556\n",
            "Epoch 10/50\n",
            "56/56 [==============================] - 0s 2ms/step - loss: 0.1540 - accuracy: 0.9491 - val_loss: 0.1482 - val_accuracy: 0.9543\n",
            "Epoch 11/50\n",
            "56/56 [==============================] - 0s 2ms/step - loss: 0.1540 - accuracy: 0.9494 - val_loss: 0.1471 - val_accuracy: 0.9556\n",
            "Epoch 12/50\n",
            "56/56 [==============================] - 0s 3ms/step - loss: 0.1540 - accuracy: 0.9491 - val_loss: 0.1484 - val_accuracy: 0.9563\n",
            "Epoch 13/50\n",
            "56/56 [==============================] - 0s 3ms/step - loss: 0.1530 - accuracy: 0.9502 - val_loss: 0.1474 - val_accuracy: 0.9550\n",
            "Epoch 14/50\n",
            "56/56 [==============================] - 0s 3ms/step - loss: 0.1521 - accuracy: 0.9500 - val_loss: 0.1461 - val_accuracy: 0.9556\n",
            "Epoch 15/50\n",
            "56/56 [==============================] - 0s 3ms/step - loss: 0.1529 - accuracy: 0.9497 - val_loss: 0.1456 - val_accuracy: 0.9556\n",
            "Epoch 16/50\n",
            "56/56 [==============================] - 0s 3ms/step - loss: 0.1529 - accuracy: 0.9502 - val_loss: 0.1459 - val_accuracy: 0.9556\n",
            "Epoch 17/50\n",
            "56/56 [==============================] - 0s 2ms/step - loss: 0.1512 - accuracy: 0.9494 - val_loss: 0.1483 - val_accuracy: 0.9556\n",
            "Epoch 18/50\n",
            "56/56 [==============================] - 0s 2ms/step - loss: 0.1524 - accuracy: 0.9494 - val_loss: 0.1460 - val_accuracy: 0.9569\n",
            "Epoch 19/50\n",
            "56/56 [==============================] - 0s 2ms/step - loss: 0.1508 - accuracy: 0.9505 - val_loss: 0.1479 - val_accuracy: 0.9550\n",
            "Epoch 20/50\n",
            "56/56 [==============================] - 0s 3ms/step - loss: 0.1509 - accuracy: 0.9494 - val_loss: 0.1497 - val_accuracy: 0.9543\n",
            "Epoch 21/50\n",
            "56/56 [==============================] - 0s 2ms/step - loss: 0.1511 - accuracy: 0.9497 - val_loss: 0.1480 - val_accuracy: 0.9556\n",
            "Epoch 22/50\n",
            "56/56 [==============================] - 0s 2ms/step - loss: 0.1508 - accuracy: 0.9500 - val_loss: 0.1471 - val_accuracy: 0.9569\n",
            "Epoch 23/50\n",
            "56/56 [==============================] - 0s 2ms/step - loss: 0.1505 - accuracy: 0.9514 - val_loss: 0.1483 - val_accuracy: 0.9556\n",
            "Epoch 24/50\n",
            "56/56 [==============================] - 0s 2ms/step - loss: 0.1487 - accuracy: 0.9508 - val_loss: 0.1461 - val_accuracy: 0.9563\n",
            "Epoch 25/50\n",
            "56/56 [==============================] - 0s 2ms/step - loss: 0.1490 - accuracy: 0.9508 - val_loss: 0.1551 - val_accuracy: 0.9550\n",
            "Epoch 26/50\n",
            "56/56 [==============================] - 0s 2ms/step - loss: 0.1501 - accuracy: 0.9497 - val_loss: 0.1480 - val_accuracy: 0.9543\n",
            "Epoch 27/50\n",
            "56/56 [==============================] - 0s 2ms/step - loss: 0.1485 - accuracy: 0.9511 - val_loss: 0.1487 - val_accuracy: 0.9556\n",
            "Epoch 28/50\n",
            "56/56 [==============================] - 0s 2ms/step - loss: 0.1480 - accuracy: 0.9502 - val_loss: 0.1473 - val_accuracy: 0.9556\n",
            "Epoch 29/50\n",
            "56/56 [==============================] - 0s 2ms/step - loss: 0.1480 - accuracy: 0.9511 - val_loss: 0.1489 - val_accuracy: 0.9550\n",
            "Epoch 30/50\n",
            "56/56 [==============================] - 0s 2ms/step - loss: 0.1486 - accuracy: 0.9511 - val_loss: 0.1474 - val_accuracy: 0.9537\n",
            "Epoch 31/50\n",
            "56/56 [==============================] - 0s 2ms/step - loss: 0.1487 - accuracy: 0.9516 - val_loss: 0.1474 - val_accuracy: 0.9563\n",
            "Epoch 32/50\n",
            "56/56 [==============================] - 0s 2ms/step - loss: 0.1490 - accuracy: 0.9500 - val_loss: 0.1497 - val_accuracy: 0.9556\n",
            "Epoch 33/50\n",
            "56/56 [==============================] - 0s 2ms/step - loss: 0.1470 - accuracy: 0.9514 - val_loss: 0.1473 - val_accuracy: 0.9556\n",
            "Epoch 34/50\n",
            "56/56 [==============================] - 0s 2ms/step - loss: 0.1466 - accuracy: 0.9525 - val_loss: 0.1466 - val_accuracy: 0.9569\n",
            "Epoch 35/50\n",
            "56/56 [==============================] - 0s 2ms/step - loss: 0.1482 - accuracy: 0.9522 - val_loss: 0.1494 - val_accuracy: 0.9556\n",
            "Epoch 36/50\n",
            "56/56 [==============================] - 0s 2ms/step - loss: 0.1460 - accuracy: 0.9516 - val_loss: 0.1472 - val_accuracy: 0.9563\n",
            "Epoch 37/50\n",
            "56/56 [==============================] - 0s 3ms/step - loss: 0.1465 - accuracy: 0.9514 - val_loss: 0.1468 - val_accuracy: 0.9550\n",
            "Epoch 38/50\n",
            "56/56 [==============================] - 0s 2ms/step - loss: 0.1457 - accuracy: 0.9508 - val_loss: 0.1494 - val_accuracy: 0.9563\n",
            "Epoch 39/50\n",
            "56/56 [==============================] - 0s 2ms/step - loss: 0.1453 - accuracy: 0.9519 - val_loss: 0.1492 - val_accuracy: 0.9556\n",
            "Epoch 40/50\n",
            "56/56 [==============================] - 0s 2ms/step - loss: 0.1452 - accuracy: 0.9525 - val_loss: 0.1471 - val_accuracy: 0.9550\n",
            "Epoch 41/50\n",
            "56/56 [==============================] - 0s 2ms/step - loss: 0.1459 - accuracy: 0.9519 - val_loss: 0.1502 - val_accuracy: 0.9517\n",
            "Epoch 42/50\n",
            "56/56 [==============================] - 0s 2ms/step - loss: 0.1464 - accuracy: 0.9528 - val_loss: 0.1475 - val_accuracy: 0.9556\n",
            "Epoch 43/50\n",
            "56/56 [==============================] - 0s 2ms/step - loss: 0.1451 - accuracy: 0.9522 - val_loss: 0.1510 - val_accuracy: 0.9543\n",
            "Epoch 44/50\n",
            "56/56 [==============================] - 0s 3ms/step - loss: 0.1447 - accuracy: 0.9525 - val_loss: 0.1480 - val_accuracy: 0.9563\n",
            "Epoch 45/50\n",
            "56/56 [==============================] - 0s 2ms/step - loss: 0.1436 - accuracy: 0.9516 - val_loss: 0.1481 - val_accuracy: 0.9556\n",
            "Epoch 46/50\n",
            "56/56 [==============================] - 0s 3ms/step - loss: 0.1440 - accuracy: 0.9528 - val_loss: 0.1537 - val_accuracy: 0.9524\n",
            "Epoch 47/50\n",
            "56/56 [==============================] - 0s 2ms/step - loss: 0.1443 - accuracy: 0.9516 - val_loss: 0.1484 - val_accuracy: 0.9550\n",
            "Epoch 48/50\n",
            "56/56 [==============================] - 0s 2ms/step - loss: 0.1434 - accuracy: 0.9516 - val_loss: 0.1483 - val_accuracy: 0.9550\n",
            "Epoch 49/50\n",
            "56/56 [==============================] - 0s 2ms/step - loss: 0.1419 - accuracy: 0.9528 - val_loss: 0.1493 - val_accuracy: 0.9556\n",
            "Epoch 50/50\n",
            "56/56 [==============================] - 0s 3ms/step - loss: 0.1441 - accuracy: 0.9514 - val_loss: 0.1481 - val_accuracy: 0.9556\n"
          ],
          "name": "stdout"
        },
        {
          "output_type": "execute_result",
          "data": {
            "text/plain": [
              "<tensorflow.python.keras.callbacks.History at 0x7f11356a3690>"
            ]
          },
          "metadata": {
            "tags": []
          },
          "execution_count": 6
        }
      ]
    },
    {
      "cell_type": "markdown",
      "metadata": {
        "id": "xLjuicQevbsm"
      },
      "source": [
        "Výstupní hodnoty je před evaluací třeba převést z pravděpodobností na hodnoty 0 a 1."
      ]
    },
    {
      "cell_type": "code",
      "metadata": {
        "id": "DyH3x1iTvkUp"
      },
      "source": [
        "from numpy import int32\n",
        "y_pred = model.predict(X_test_trans)\n",
        "y_pred = (y_pred >= 0.2).astype(int32)"
      ],
      "execution_count": null,
      "outputs": []
    },
    {
      "cell_type": "markdown",
      "metadata": {
        "id": "0u_a-1YfmFFz"
      },
      "source": [
        "Pro vyhodnocení modelu je vhodné se dívat na precision, recall a f1-score. Accuracy bude díky nevyváženosti data setu vysoká."
      ]
    },
    {
      "cell_type": "code",
      "metadata": {
        "colab": {
          "base_uri": "https://localhost:8080/"
        },
        "id": "IKQA7C2QlWty",
        "outputId": "ad7e13f1-221a-481c-c241-b8ed77e26ce1"
      },
      "source": [
        "from sklearn import metrics\n",
        "from sklearn.metrics import accuracy_score\n",
        "\n",
        "print (\"Celkova spravnost klasifikace pro testovaci data: {:.2f}\".format(accuracy_score(y_test, y_pred)))\n",
        "print ()\n",
        "print(metrics.classification_report(y_test, y_pred))"
      ],
      "execution_count": null,
      "outputs": [
        {
          "output_type": "stream",
          "text": [
            "Celkova spravnost klasifikace pro testovaci data: 0.93\n",
            "\n",
            "              precision    recall  f1-score   support\n",
            "\n",
            "           0       0.97      0.96      0.96      1465\n",
            "           1       0.26      0.28      0.27        68\n",
            "\n",
            "    accuracy                           0.93      1533\n",
            "   macro avg       0.61      0.62      0.62      1533\n",
            "weighted avg       0.93      0.93      0.93      1533\n",
            "\n"
          ],
          "name": "stdout"
        }
      ]
    }
  ]
}