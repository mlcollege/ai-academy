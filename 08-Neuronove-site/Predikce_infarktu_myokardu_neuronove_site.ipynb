{
  "nbformat": 4,
  "nbformat_minor": 0,
  "metadata": {
    "colab": {
      "name": "Predikce_infarktu_myokardu_neuronove_site.ipynb",
      "provenance": []
    },
    "kernelspec": {
      "name": "python3",
      "display_name": "Python 3"
    },
    "language_info": {
      "name": "python"
    }
  },
  "cells": [
    {
      "cell_type": "markdown",
      "metadata": {
        "id": "-V9g6pKj77_a"
      },
      "source": [
        "#Predikce infarktu myokardu s využitím neuronových sítí\n",
        "\n",
        "Cílem úlohy je na základě několika málo atributů určit, jestli člověk prodělal infarkt myokardu. Data set je převzatý a upravený z repozitáře [Kaggle](https://www.kaggle.com/fedesoriano/stroke-prediction-dataset?select=healthcare-dataset-stroke-data.csv).\n",
        "\n",
        "Použité atributy:\n",
        "* pohlaví - 0: muž, 1: žena, 2: nespecifikováno\n",
        "* věk\n",
        "* hypertenze -  zvýšený krevní tlak 0: ne, 1: ano\n",
        "* nemoc_srdce - 0: neléčí se s žádnou srdeční nemocí, 1: trpí srdeční nemocí\n",
        "* manzelstvi - 0: nikdy nebyl(a) ženatý/vdaná, 1: byl(a) nebo je ženatý/vdaná\n",
        "* zamestnani - 0: dite, 1: nikdy nepracoval(a), 2: ve verejnem sektoru, 3: v soukromem sektoru, 4: OSVC\n",
        "* bydliste - 0: venkov, 1: mesto\n",
        "* cukr - množství cukru v krvi\n",
        "* bmi - body mass index, 0 pokud není známo\n",
        "* koureni - 0: neznamé, 1: nikdy nekouřil(a), 2: přestal(a) kouřit, 3: kouří\n",
        "* infarkt - 0: nikdy neprodělal(a) infarkt, 1: prodělal(a) infarkt"
      ]
    },
    {
      "cell_type": "code",
      "metadata": {
        "colab": {
          "base_uri": "https://localhost:8080/",
          "height": 235
        },
        "id": "OBhIZsCLd8KW",
        "outputId": "5dd209d9-8278-4f15-a98f-e4b6d0891315"
      },
      "source": [
        "import pandas as pd\n",
        "\n",
        "data = pd.read_csv('https://raw.githubusercontent.com/mlcollege/ai-academy/main/07-klasifikace/data/infarkt.csv', index_col='id')\n",
        "data.head()"
      ],
      "execution_count": 1,
      "outputs": [
        {
          "output_type": "execute_result",
          "data": {
            "text/html": [
              "<div>\n",
              "<style scoped>\n",
              "    .dataframe tbody tr th:only-of-type {\n",
              "        vertical-align: middle;\n",
              "    }\n",
              "\n",
              "    .dataframe tbody tr th {\n",
              "        vertical-align: top;\n",
              "    }\n",
              "\n",
              "    .dataframe thead th {\n",
              "        text-align: right;\n",
              "    }\n",
              "</style>\n",
              "<table border=\"1\" class=\"dataframe\">\n",
              "  <thead>\n",
              "    <tr style=\"text-align: right;\">\n",
              "      <th></th>\n",
              "      <th>pohlavi</th>\n",
              "      <th>vek</th>\n",
              "      <th>hypertenze</th>\n",
              "      <th>nemoc_srdce</th>\n",
              "      <th>manzelstvi</th>\n",
              "      <th>zamestnani</th>\n",
              "      <th>bydliste</th>\n",
              "      <th>cukr</th>\n",
              "      <th>bmi</th>\n",
              "      <th>koureni</th>\n",
              "      <th>infarkt</th>\n",
              "    </tr>\n",
              "    <tr>\n",
              "      <th>id</th>\n",
              "      <th></th>\n",
              "      <th></th>\n",
              "      <th></th>\n",
              "      <th></th>\n",
              "      <th></th>\n",
              "      <th></th>\n",
              "      <th></th>\n",
              "      <th></th>\n",
              "      <th></th>\n",
              "      <th></th>\n",
              "      <th></th>\n",
              "    </tr>\n",
              "  </thead>\n",
              "  <tbody>\n",
              "    <tr>\n",
              "      <th>9046</th>\n",
              "      <td>0</td>\n",
              "      <td>67.0</td>\n",
              "      <td>0</td>\n",
              "      <td>1</td>\n",
              "      <td>1</td>\n",
              "      <td>3</td>\n",
              "      <td>1</td>\n",
              "      <td>228.69</td>\n",
              "      <td>36.6</td>\n",
              "      <td>2</td>\n",
              "      <td>1</td>\n",
              "    </tr>\n",
              "    <tr>\n",
              "      <th>51676</th>\n",
              "      <td>1</td>\n",
              "      <td>61.0</td>\n",
              "      <td>0</td>\n",
              "      <td>0</td>\n",
              "      <td>1</td>\n",
              "      <td>4</td>\n",
              "      <td>0</td>\n",
              "      <td>202.21</td>\n",
              "      <td>0.0</td>\n",
              "      <td>1</td>\n",
              "      <td>1</td>\n",
              "    </tr>\n",
              "    <tr>\n",
              "      <th>31112</th>\n",
              "      <td>0</td>\n",
              "      <td>80.0</td>\n",
              "      <td>0</td>\n",
              "      <td>1</td>\n",
              "      <td>1</td>\n",
              "      <td>3</td>\n",
              "      <td>0</td>\n",
              "      <td>105.92</td>\n",
              "      <td>32.5</td>\n",
              "      <td>1</td>\n",
              "      <td>1</td>\n",
              "    </tr>\n",
              "    <tr>\n",
              "      <th>60182</th>\n",
              "      <td>1</td>\n",
              "      <td>49.0</td>\n",
              "      <td>0</td>\n",
              "      <td>0</td>\n",
              "      <td>1</td>\n",
              "      <td>3</td>\n",
              "      <td>1</td>\n",
              "      <td>171.23</td>\n",
              "      <td>34.4</td>\n",
              "      <td>3</td>\n",
              "      <td>1</td>\n",
              "    </tr>\n",
              "    <tr>\n",
              "      <th>1665</th>\n",
              "      <td>1</td>\n",
              "      <td>79.0</td>\n",
              "      <td>1</td>\n",
              "      <td>0</td>\n",
              "      <td>1</td>\n",
              "      <td>4</td>\n",
              "      <td>0</td>\n",
              "      <td>174.12</td>\n",
              "      <td>24.0</td>\n",
              "      <td>1</td>\n",
              "      <td>1</td>\n",
              "    </tr>\n",
              "  </tbody>\n",
              "</table>\n",
              "</div>"
            ],
            "text/plain": [
              "       pohlavi   vek  hypertenze  nemoc_srdce  ...    cukr   bmi  koureni  infarkt\n",
              "id                                             ...                                \n",
              "9046         0  67.0           0            1  ...  228.69  36.6        2        1\n",
              "51676        1  61.0           0            0  ...  202.21   0.0        1        1\n",
              "31112        0  80.0           0            1  ...  105.92  32.5        1        1\n",
              "60182        1  49.0           0            0  ...  171.23  34.4        3        1\n",
              "1665         1  79.0           1            0  ...  174.12  24.0        1        1\n",
              "\n",
              "[5 rows x 11 columns]"
            ]
          },
          "metadata": {
            "tags": []
          },
          "execution_count": 1
        }
      ]
    },
    {
      "cell_type": "markdown",
      "metadata": {
        "id": "jDHhb_xCmf7e"
      },
      "source": [
        "## Příprava dat\n",
        "\n",
        "Nejprve si rozdělíme data na trénovací a testovací část.\n"
      ]
    },
    {
      "cell_type": "code",
      "metadata": {
        "colab": {
          "base_uri": "https://localhost:8080/"
        },
        "id": "BdGLR4PZeJWq",
        "outputId": "c6582b12-c6f5-48b6-f776-3c57cb239a4c"
      },
      "source": [
        "from sklearn.model_selection import train_test_split\n",
        "\n",
        "vstupni_atributy = ['pohlavi', 'vek',\t'hypertenze', 'nemoc_srdce', 'manzelstvi', \n",
        "                    'zamestnani', 'bydliste', 'cukr', 'bmi', 'koureni']\n",
        "vystupni_atribut = 'infarkt'\n",
        "\n",
        "X_train, X_test, y_train, y_test = train_test_split(data[vstupni_atributy], data[vystupni_atribut], test_size=0.3, random_state=4)\n",
        "print('Velikost trenovaci casti: {}'.format(len(X_train)))\n",
        "print('Velikost testovaci casti: {}'.format(len(X_test)))"
      ],
      "execution_count": 2,
      "outputs": [
        {
          "output_type": "stream",
          "text": [
            "Velikost trenovaci casti: 3577\n",
            "Velikost testovaci casti: 1533\n"
          ],
          "name": "stdout"
        }
      ]
    },
    {
      "cell_type": "markdown",
      "metadata": {
        "id": "NT3ghGDu_bSq"
      },
      "source": [
        "Pro použití v neuronových sítích je vhodné vstupní data předzpracovat. Experimentujte s různými způsoby předzpracování. "
      ]
    },
    {
      "cell_type": "code",
      "metadata": {
        "id": "3o53qtDWLZUO"
      },
      "source": [
        "from sklearn.preprocessing import StandardScaler\n",
        "from sklearn.preprocessing import OneHotEncoder\n",
        "from sklearn.compose import ColumnTransformer\n",
        "\n",
        "column_trans = ColumnTransformer(\n",
        "    [('ohe', OneHotEncoder(categories='auto'),['pohlavi', 'zamestnani', 'koureni']),\n",
        "     ('std', StandardScaler(), ['vek', 'cukr', 'bmi'])\n",
        "    ], remainder='passthrough')\n",
        "\n",
        "column_trans.fit(X_train)\n",
        "\n",
        "X_train_trans = column_trans.transform(X_train)\n",
        "X_test_trans = column_trans.transform(X_test)"
      ],
      "execution_count": 3,
      "outputs": []
    },
    {
      "cell_type": "markdown",
      "metadata": {
        "id": "lrZt8AKljbx5"
      },
      "source": [
        "#Vytvoření a natrénování modelu\n",
        "\n",
        "Použijeme stejnou architekturu jako v případě regese. Jediný rozdíl bude v použití Sigmoidy jako aktivační funkce poslední vrstvy. Zkuste experimentovat i s jinými architekturami neuronové sítě."
      ]
    },
    {
      "cell_type": "code",
      "metadata": {
        "id": "eygB2boBlC9T"
      },
      "source": [
        "%tensorflow_version 2.x\n",
        "from tensorflow.python.keras.models import Sequential\n",
        "from tensorflow.python.keras.layers import Dense, Activation\n",
        "\n",
        "model = Sequential()\n",
        "\n",
        "model.add(Dense(50, input_shape=(10, )))\n",
        "model.add(Activation('tanh'))\n",
        "model.add(Dense(50))\n",
        "model.add(Activation('tanh'))\n",
        "model.add(Dense(1))\n",
        "model.add(Activation('sigmoid'))"
      ],
      "execution_count": 4,
      "outputs": []
    },
    {
      "cell_type": "markdown",
      "metadata": {
        "id": "A_6vBrQJsAei"
      },
      "source": [
        "Dále je potřeba model zkompilovat. Pro kompilaci musíme zadat několik důležitých parametrů:\n",
        "* **loss** - chybová funkce, kterou budeme minimalizovat. Pro binární klasifikaci použijeme *binary_crossentropy*.\n",
        "* **optimizer** - algoritmů pro hledání minima chybové funkce existuje celá řada. Všechny vycházejí z podobných principů a liší se hlavně ve způsobech, jakými minimalizují šanci uvíznutí v nějakém špatném lokálním extrému. Jedním z nejčastěji používaných optimalizátorů je [Adam](https://keras.io/api/optimizers/adam/).\n",
        "* **metrics** - během trénování umožňuje algoritmus průběžné vypisování aktuální kvality modelu. Pokud o to stojíme, je třeba specifikovat konkrétní metriku. V našem případě jsme zvolili _accuracy_."
      ]
    },
    {
      "cell_type": "code",
      "metadata": {
        "id": "nou8tq97uSSr"
      },
      "source": [
        "model.compile(loss='binary_crossentropy',\n",
        "              optimizer='adam',\n",
        "              metrics=['accuracy'])"
      ],
      "execution_count": 5,
      "outputs": []
    },
    {
      "cell_type": "markdown",
      "metadata": {
        "id": "PhJHwm7nuh1-"
      },
      "source": [
        "Samotné trénování se provádí metodou fit a je třeba opět specifikovat několik parametrů:\n",
        "\n",
        "* trénovací data - X_train_std a y_train\n",
        "* **batch_size** - počet trénovacích příkladů, které jsou zpracovávány současně.\n",
        "* **epochs** - počet epoch (průchodů celými trénovacími daty).\n",
        "* **verbose** - úroveň množství výpisů během trénování\n",
        "* **validation_data** - data, použitá pro validaci"
      ]
    },
    {
      "cell_type": "code",
      "metadata": {
        "colab": {
          "base_uri": "https://localhost:8080/"
        },
        "id": "GD4YhvV6uIEE",
        "outputId": "f8b5c05d-2ba3-4018-f9dd-05e3d62316db"
      },
      "source": [
        "model.fit(X_train, y_train,\n",
        "          batch_size = 64, epochs = 100, verbose=1,\n",
        "          validation_data=(X_test, y_test))"
      ],
      "execution_count": 6,
      "outputs": [
        {
          "output_type": "stream",
          "text": [
            "Epoch 1/100\n",
            "56/56 [==============================] - 1s 5ms/step - loss: 0.2279 - accuracy: 0.9483 - val_loss: 0.1683 - val_accuracy: 0.9556\n",
            "Epoch 2/100\n",
            "56/56 [==============================] - 0s 2ms/step - loss: 0.1759 - accuracy: 0.9494 - val_loss: 0.1573 - val_accuracy: 0.9556\n",
            "Epoch 3/100\n",
            "56/56 [==============================] - 0s 2ms/step - loss: 0.1701 - accuracy: 0.9494 - val_loss: 0.1524 - val_accuracy: 0.9556\n",
            "Epoch 4/100\n",
            "56/56 [==============================] - 0s 2ms/step - loss: 0.1693 - accuracy: 0.9491 - val_loss: 0.1515 - val_accuracy: 0.9556\n",
            "Epoch 5/100\n",
            "56/56 [==============================] - 0s 2ms/step - loss: 0.1662 - accuracy: 0.9500 - val_loss: 0.1497 - val_accuracy: 0.9556\n",
            "Epoch 6/100\n",
            "56/56 [==============================] - 0s 2ms/step - loss: 0.1663 - accuracy: 0.9497 - val_loss: 0.1531 - val_accuracy: 0.9569\n",
            "Epoch 7/100\n",
            "56/56 [==============================] - 0s 2ms/step - loss: 0.1657 - accuracy: 0.9497 - val_loss: 0.1508 - val_accuracy: 0.9583\n",
            "Epoch 8/100\n",
            "56/56 [==============================] - 0s 2ms/step - loss: 0.1649 - accuracy: 0.9494 - val_loss: 0.1491 - val_accuracy: 0.9556\n",
            "Epoch 9/100\n",
            "56/56 [==============================] - 0s 2ms/step - loss: 0.1648 - accuracy: 0.9497 - val_loss: 0.1487 - val_accuracy: 0.9583\n",
            "Epoch 10/100\n",
            "56/56 [==============================] - 0s 2ms/step - loss: 0.1621 - accuracy: 0.9502 - val_loss: 0.1494 - val_accuracy: 0.9583\n",
            "Epoch 11/100\n",
            "56/56 [==============================] - 0s 2ms/step - loss: 0.1633 - accuracy: 0.9494 - val_loss: 0.1502 - val_accuracy: 0.9583\n",
            "Epoch 12/100\n",
            "56/56 [==============================] - 0s 2ms/step - loss: 0.1609 - accuracy: 0.9502 - val_loss: 0.1521 - val_accuracy: 0.9576\n",
            "Epoch 13/100\n",
            "56/56 [==============================] - 0s 2ms/step - loss: 0.1614 - accuracy: 0.9497 - val_loss: 0.1523 - val_accuracy: 0.9576\n",
            "Epoch 14/100\n",
            "56/56 [==============================] - 0s 2ms/step - loss: 0.1635 - accuracy: 0.9500 - val_loss: 0.1486 - val_accuracy: 0.9569\n",
            "Epoch 15/100\n",
            "56/56 [==============================] - 0s 2ms/step - loss: 0.1622 - accuracy: 0.9500 - val_loss: 0.1495 - val_accuracy: 0.9583\n",
            "Epoch 16/100\n",
            "56/56 [==============================] - 0s 3ms/step - loss: 0.1610 - accuracy: 0.9502 - val_loss: 0.1496 - val_accuracy: 0.9576\n",
            "Epoch 17/100\n",
            "56/56 [==============================] - 0s 2ms/step - loss: 0.1611 - accuracy: 0.9488 - val_loss: 0.1549 - val_accuracy: 0.9576\n",
            "Epoch 18/100\n",
            "56/56 [==============================] - 0s 2ms/step - loss: 0.1578 - accuracy: 0.9505 - val_loss: 0.1505 - val_accuracy: 0.9583\n",
            "Epoch 19/100\n",
            "56/56 [==============================] - 0s 2ms/step - loss: 0.1638 - accuracy: 0.9497 - val_loss: 0.1514 - val_accuracy: 0.9583\n",
            "Epoch 20/100\n",
            "56/56 [==============================] - 0s 2ms/step - loss: 0.1594 - accuracy: 0.9502 - val_loss: 0.1483 - val_accuracy: 0.9569\n",
            "Epoch 21/100\n",
            "56/56 [==============================] - 0s 2ms/step - loss: 0.1589 - accuracy: 0.9497 - val_loss: 0.1520 - val_accuracy: 0.9569\n",
            "Epoch 22/100\n",
            "56/56 [==============================] - 0s 2ms/step - loss: 0.1589 - accuracy: 0.9502 - val_loss: 0.1516 - val_accuracy: 0.9569\n",
            "Epoch 23/100\n",
            "56/56 [==============================] - 0s 2ms/step - loss: 0.1604 - accuracy: 0.9502 - val_loss: 0.1475 - val_accuracy: 0.9583\n",
            "Epoch 24/100\n",
            "56/56 [==============================] - 0s 2ms/step - loss: 0.1584 - accuracy: 0.9497 - val_loss: 0.1496 - val_accuracy: 0.9589\n",
            "Epoch 25/100\n",
            "56/56 [==============================] - 0s 2ms/step - loss: 0.1572 - accuracy: 0.9494 - val_loss: 0.1499 - val_accuracy: 0.9576\n",
            "Epoch 26/100\n",
            "56/56 [==============================] - 0s 2ms/step - loss: 0.1582 - accuracy: 0.9505 - val_loss: 0.1521 - val_accuracy: 0.9589\n",
            "Epoch 27/100\n",
            "56/56 [==============================] - 0s 2ms/step - loss: 0.1571 - accuracy: 0.9500 - val_loss: 0.1495 - val_accuracy: 0.9583\n",
            "Epoch 28/100\n",
            "56/56 [==============================] - 0s 2ms/step - loss: 0.1572 - accuracy: 0.9494 - val_loss: 0.1515 - val_accuracy: 0.9569\n",
            "Epoch 29/100\n",
            "56/56 [==============================] - 0s 2ms/step - loss: 0.1594 - accuracy: 0.9502 - val_loss: 0.1498 - val_accuracy: 0.9583\n",
            "Epoch 30/100\n",
            "56/56 [==============================] - 0s 2ms/step - loss: 0.1567 - accuracy: 0.9497 - val_loss: 0.1493 - val_accuracy: 0.9583\n",
            "Epoch 31/100\n",
            "56/56 [==============================] - 0s 2ms/step - loss: 0.1595 - accuracy: 0.9500 - val_loss: 0.1481 - val_accuracy: 0.9576\n",
            "Epoch 32/100\n",
            "56/56 [==============================] - 0s 2ms/step - loss: 0.1573 - accuracy: 0.9500 - val_loss: 0.1510 - val_accuracy: 0.9583\n",
            "Epoch 33/100\n",
            "56/56 [==============================] - 0s 2ms/step - loss: 0.1567 - accuracy: 0.9486 - val_loss: 0.1464 - val_accuracy: 0.9576\n",
            "Epoch 34/100\n",
            "56/56 [==============================] - 0s 2ms/step - loss: 0.1594 - accuracy: 0.9500 - val_loss: 0.1494 - val_accuracy: 0.9576\n",
            "Epoch 35/100\n",
            "56/56 [==============================] - 0s 2ms/step - loss: 0.1568 - accuracy: 0.9502 - val_loss: 0.1534 - val_accuracy: 0.9569\n",
            "Epoch 36/100\n",
            "56/56 [==============================] - 0s 2ms/step - loss: 0.1547 - accuracy: 0.9497 - val_loss: 0.1480 - val_accuracy: 0.9583\n",
            "Epoch 37/100\n",
            "56/56 [==============================] - 0s 2ms/step - loss: 0.1548 - accuracy: 0.9505 - val_loss: 0.1504 - val_accuracy: 0.9583\n",
            "Epoch 38/100\n",
            "56/56 [==============================] - 0s 2ms/step - loss: 0.1561 - accuracy: 0.9508 - val_loss: 0.1520 - val_accuracy: 0.9576\n",
            "Epoch 39/100\n",
            "56/56 [==============================] - 0s 2ms/step - loss: 0.1548 - accuracy: 0.9505 - val_loss: 0.1508 - val_accuracy: 0.9583\n",
            "Epoch 40/100\n",
            "56/56 [==============================] - 0s 2ms/step - loss: 0.1564 - accuracy: 0.9497 - val_loss: 0.1525 - val_accuracy: 0.9576\n",
            "Epoch 41/100\n",
            "56/56 [==============================] - 0s 2ms/step - loss: 0.1551 - accuracy: 0.9502 - val_loss: 0.1516 - val_accuracy: 0.9576\n",
            "Epoch 42/100\n",
            "56/56 [==============================] - 0s 2ms/step - loss: 0.1563 - accuracy: 0.9500 - val_loss: 0.1511 - val_accuracy: 0.9583\n",
            "Epoch 43/100\n",
            "56/56 [==============================] - 0s 2ms/step - loss: 0.1570 - accuracy: 0.9502 - val_loss: 0.1501 - val_accuracy: 0.9576\n",
            "Epoch 44/100\n",
            "56/56 [==============================] - 0s 2ms/step - loss: 0.1549 - accuracy: 0.9491 - val_loss: 0.1510 - val_accuracy: 0.9563\n",
            "Epoch 45/100\n",
            "56/56 [==============================] - 0s 2ms/step - loss: 0.1535 - accuracy: 0.9500 - val_loss: 0.1533 - val_accuracy: 0.9583\n",
            "Epoch 46/100\n",
            "56/56 [==============================] - 0s 2ms/step - loss: 0.1561 - accuracy: 0.9505 - val_loss: 0.1502 - val_accuracy: 0.9589\n",
            "Epoch 47/100\n",
            "56/56 [==============================] - 0s 2ms/step - loss: 0.1546 - accuracy: 0.9511 - val_loss: 0.1483 - val_accuracy: 0.9589\n",
            "Epoch 48/100\n",
            "56/56 [==============================] - 0s 2ms/step - loss: 0.1559 - accuracy: 0.9505 - val_loss: 0.1502 - val_accuracy: 0.9583\n",
            "Epoch 49/100\n",
            "56/56 [==============================] - 0s 2ms/step - loss: 0.1549 - accuracy: 0.9511 - val_loss: 0.1589 - val_accuracy: 0.9583\n",
            "Epoch 50/100\n",
            "56/56 [==============================] - 0s 2ms/step - loss: 0.1553 - accuracy: 0.9483 - val_loss: 0.1513 - val_accuracy: 0.9583\n",
            "Epoch 51/100\n",
            "56/56 [==============================] - 0s 2ms/step - loss: 0.1548 - accuracy: 0.9500 - val_loss: 0.1497 - val_accuracy: 0.9583\n",
            "Epoch 52/100\n",
            "56/56 [==============================] - 0s 2ms/step - loss: 0.1527 - accuracy: 0.9502 - val_loss: 0.1492 - val_accuracy: 0.9589\n",
            "Epoch 53/100\n",
            "56/56 [==============================] - 0s 2ms/step - loss: 0.1539 - accuracy: 0.9505 - val_loss: 0.1531 - val_accuracy: 0.9576\n",
            "Epoch 54/100\n",
            "56/56 [==============================] - 0s 2ms/step - loss: 0.1557 - accuracy: 0.9494 - val_loss: 0.1522 - val_accuracy: 0.9569\n",
            "Epoch 55/100\n",
            "56/56 [==============================] - 0s 2ms/step - loss: 0.1561 - accuracy: 0.9502 - val_loss: 0.1584 - val_accuracy: 0.9550\n",
            "Epoch 56/100\n",
            "56/56 [==============================] - 0s 2ms/step - loss: 0.1545 - accuracy: 0.9494 - val_loss: 0.1522 - val_accuracy: 0.9583\n",
            "Epoch 57/100\n",
            "56/56 [==============================] - 0s 2ms/step - loss: 0.1518 - accuracy: 0.9500 - val_loss: 0.1498 - val_accuracy: 0.9583\n",
            "Epoch 58/100\n",
            "56/56 [==============================] - 0s 2ms/step - loss: 0.1527 - accuracy: 0.9500 - val_loss: 0.1498 - val_accuracy: 0.9576\n",
            "Epoch 59/100\n",
            "56/56 [==============================] - 0s 2ms/step - loss: 0.1551 - accuracy: 0.9497 - val_loss: 0.1492 - val_accuracy: 0.9576\n",
            "Epoch 60/100\n",
            "56/56 [==============================] - 0s 2ms/step - loss: 0.1540 - accuracy: 0.9494 - val_loss: 0.1499 - val_accuracy: 0.9583\n",
            "Epoch 61/100\n",
            "56/56 [==============================] - 0s 2ms/step - loss: 0.1529 - accuracy: 0.9508 - val_loss: 0.1522 - val_accuracy: 0.9583\n",
            "Epoch 62/100\n",
            "56/56 [==============================] - 0s 2ms/step - loss: 0.1534 - accuracy: 0.9491 - val_loss: 0.1497 - val_accuracy: 0.9576\n",
            "Epoch 63/100\n",
            "56/56 [==============================] - 0s 2ms/step - loss: 0.1509 - accuracy: 0.9505 - val_loss: 0.1552 - val_accuracy: 0.9569\n",
            "Epoch 64/100\n",
            "56/56 [==============================] - 0s 2ms/step - loss: 0.1558 - accuracy: 0.9491 - val_loss: 0.1519 - val_accuracy: 0.9583\n",
            "Epoch 65/100\n",
            "56/56 [==============================] - 0s 2ms/step - loss: 0.1522 - accuracy: 0.9500 - val_loss: 0.1508 - val_accuracy: 0.9583\n",
            "Epoch 66/100\n",
            "56/56 [==============================] - 0s 3ms/step - loss: 0.1551 - accuracy: 0.9502 - val_loss: 0.1520 - val_accuracy: 0.9576\n",
            "Epoch 67/100\n",
            "56/56 [==============================] - 0s 2ms/step - loss: 0.1509 - accuracy: 0.9508 - val_loss: 0.1491 - val_accuracy: 0.9576\n",
            "Epoch 68/100\n",
            "56/56 [==============================] - 0s 2ms/step - loss: 0.1534 - accuracy: 0.9500 - val_loss: 0.1542 - val_accuracy: 0.9583\n",
            "Epoch 69/100\n",
            "56/56 [==============================] - 0s 2ms/step - loss: 0.1525 - accuracy: 0.9502 - val_loss: 0.1489 - val_accuracy: 0.9583\n",
            "Epoch 70/100\n",
            "56/56 [==============================] - 0s 2ms/step - loss: 0.1519 - accuracy: 0.9511 - val_loss: 0.1522 - val_accuracy: 0.9576\n",
            "Epoch 71/100\n",
            "56/56 [==============================] - 0s 3ms/step - loss: 0.1534 - accuracy: 0.9497 - val_loss: 0.1524 - val_accuracy: 0.9583\n",
            "Epoch 72/100\n",
            "56/56 [==============================] - 0s 2ms/step - loss: 0.1533 - accuracy: 0.9514 - val_loss: 0.1500 - val_accuracy: 0.9583\n",
            "Epoch 73/100\n",
            "56/56 [==============================] - 0s 2ms/step - loss: 0.1520 - accuracy: 0.9505 - val_loss: 0.1494 - val_accuracy: 0.9583\n",
            "Epoch 74/100\n",
            "56/56 [==============================] - 0s 2ms/step - loss: 0.1504 - accuracy: 0.9508 - val_loss: 0.1487 - val_accuracy: 0.9576\n",
            "Epoch 75/100\n",
            "56/56 [==============================] - 0s 2ms/step - loss: 0.1501 - accuracy: 0.9516 - val_loss: 0.1520 - val_accuracy: 0.9583\n",
            "Epoch 76/100\n",
            "56/56 [==============================] - 0s 2ms/step - loss: 0.1508 - accuracy: 0.9516 - val_loss: 0.1508 - val_accuracy: 0.9589\n",
            "Epoch 77/100\n",
            "56/56 [==============================] - 0s 2ms/step - loss: 0.1513 - accuracy: 0.9511 - val_loss: 0.1530 - val_accuracy: 0.9543\n",
            "Epoch 78/100\n",
            "56/56 [==============================] - 0s 2ms/step - loss: 0.1519 - accuracy: 0.9505 - val_loss: 0.1511 - val_accuracy: 0.9583\n",
            "Epoch 79/100\n",
            "56/56 [==============================] - 0s 3ms/step - loss: 0.1525 - accuracy: 0.9497 - val_loss: 0.1491 - val_accuracy: 0.9583\n",
            "Epoch 80/100\n",
            "56/56 [==============================] - 0s 2ms/step - loss: 0.1507 - accuracy: 0.9516 - val_loss: 0.1559 - val_accuracy: 0.9583\n",
            "Epoch 81/100\n",
            "56/56 [==============================] - 0s 2ms/step - loss: 0.1501 - accuracy: 0.9516 - val_loss: 0.1562 - val_accuracy: 0.9583\n",
            "Epoch 82/100\n",
            "56/56 [==============================] - 0s 2ms/step - loss: 0.1513 - accuracy: 0.9500 - val_loss: 0.1520 - val_accuracy: 0.9576\n",
            "Epoch 83/100\n",
            "56/56 [==============================] - 0s 2ms/step - loss: 0.1505 - accuracy: 0.9522 - val_loss: 0.1495 - val_accuracy: 0.9583\n",
            "Epoch 84/100\n",
            "56/56 [==============================] - 0s 2ms/step - loss: 0.1494 - accuracy: 0.9511 - val_loss: 0.1487 - val_accuracy: 0.9583\n",
            "Epoch 85/100\n",
            "56/56 [==============================] - 0s 2ms/step - loss: 0.1496 - accuracy: 0.9511 - val_loss: 0.1567 - val_accuracy: 0.9583\n",
            "Epoch 86/100\n",
            "56/56 [==============================] - 0s 2ms/step - loss: 0.1496 - accuracy: 0.9508 - val_loss: 0.1477 - val_accuracy: 0.9576\n",
            "Epoch 87/100\n",
            "56/56 [==============================] - 0s 2ms/step - loss: 0.1482 - accuracy: 0.9522 - val_loss: 0.1512 - val_accuracy: 0.9583\n",
            "Epoch 88/100\n",
            "56/56 [==============================] - 0s 2ms/step - loss: 0.1484 - accuracy: 0.9508 - val_loss: 0.1497 - val_accuracy: 0.9576\n",
            "Epoch 89/100\n",
            "56/56 [==============================] - 0s 2ms/step - loss: 0.1468 - accuracy: 0.9530 - val_loss: 0.1535 - val_accuracy: 0.9583\n",
            "Epoch 90/100\n",
            "56/56 [==============================] - 0s 2ms/step - loss: 0.1503 - accuracy: 0.9505 - val_loss: 0.1498 - val_accuracy: 0.9563\n",
            "Epoch 91/100\n",
            "56/56 [==============================] - 0s 2ms/step - loss: 0.1480 - accuracy: 0.9511 - val_loss: 0.1504 - val_accuracy: 0.9556\n",
            "Epoch 92/100\n",
            "56/56 [==============================] - 0s 2ms/step - loss: 0.1483 - accuracy: 0.9511 - val_loss: 0.1482 - val_accuracy: 0.9576\n",
            "Epoch 93/100\n",
            "56/56 [==============================] - 0s 2ms/step - loss: 0.1495 - accuracy: 0.9514 - val_loss: 0.1489 - val_accuracy: 0.9576\n",
            "Epoch 94/100\n",
            "56/56 [==============================] - 0s 2ms/step - loss: 0.1469 - accuracy: 0.9514 - val_loss: 0.1559 - val_accuracy: 0.9543\n",
            "Epoch 95/100\n",
            "56/56 [==============================] - 0s 2ms/step - loss: 0.1462 - accuracy: 0.9519 - val_loss: 0.1501 - val_accuracy: 0.9583\n",
            "Epoch 96/100\n",
            "56/56 [==============================] - 0s 2ms/step - loss: 0.1467 - accuracy: 0.9516 - val_loss: 0.1528 - val_accuracy: 0.9583\n",
            "Epoch 97/100\n",
            "56/56 [==============================] - 0s 2ms/step - loss: 0.1500 - accuracy: 0.9508 - val_loss: 0.1555 - val_accuracy: 0.9583\n",
            "Epoch 98/100\n",
            "56/56 [==============================] - 0s 2ms/step - loss: 0.1464 - accuracy: 0.9525 - val_loss: 0.1503 - val_accuracy: 0.9569\n",
            "Epoch 99/100\n",
            "56/56 [==============================] - 0s 2ms/step - loss: 0.1466 - accuracy: 0.9525 - val_loss: 0.1515 - val_accuracy: 0.9569\n",
            "Epoch 100/100\n",
            "56/56 [==============================] - 0s 2ms/step - loss: 0.1473 - accuracy: 0.9522 - val_loss: 0.1499 - val_accuracy: 0.9576\n"
          ],
          "name": "stdout"
        },
        {
          "output_type": "execute_result",
          "data": {
            "text/plain": [
              "<tensorflow.python.keras.callbacks.History at 0x7f34b5878c90>"
            ]
          },
          "metadata": {
            "tags": []
          },
          "execution_count": 6
        }
      ]
    },
    {
      "cell_type": "markdown",
      "metadata": {
        "id": "xLjuicQevbsm"
      },
      "source": [
        "Výstupní hodnoty je před evaluací třeba převést z pravděpodobností na hodnoty 0 a 1."
      ]
    },
    {
      "cell_type": "code",
      "metadata": {
        "id": "DyH3x1iTvkUp"
      },
      "source": [
        "from numpy import int32\n",
        "y_pred = model.predict(X_test)\n",
        "y_pred = (y_pred >= 0.5).astype(int32)"
      ],
      "execution_count": 7,
      "outputs": []
    },
    {
      "cell_type": "markdown",
      "metadata": {
        "id": "0u_a-1YfmFFz"
      },
      "source": [
        "Pro vyhodnocení modelu je vhodné se dívat na precision, recall a f1-score. Accuracy bude díky nevyváženosti data setu vysoká."
      ]
    },
    {
      "cell_type": "code",
      "metadata": {
        "colab": {
          "base_uri": "https://localhost:8080/"
        },
        "id": "IKQA7C2QlWty",
        "outputId": "73628c1c-8ca7-40bf-efae-425cf5638d4b"
      },
      "source": [
        "from sklearn import metrics\n",
        "from sklearn.metrics import accuracy_score\n",
        "\n",
        "print (\"Celkova spravnost klasifikace pro testovaci data: {:.2f}\".format(accuracy_score(y_test, y_pred)))\n",
        "print ()\n",
        "print(metrics.classification_report(y_test, y_pred))"
      ],
      "execution_count": 8,
      "outputs": [
        {
          "output_type": "stream",
          "text": [
            "Celkova spravnost klasifikace pro testovaci data: 0.96\n",
            "\n",
            "              precision    recall  f1-score   support\n",
            "\n",
            "           0       0.96      1.00      0.98      1465\n",
            "           1       0.71      0.07      0.13        68\n",
            "\n",
            "    accuracy                           0.96      1533\n",
            "   macro avg       0.84      0.54      0.56      1533\n",
            "weighted avg       0.95      0.96      0.94      1533\n",
            "\n"
          ],
          "name": "stdout"
        }
      ]
    }
  ]
}