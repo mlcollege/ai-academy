{
  "nbformat": 4,
  "nbformat_minor": 0,
  "metadata": {
    "colab": {
      "name": "Ceny_domu_neuronove_site.ipynb",
      "provenance": []
    },
    "kernelspec": {
      "name": "python3",
      "display_name": "Python 3"
    },
    "language_info": {
      "name": "python"
    }
  },
  "cells": [
    {
      "cell_type": "markdown",
      "metadata": {
        "id": "hjpyCWHGvc3_"
      },
      "source": [
        "# Regrese s využitím neuronový sítí\n"
      ]
    },
    {
      "cell_type": "markdown",
      "metadata": {
        "id": "ts3obL7_v78z"
      },
      "source": [
        "Pro ilustraci použití neuronových sítí v knihovně [TensorFlow](https://www.tensorflow.org/) použijeme opět data set cen nemovitostí."
      ]
    },
    {
      "cell_type": "markdown",
      "metadata": {
        "id": "tiTjSahWwyOo"
      },
      "source": [
        "## Načteme trénovací a testovací data do DataFramu Pandas.\n",
        "\n",
        "* **Stav** je stav budovy na škále 1 až 10, kde 1 je nejhorší a 10 nejlepší.\n",
        "* **plocha** je obytná plocha budovy v metrech čtverečních\n",
        "* **rok_stavby** je rok výstavby domu\n",
        "* **rok_prodeje** je rok, ve kterém byl dům prodaný\n",
        "* **cena** je cena, za kterou se dům prodal "
      ]
    },
    {
      "cell_type": "code",
      "metadata": {
        "colab": {
          "base_uri": "https://localhost:8080/",
          "height": 204
        },
        "id": "8b_KttVpw6jr",
        "outputId": "5f322f90-fca9-4f79-aff2-0f45489024f4"
      },
      "source": [
        "import pandas as pd\n",
        "data = pd.read_csv(\"https://raw.githubusercontent.com/mlcollege/ai-academy/main/06-Regrese/data/ceny_domu.csv\", sep=',')\n",
        "data.head()"
      ],
      "execution_count": 1,
      "outputs": [
        {
          "output_type": "execute_result",
          "data": {
            "text/html": [
              "<div>\n",
              "<style scoped>\n",
              "    .dataframe tbody tr th:only-of-type {\n",
              "        vertical-align: middle;\n",
              "    }\n",
              "\n",
              "    .dataframe tbody tr th {\n",
              "        vertical-align: top;\n",
              "    }\n",
              "\n",
              "    .dataframe thead th {\n",
              "        text-align: right;\n",
              "    }\n",
              "</style>\n",
              "<table border=\"1\" class=\"dataframe\">\n",
              "  <thead>\n",
              "    <tr style=\"text-align: right;\">\n",
              "      <th></th>\n",
              "      <th>kvalita</th>\n",
              "      <th>plocha</th>\n",
              "      <th>datum_stavby</th>\n",
              "      <th>datum_prodeje</th>\n",
              "      <th>cena</th>\n",
              "    </tr>\n",
              "  </thead>\n",
              "  <tbody>\n",
              "    <tr>\n",
              "      <th>0</th>\n",
              "      <td>7</td>\n",
              "      <td>158</td>\n",
              "      <td>2003</td>\n",
              "      <td>2008</td>\n",
              "      <td>5.21</td>\n",
              "    </tr>\n",
              "    <tr>\n",
              "      <th>1</th>\n",
              "      <td>6</td>\n",
              "      <td>117</td>\n",
              "      <td>1976</td>\n",
              "      <td>2007</td>\n",
              "      <td>4.54</td>\n",
              "    </tr>\n",
              "    <tr>\n",
              "      <th>2</th>\n",
              "      <td>7</td>\n",
              "      <td>165</td>\n",
              "      <td>2001</td>\n",
              "      <td>2008</td>\n",
              "      <td>5.59</td>\n",
              "    </tr>\n",
              "    <tr>\n",
              "      <th>3</th>\n",
              "      <td>7</td>\n",
              "      <td>159</td>\n",
              "      <td>1915</td>\n",
              "      <td>2006</td>\n",
              "      <td>3.50</td>\n",
              "    </tr>\n",
              "    <tr>\n",
              "      <th>4</th>\n",
              "      <td>8</td>\n",
              "      <td>204</td>\n",
              "      <td>2000</td>\n",
              "      <td>2008</td>\n",
              "      <td>6.25</td>\n",
              "    </tr>\n",
              "  </tbody>\n",
              "</table>\n",
              "</div>"
            ],
            "text/plain": [
              "   kvalita  plocha  datum_stavby  datum_prodeje  cena\n",
              "0        7     158          2003           2008  5.21\n",
              "1        6     117          1976           2007  4.54\n",
              "2        7     165          2001           2008  5.59\n",
              "3        7     159          1915           2006  3.50\n",
              "4        8     204          2000           2008  6.25"
            ]
          },
          "metadata": {
            "tags": []
          },
          "execution_count": 1
        }
      ]
    },
    {
      "cell_type": "markdown",
      "metadata": {
        "id": "5vuDzO3d30zl"
      },
      "source": [
        "## Rozdělíme si data na trénovací a testovací"
      ]
    },
    {
      "cell_type": "code",
      "metadata": {
        "colab": {
          "base_uri": "https://localhost:8080/"
        },
        "id": "aB-6wsM6xnGC",
        "outputId": "fd8c8ca2-1ef6-4ab0-d320-53a8b21d3106"
      },
      "source": [
        "from sklearn.model_selection import train_test_split\n",
        "\n",
        "input_features = ['kvalita', 'plocha', 'datum_stavby',\t'datum_prodeje']\n",
        "target_feature = 'cena'\n",
        "\n",
        "X_train, X_test, y_train, y_test = train_test_split(data[input_features], data[target_feature], test_size=0.1, random_state=1)\n",
        "print('Velikost trenovaci mnoziny: {}'.format(len(X_train)))\n",
        "print('Velikost testovaci mnoziny: {}'.format(len(X_test)))"
      ],
      "execution_count": 2,
      "outputs": [
        {
          "output_type": "stream",
          "text": [
            "Velikost trenovaci mnoziny: 1314\n",
            "Velikost testovaci mnoziny: 146\n"
          ],
          "name": "stdout"
        }
      ]
    },
    {
      "cell_type": "markdown",
      "metadata": {
        "id": "8iSmcd_tEyWq"
      },
      "source": [
        "## Vytvoříme a natrénujeme model neuronové sítě\n",
        "\n"
      ]
    },
    {
      "cell_type": "markdown",
      "metadata": {
        "id": "HJCSsXsiHBIh"
      },
      "source": [
        "Nejprve je vhodné data standardizovat stejným zůsobem jako jsme to dělali u logistické regrese. K tomu můžeme použití ScikitLearn."
      ]
    },
    {
      "cell_type": "code",
      "metadata": {
        "id": "Wu0RZFpAHgdD"
      },
      "source": [
        "from sklearn.preprocessing import StandardScaler\n",
        "\n",
        "scaler = StandardScaler()\n",
        "scaler.fit(X_train)\n",
        "\n",
        "X_train_std = scaler.transform(X_train)\n",
        "X_test_std = scaler.transform(X_test)"
      ],
      "execution_count": 3,
      "outputs": []
    },
    {
      "cell_type": "markdown",
      "metadata": {
        "id": "U4egjJ5oJBBC"
      },
      "source": [
        "Nyní můžeme vytvořit model neuronové sítě. Pouužijeme model se třemi vrstvami, přičemž první vrstva bude mít 30 neuronů a aktivační funkci _tanh_, druhá vrstva rovněž a poslední vrstva bude mít pouze jediný neuron s lineární aktivační funkcí. "
      ]
    },
    {
      "cell_type": "code",
      "metadata": {
        "id": "I9F3UwPRJHH5"
      },
      "source": [
        "%tensorflow_version 2.x\n",
        "from tensorflow.python.keras.models import Sequential\n",
        "from tensorflow.python.keras.layers import Dense, Activation\n",
        "\n",
        "model = Sequential()\n",
        "\n",
        "model.add(Dense(30, input_shape=(4, )))\n",
        "model.add(Activation('tanh'))\n",
        "model.add(Dense(30))\n",
        "model.add(Activation('tanh'))\n",
        "model.add(Dense(1))\n",
        "model.add(Activation('linear'))"
      ],
      "execution_count": 4,
      "outputs": []
    },
    {
      "cell_type": "markdown",
      "metadata": {
        "id": "5nX8hgCHLFEu"
      },
      "source": [
        "Dále je potřeba model zkompilovat. Pro kompilaci musíme zadat několik důležitých parametrů:\n",
        "* **loss** - chybová funknce, kterou budeme minimalizovat. Vzhledem k tomu, že se jedná o regresi, bude vhodnou funkcí Mean Squared Error.\n",
        "* **optimizer** - algoritmů pro hledání minima chybové funkce existuje celá řada. Všechny vycházejí z podobných principů a liší se hlavně ve způsobech, jakými minimalizují šanci uvíznutí v nějakém špatném lokálním extrému. Jedním z nejčastěji používaných optimalizátorů je [Adam](https://keras.io/api/optimizers/adam/).\n",
        "* **metrics** - během trénování umožňuje algoritmus průběžné vypisování aktuální kvality modelu. Pokud o to stojíme, je třeba specifikovat konkrétní metriku. V našem případě jsme zvolili Mean Absolute Error."
      ]
    },
    {
      "cell_type": "code",
      "metadata": {
        "id": "BY9gO9afKx6j"
      },
      "source": [
        "model.compile(loss='mean_squared_error',\n",
        "              optimizer='adam',\n",
        "              metrics=['mae'])"
      ],
      "execution_count": 5,
      "outputs": []
    },
    {
      "cell_type": "markdown",
      "metadata": {
        "id": "IarkYvEaM1Xp"
      },
      "source": [
        "Samotné trénování se provádí metodou fit a je třeba opět specifikovat několik parametrů:\n",
        "\n",
        "* trénovací data - X_train_std a y_train\n",
        "* **batch_size** - počet trénovacích příkladů, které jsou zpracovávány současně.\n",
        "* **epochs** - počet epoch (průchodů celými trénovacími daty).\n",
        "* **verbose** - úroveň množství výpisů během trénování\n",
        "* **validation_data** - data, použitá pro validaci"
      ]
    },
    {
      "cell_type": "code",
      "metadata": {
        "colab": {
          "base_uri": "https://localhost:8080/"
        },
        "id": "TYgSykN1N7DN",
        "outputId": "9a27911d-7c19-430c-edfb-cece1e0455f7"
      },
      "source": [
        "model.fit(X_train_std, y_train,\n",
        "          batch_size = 64, epochs = 100, verbose=1,\n",
        "          validation_data=(X_test_std, y_test))"
      ],
      "execution_count": 6,
      "outputs": [
        {
          "output_type": "stream",
          "text": [
            "Epoch 1/100\n",
            "21/21 [==============================] - 1s 9ms/step - loss: 21.9913 - mae: 4.4195 - val_loss: 21.2260 - val_mae: 4.3694\n",
            "Epoch 2/100\n",
            "21/21 [==============================] - 0s 3ms/step - loss: 18.7794 - mae: 4.1494 - val_loss: 18.3632 - val_mae: 4.0914\n",
            "Epoch 3/100\n",
            "21/21 [==============================] - 0s 2ms/step - loss: 15.5068 - mae: 3.7484 - val_loss: 14.5958 - val_mae: 3.6014\n",
            "Epoch 4/100\n",
            "21/21 [==============================] - 0s 4ms/step - loss: 11.3877 - mae: 3.1473 - val_loss: 9.8219 - val_mae: 2.8612\n",
            "Epoch 5/100\n",
            "21/21 [==============================] - 0s 2ms/step - loss: 6.7050 - mae: 2.2753 - val_loss: 5.0868 - val_mae: 1.8386\n",
            "Epoch 6/100\n",
            "21/21 [==============================] - 0s 2ms/step - loss: 3.0677 - mae: 1.3120 - val_loss: 2.3458 - val_mae: 0.9882\n",
            "Epoch 7/100\n",
            "21/21 [==============================] - 0s 3ms/step - loss: 1.6096 - mae: 0.8280 - val_loss: 1.6407 - val_mae: 0.8100\n",
            "Epoch 8/100\n",
            "21/21 [==============================] - 0s 3ms/step - loss: 1.4156 - mae: 0.7872 - val_loss: 1.5540 - val_mae: 0.8094\n",
            "Epoch 9/100\n",
            "21/21 [==============================] - 0s 2ms/step - loss: 1.3917 - mae: 0.7891 - val_loss: 1.5288 - val_mae: 0.7956\n",
            "Epoch 10/100\n",
            "21/21 [==============================] - 0s 3ms/step - loss: 1.3720 - mae: 0.7777 - val_loss: 1.5007 - val_mae: 0.7910\n",
            "Epoch 11/100\n",
            "21/21 [==============================] - 0s 2ms/step - loss: 1.3554 - mae: 0.7710 - val_loss: 1.4710 - val_mae: 0.7897\n",
            "Epoch 12/100\n",
            "21/21 [==============================] - 0s 3ms/step - loss: 1.3362 - mae: 0.7711 - val_loss: 1.4551 - val_mae: 0.7745\n",
            "Epoch 13/100\n",
            "21/21 [==============================] - 0s 3ms/step - loss: 1.3229 - mae: 0.7606 - val_loss: 1.4394 - val_mae: 0.7682\n",
            "Epoch 14/100\n",
            "21/21 [==============================] - 0s 3ms/step - loss: 1.3104 - mae: 0.7538 - val_loss: 1.4066 - val_mae: 0.7792\n",
            "Epoch 15/100\n",
            "21/21 [==============================] - 0s 3ms/step - loss: 1.3025 - mae: 0.7587 - val_loss: 1.3933 - val_mae: 0.7676\n",
            "Epoch 16/100\n",
            "21/21 [==============================] - 0s 3ms/step - loss: 1.2898 - mae: 0.7572 - val_loss: 1.3700 - val_mae: 0.7678\n",
            "Epoch 17/100\n",
            "21/21 [==============================] - 0s 3ms/step - loss: 1.2822 - mae: 0.7587 - val_loss: 1.3634 - val_mae: 0.7592\n",
            "Epoch 18/100\n",
            "21/21 [==============================] - 0s 3ms/step - loss: 1.2763 - mae: 0.7520 - val_loss: 1.3388 - val_mae: 0.7625\n",
            "Epoch 19/100\n",
            "21/21 [==============================] - 0s 3ms/step - loss: 1.2664 - mae: 0.7458 - val_loss: 1.3490 - val_mae: 0.7471\n",
            "Epoch 20/100\n",
            "21/21 [==============================] - 0s 2ms/step - loss: 1.2588 - mae: 0.7489 - val_loss: 1.3166 - val_mae: 0.7535\n",
            "Epoch 21/100\n",
            "21/21 [==============================] - 0s 3ms/step - loss: 1.2503 - mae: 0.7428 - val_loss: 1.3092 - val_mae: 0.7470\n",
            "Epoch 22/100\n",
            "21/21 [==============================] - 0s 2ms/step - loss: 1.2415 - mae: 0.7446 - val_loss: 1.2951 - val_mae: 0.7465\n",
            "Epoch 23/100\n",
            "21/21 [==============================] - 0s 2ms/step - loss: 1.2385 - mae: 0.7403 - val_loss: 1.2739 - val_mae: 0.7538\n",
            "Epoch 24/100\n",
            "21/21 [==============================] - 0s 3ms/step - loss: 1.2313 - mae: 0.7358 - val_loss: 1.2788 - val_mae: 0.7383\n",
            "Epoch 25/100\n",
            "21/21 [==============================] - 0s 3ms/step - loss: 1.2249 - mae: 0.7382 - val_loss: 1.2632 - val_mae: 0.7444\n",
            "Epoch 26/100\n",
            "21/21 [==============================] - 0s 2ms/step - loss: 1.2292 - mae: 0.7424 - val_loss: 1.2558 - val_mae: 0.7356\n",
            "Epoch 27/100\n",
            "21/21 [==============================] - 0s 3ms/step - loss: 1.2275 - mae: 0.7266 - val_loss: 1.2391 - val_mae: 0.7538\n",
            "Epoch 28/100\n",
            "21/21 [==============================] - 0s 3ms/step - loss: 1.2164 - mae: 0.7432 - val_loss: 1.2434 - val_mae: 0.7326\n",
            "Epoch 29/100\n",
            "21/21 [==============================] - 0s 2ms/step - loss: 1.2123 - mae: 0.7290 - val_loss: 1.2241 - val_mae: 0.7466\n",
            "Epoch 30/100\n",
            "21/21 [==============================] - 0s 2ms/step - loss: 1.2033 - mae: 0.7305 - val_loss: 1.2241 - val_mae: 0.7330\n",
            "Epoch 31/100\n",
            "21/21 [==============================] - 0s 3ms/step - loss: 1.1995 - mae: 0.7338 - val_loss: 1.2099 - val_mae: 0.7360\n",
            "Epoch 32/100\n",
            "21/21 [==============================] - 0s 3ms/step - loss: 1.1893 - mae: 0.7235 - val_loss: 1.2106 - val_mae: 0.7270\n",
            "Epoch 33/100\n",
            "21/21 [==============================] - 0s 3ms/step - loss: 1.1885 - mae: 0.7271 - val_loss: 1.1970 - val_mae: 0.7324\n",
            "Epoch 34/100\n",
            "21/21 [==============================] - 0s 3ms/step - loss: 1.1896 - mae: 0.7262 - val_loss: 1.1962 - val_mae: 0.7264\n",
            "Epoch 35/100\n",
            "21/21 [==============================] - 0s 2ms/step - loss: 1.1845 - mae: 0.7245 - val_loss: 1.1911 - val_mae: 0.7277\n",
            "Epoch 36/100\n",
            "21/21 [==============================] - 0s 3ms/step - loss: 1.1906 - mae: 0.7380 - val_loss: 1.1980 - val_mae: 0.7199\n",
            "Epoch 37/100\n",
            "21/21 [==============================] - 0s 3ms/step - loss: 1.1744 - mae: 0.7204 - val_loss: 1.1624 - val_mae: 0.7290\n",
            "Epoch 38/100\n",
            "21/21 [==============================] - 0s 3ms/step - loss: 1.1766 - mae: 0.7222 - val_loss: 1.2066 - val_mae: 0.7116\n",
            "Epoch 39/100\n",
            "21/21 [==============================] - 0s 2ms/step - loss: 1.1697 - mae: 0.7221 - val_loss: 1.1563 - val_mae: 0.7263\n",
            "Epoch 40/100\n",
            "21/21 [==============================] - 0s 3ms/step - loss: 1.1769 - mae: 0.7327 - val_loss: 1.1912 - val_mae: 0.7054\n",
            "Epoch 41/100\n",
            "21/21 [==============================] - 0s 3ms/step - loss: 1.1646 - mae: 0.7091 - val_loss: 1.1399 - val_mae: 0.7269\n",
            "Epoch 42/100\n",
            "21/21 [==============================] - 0s 3ms/step - loss: 1.1474 - mae: 0.7184 - val_loss: 1.1499 - val_mae: 0.7134\n",
            "Epoch 43/100\n",
            "21/21 [==============================] - 0s 2ms/step - loss: 1.1468 - mae: 0.7148 - val_loss: 1.1209 - val_mae: 0.7263\n",
            "Epoch 44/100\n",
            "21/21 [==============================] - 0s 3ms/step - loss: 1.1438 - mae: 0.7137 - val_loss: 1.1331 - val_mae: 0.7069\n",
            "Epoch 45/100\n",
            "21/21 [==============================] - 0s 2ms/step - loss: 1.1375 - mae: 0.7139 - val_loss: 1.1024 - val_mae: 0.7276\n",
            "Epoch 46/100\n",
            "21/21 [==============================] - 0s 2ms/step - loss: 1.1353 - mae: 0.7198 - val_loss: 1.1365 - val_mae: 0.6981\n",
            "Epoch 47/100\n",
            "21/21 [==============================] - 0s 3ms/step - loss: 1.1298 - mae: 0.7074 - val_loss: 1.1049 - val_mae: 0.7085\n",
            "Epoch 48/100\n",
            "21/21 [==============================] - 0s 3ms/step - loss: 1.1264 - mae: 0.7079 - val_loss: 1.0923 - val_mae: 0.7101\n",
            "Epoch 49/100\n",
            "21/21 [==============================] - 0s 3ms/step - loss: 1.1168 - mae: 0.7036 - val_loss: 1.0991 - val_mae: 0.6987\n",
            "Epoch 50/100\n",
            "21/21 [==============================] - 0s 3ms/step - loss: 1.1149 - mae: 0.7043 - val_loss: 1.0763 - val_mae: 0.7053\n",
            "Epoch 51/100\n",
            "21/21 [==============================] - 0s 2ms/step - loss: 1.1080 - mae: 0.7013 - val_loss: 1.0791 - val_mae: 0.7013\n",
            "Epoch 52/100\n",
            "21/21 [==============================] - 0s 3ms/step - loss: 1.1053 - mae: 0.7060 - val_loss: 1.0511 - val_mae: 0.7111\n",
            "Epoch 53/100\n",
            "21/21 [==============================] - 0s 3ms/step - loss: 1.0945 - mae: 0.6993 - val_loss: 1.0690 - val_mae: 0.6869\n",
            "Epoch 54/100\n",
            "21/21 [==============================] - 0s 3ms/step - loss: 1.0874 - mae: 0.6873 - val_loss: 1.0449 - val_mae: 0.6962\n",
            "Epoch 55/100\n",
            "21/21 [==============================] - 0s 3ms/step - loss: 1.0858 - mae: 0.7073 - val_loss: 1.0510 - val_mae: 0.6919\n",
            "Epoch 56/100\n",
            "21/21 [==============================] - 0s 3ms/step - loss: 1.0877 - mae: 0.6809 - val_loss: 1.0176 - val_mae: 0.6939\n",
            "Epoch 57/100\n",
            "21/21 [==============================] - 0s 3ms/step - loss: 1.0791 - mae: 0.7088 - val_loss: 1.0084 - val_mae: 0.6891\n",
            "Epoch 58/100\n",
            "21/21 [==============================] - 0s 2ms/step - loss: 1.0563 - mae: 0.6860 - val_loss: 1.0004 - val_mae: 0.6762\n",
            "Epoch 59/100\n",
            "21/21 [==============================] - 0s 3ms/step - loss: 1.0554 - mae: 0.6811 - val_loss: 0.9833 - val_mae: 0.6728\n",
            "Epoch 60/100\n",
            "21/21 [==============================] - 0s 4ms/step - loss: 1.0433 - mae: 0.6824 - val_loss: 0.9586 - val_mae: 0.6722\n",
            "Epoch 61/100\n",
            "21/21 [==============================] - 0s 2ms/step - loss: 1.0314 - mae: 0.6726 - val_loss: 0.9541 - val_mae: 0.6689\n",
            "Epoch 62/100\n",
            "21/21 [==============================] - 0s 3ms/step - loss: 1.0150 - mae: 0.6689 - val_loss: 0.9248 - val_mae: 0.6650\n",
            "Epoch 63/100\n",
            "21/21 [==============================] - 0s 2ms/step - loss: 1.0021 - mae: 0.6673 - val_loss: 0.9298 - val_mae: 0.6489\n",
            "Epoch 64/100\n",
            "21/21 [==============================] - 0s 2ms/step - loss: 0.9919 - mae: 0.6585 - val_loss: 0.8927 - val_mae: 0.6527\n",
            "Epoch 65/100\n",
            "21/21 [==============================] - 0s 3ms/step - loss: 0.9784 - mae: 0.6558 - val_loss: 0.9004 - val_mae: 0.6373\n",
            "Epoch 66/100\n",
            "21/21 [==============================] - 0s 3ms/step - loss: 0.9622 - mae: 0.6393 - val_loss: 0.8554 - val_mae: 0.6448\n",
            "Epoch 67/100\n",
            "21/21 [==============================] - 0s 3ms/step - loss: 0.9611 - mae: 0.6547 - val_loss: 0.8405 - val_mae: 0.6278\n",
            "Epoch 68/100\n",
            "21/21 [==============================] - 0s 3ms/step - loss: 0.9488 - mae: 0.6466 - val_loss: 0.8591 - val_mae: 0.6078\n",
            "Epoch 69/100\n",
            "21/21 [==============================] - 0s 3ms/step - loss: 0.9318 - mae: 0.6311 - val_loss: 0.7924 - val_mae: 0.6098\n",
            "Epoch 70/100\n",
            "21/21 [==============================] - 0s 3ms/step - loss: 0.9182 - mae: 0.6333 - val_loss: 0.7760 - val_mae: 0.6062\n",
            "Epoch 71/100\n",
            "21/21 [==============================] - 0s 3ms/step - loss: 0.9090 - mae: 0.6254 - val_loss: 0.7558 - val_mae: 0.5968\n",
            "Epoch 72/100\n",
            "21/21 [==============================] - 0s 3ms/step - loss: 0.8969 - mae: 0.6227 - val_loss: 0.7419 - val_mae: 0.5869\n",
            "Epoch 73/100\n",
            "21/21 [==============================] - 0s 3ms/step - loss: 0.9052 - mae: 0.6295 - val_loss: 0.7315 - val_mae: 0.5804\n",
            "Epoch 74/100\n",
            "21/21 [==============================] - 0s 3ms/step - loss: 0.8790 - mae: 0.6170 - val_loss: 0.7135 - val_mae: 0.5708\n",
            "Epoch 75/100\n",
            "21/21 [==============================] - 0s 3ms/step - loss: 0.8765 - mae: 0.6095 - val_loss: 0.6930 - val_mae: 0.5708\n",
            "Epoch 76/100\n",
            "21/21 [==============================] - 0s 2ms/step - loss: 0.8655 - mae: 0.6130 - val_loss: 0.6978 - val_mae: 0.5661\n",
            "Epoch 77/100\n",
            "21/21 [==============================] - 0s 2ms/step - loss: 0.8634 - mae: 0.6067 - val_loss: 0.6706 - val_mae: 0.5621\n",
            "Epoch 78/100\n",
            "21/21 [==============================] - 0s 3ms/step - loss: 0.8569 - mae: 0.6074 - val_loss: 0.6627 - val_mae: 0.5564\n",
            "Epoch 79/100\n",
            "21/21 [==============================] - 0s 3ms/step - loss: 0.8572 - mae: 0.6043 - val_loss: 0.6598 - val_mae: 0.5570\n",
            "Epoch 80/100\n",
            "21/21 [==============================] - 0s 2ms/step - loss: 0.8527 - mae: 0.6068 - val_loss: 0.6583 - val_mae: 0.5523\n",
            "Epoch 81/100\n",
            "21/21 [==============================] - 0s 2ms/step - loss: 0.8543 - mae: 0.5975 - val_loss: 0.6447 - val_mae: 0.5686\n",
            "Epoch 82/100\n",
            "21/21 [==============================] - 0s 3ms/step - loss: 0.8509 - mae: 0.5973 - val_loss: 0.6407 - val_mae: 0.5550\n",
            "Epoch 83/100\n",
            "21/21 [==============================] - 0s 3ms/step - loss: 0.8439 - mae: 0.6053 - val_loss: 0.6353 - val_mae: 0.5499\n",
            "Epoch 84/100\n",
            "21/21 [==============================] - 0s 3ms/step - loss: 0.8422 - mae: 0.6020 - val_loss: 0.6363 - val_mae: 0.5483\n",
            "Epoch 85/100\n",
            "21/21 [==============================] - 0s 3ms/step - loss: 0.8436 - mae: 0.5958 - val_loss: 0.6199 - val_mae: 0.5533\n",
            "Epoch 86/100\n",
            "21/21 [==============================] - 0s 3ms/step - loss: 0.8385 - mae: 0.5968 - val_loss: 0.6221 - val_mae: 0.5462\n",
            "Epoch 87/100\n",
            "21/21 [==============================] - 0s 3ms/step - loss: 0.8366 - mae: 0.5989 - val_loss: 0.6218 - val_mae: 0.5446\n",
            "Epoch 88/100\n",
            "21/21 [==============================] - 0s 3ms/step - loss: 0.8345 - mae: 0.5969 - val_loss: 0.6224 - val_mae: 0.5477\n",
            "Epoch 89/100\n",
            "21/21 [==============================] - 0s 3ms/step - loss: 0.8290 - mae: 0.5915 - val_loss: 0.6103 - val_mae: 0.5491\n",
            "Epoch 90/100\n",
            "21/21 [==============================] - 0s 3ms/step - loss: 0.8236 - mae: 0.5915 - val_loss: 0.6229 - val_mae: 0.5479\n",
            "Epoch 91/100\n",
            "21/21 [==============================] - 0s 2ms/step - loss: 0.8298 - mae: 0.5921 - val_loss: 0.6039 - val_mae: 0.5423\n",
            "Epoch 92/100\n",
            "21/21 [==============================] - 0s 3ms/step - loss: 0.8365 - mae: 0.5943 - val_loss: 0.5956 - val_mae: 0.5396\n",
            "Epoch 93/100\n",
            "21/21 [==============================] - 0s 3ms/step - loss: 0.8287 - mae: 0.5894 - val_loss: 0.5967 - val_mae: 0.5508\n",
            "Epoch 94/100\n",
            "21/21 [==============================] - 0s 2ms/step - loss: 0.8329 - mae: 0.5967 - val_loss: 0.6295 - val_mae: 0.5476\n",
            "Epoch 95/100\n",
            "21/21 [==============================] - 0s 2ms/step - loss: 0.8264 - mae: 0.5926 - val_loss: 0.5957 - val_mae: 0.5439\n",
            "Epoch 96/100\n",
            "21/21 [==============================] - 0s 2ms/step - loss: 0.8247 - mae: 0.5859 - val_loss: 0.5933 - val_mae: 0.5451\n",
            "Epoch 97/100\n",
            "21/21 [==============================] - 0s 3ms/step - loss: 0.8222 - mae: 0.5906 - val_loss: 0.5981 - val_mae: 0.5488\n",
            "Epoch 98/100\n",
            "21/21 [==============================] - 0s 2ms/step - loss: 0.8149 - mae: 0.5904 - val_loss: 0.6063 - val_mae: 0.5421\n",
            "Epoch 99/100\n",
            "21/21 [==============================] - 0s 3ms/step - loss: 0.8227 - mae: 0.5909 - val_loss: 0.5807 - val_mae: 0.5372\n",
            "Epoch 100/100\n",
            "21/21 [==============================] - 0s 3ms/step - loss: 0.8138 - mae: 0.5841 - val_loss: 0.5912 - val_mae: 0.5440\n"
          ],
          "name": "stdout"
        },
        {
          "output_type": "execute_result",
          "data": {
            "text/plain": [
              "<tensorflow.python.keras.callbacks.History at 0x7facb0bb53d0>"
            ]
          },
          "metadata": {
            "tags": []
          },
          "execution_count": 6
        }
      ]
    },
    {
      "cell_type": "markdown",
      "metadata": {
        "id": "oyDHKVtlKBOU"
      },
      "source": [
        "## Vyhodnocení kvality modelu\n",
        "\n",
        "Nakonec provedeme predikce pro testovací data a vyhodnotíme výsledky. Pro vyhodnocení použijeme MAE i RMSE. Výsledky můžeme porovnat i s kvalitou dosaženou pomocí linární regrese a rozhodovacích stromů."
      ]
    },
    {
      "cell_type": "code",
      "metadata": {
        "colab": {
          "base_uri": "https://localhost:8080/"
        },
        "id": "00Qdvg0WAXga",
        "outputId": "9c97722a-1ea5-481d-8802-3fbe30429698"
      },
      "source": [
        "from sklearn.metrics import mean_absolute_error, mean_squared_error\n",
        "\n",
        "y_pred = model.predict(X_test_std)\n",
        "\n",
        "print (\"Vyhodocnoceni kvality MAE: {}, MSE: {}\".format(mean_absolute_error(y_test, y_pred), mean_squared_error(y_test, y_pred, squared=False)))"
      ],
      "execution_count": 7,
      "outputs": [
        {
          "output_type": "stream",
          "text": [
            "Vyhodocnoceni kvality MAE: 0.5440071045209283, MSE: 0.768921226651146\n"
          ],
          "name": "stdout"
        }
      ]
    },
    {
      "cell_type": "markdown",
      "metadata": {
        "id": "AJrZw1PCeeNW"
      },
      "source": [
        "Výsledky z linární regrsese a rozhodovacích stromů jsou následující:\n",
        "\n",
        "Linearni regrese MAE: 0.6578472596904307, MSE: 0.8588766801030574\n",
        "\n",
        "Random forest MAE: 0.5328928962818005, MSE: 0.74871399470129\n",
        "\n",
        "Kvalita neuronových sítí pro tuto úlohu je tedy výrazně lepší než u lineární regese a srovnatelná s rozhodovacími stromy."
      ]
    }
  ]
}