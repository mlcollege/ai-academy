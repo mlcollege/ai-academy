{
  "nbformat": 4,
  "nbformat_minor": 0,
  "metadata": {
    "colab": {
      "name": "Ceny_domu_neuronove_site.ipynb",
      "provenance": []
    },
    "kernelspec": {
      "name": "python3",
      "display_name": "Python 3"
    },
    "language_info": {
      "name": "python"
    }
  },
  "cells": [
    {
      "cell_type": "markdown",
      "metadata": {
        "id": "hjpyCWHGvc3_"
      },
      "source": [
        "# Regrese s využitím neuronový sítí\n"
      ]
    },
    {
      "cell_type": "markdown",
      "metadata": {
        "id": "ts3obL7_v78z"
      },
      "source": [
        "Pro ilustraci použití neuronových sítí v knihovně [TensorFlow](https://www.tensorflow.org/) použijeme opět data set cen nemovitostí."
      ]
    },
    {
      "cell_type": "markdown",
      "metadata": {
        "id": "tiTjSahWwyOo"
      },
      "source": [
        "## Načteme trénovací a testovací data do DataFramu Pandas.\n",
        "\n",
        "* **Stav** je stav budovy na škále 1 až 10, kde 1 je nejhorší a 10 nejlepší.\n",
        "* **plocha** je obytná plocha budovy v metrech čtverečních\n",
        "* **rok_stavby** je rok výstavby domu\n",
        "* **rok_prodeje** je rok, ve kterém byl dům prodaný\n",
        "* **cena** je cena, za kterou se dům prodal "
      ]
    },
    {
      "cell_type": "code",
      "metadata": {
        "colab": {
          "base_uri": "https://localhost:8080/",
          "height": 204
        },
        "id": "8b_KttVpw6jr",
        "outputId": "93f533f9-c208-472e-fff0-d5bc389dd883"
      },
      "source": [
        "import pandas as pd\n",
        "data = pd.read_csv(\"https://raw.githubusercontent.com/mlcollege/ai-academy/main/06-Regrese/data/ceny_domu.csv\", sep=',')\n",
        "data.head()"
      ],
      "execution_count": 1,
      "outputs": [
        {
          "output_type": "execute_result",
          "data": {
            "text/html": [
              "<div>\n",
              "<style scoped>\n",
              "    .dataframe tbody tr th:only-of-type {\n",
              "        vertical-align: middle;\n",
              "    }\n",
              "\n",
              "    .dataframe tbody tr th {\n",
              "        vertical-align: top;\n",
              "    }\n",
              "\n",
              "    .dataframe thead th {\n",
              "        text-align: right;\n",
              "    }\n",
              "</style>\n",
              "<table border=\"1\" class=\"dataframe\">\n",
              "  <thead>\n",
              "    <tr style=\"text-align: right;\">\n",
              "      <th></th>\n",
              "      <th>kvalita</th>\n",
              "      <th>plocha</th>\n",
              "      <th>datum_stavby</th>\n",
              "      <th>datum_prodeje</th>\n",
              "      <th>cena</th>\n",
              "    </tr>\n",
              "  </thead>\n",
              "  <tbody>\n",
              "    <tr>\n",
              "      <th>0</th>\n",
              "      <td>7</td>\n",
              "      <td>158</td>\n",
              "      <td>2003</td>\n",
              "      <td>2008</td>\n",
              "      <td>5.21</td>\n",
              "    </tr>\n",
              "    <tr>\n",
              "      <th>1</th>\n",
              "      <td>6</td>\n",
              "      <td>117</td>\n",
              "      <td>1976</td>\n",
              "      <td>2007</td>\n",
              "      <td>4.54</td>\n",
              "    </tr>\n",
              "    <tr>\n",
              "      <th>2</th>\n",
              "      <td>7</td>\n",
              "      <td>165</td>\n",
              "      <td>2001</td>\n",
              "      <td>2008</td>\n",
              "      <td>5.59</td>\n",
              "    </tr>\n",
              "    <tr>\n",
              "      <th>3</th>\n",
              "      <td>7</td>\n",
              "      <td>159</td>\n",
              "      <td>1915</td>\n",
              "      <td>2006</td>\n",
              "      <td>3.50</td>\n",
              "    </tr>\n",
              "    <tr>\n",
              "      <th>4</th>\n",
              "      <td>8</td>\n",
              "      <td>204</td>\n",
              "      <td>2000</td>\n",
              "      <td>2008</td>\n",
              "      <td>6.25</td>\n",
              "    </tr>\n",
              "  </tbody>\n",
              "</table>\n",
              "</div>"
            ],
            "text/plain": [
              "   kvalita  plocha  datum_stavby  datum_prodeje  cena\n",
              "0        7     158          2003           2008  5.21\n",
              "1        6     117          1976           2007  4.54\n",
              "2        7     165          2001           2008  5.59\n",
              "3        7     159          1915           2006  3.50\n",
              "4        8     204          2000           2008  6.25"
            ]
          },
          "metadata": {
            "tags": []
          },
          "execution_count": 1
        }
      ]
    },
    {
      "cell_type": "markdown",
      "metadata": {
        "id": "5vuDzO3d30zl"
      },
      "source": [
        "## Rozdělíme si data na trénovací a testovací"
      ]
    },
    {
      "cell_type": "code",
      "metadata": {
        "colab": {
          "base_uri": "https://localhost:8080/"
        },
        "id": "aB-6wsM6xnGC",
        "outputId": "88c4ab97-3b5b-4216-efb3-08b688fc65eb"
      },
      "source": [
        "from sklearn.model_selection import train_test_split\n",
        "\n",
        "input_features = ['kvalita', 'plocha', 'datum_stavby',\t'datum_prodeje']\n",
        "target_feature = 'cena'\n",
        "\n",
        "X_train, X_test, y_train, y_test = train_test_split(data[input_features], data[target_feature], test_size=0.1)\n",
        "print('Velikost trenovaci mnoziny: {}'.format(len(X_train)))\n",
        "print('Velikost testovaci mnoziny: {}'.format(len(X_test)))"
      ],
      "execution_count": 2,
      "outputs": [
        {
          "output_type": "stream",
          "text": [
            "Velikost trenovaci mnoziny: 1314\n",
            "Velikost testovaci mnoziny: 146\n"
          ],
          "name": "stdout"
        }
      ]
    },
    {
      "cell_type": "markdown",
      "metadata": {
        "id": "8iSmcd_tEyWq"
      },
      "source": [
        "## Vytvoříme a natrénujeme model neuronové sítě\n",
        "\n"
      ]
    },
    {
      "cell_type": "markdown",
      "metadata": {
        "id": "HJCSsXsiHBIh"
      },
      "source": [
        "Nejprve je vhodné data standardizovat stejným zůsobem jako jsme to dělali u logistické regrese. K tomu můžeme použití ScikitLearn."
      ]
    },
    {
      "cell_type": "code",
      "metadata": {
        "id": "Wu0RZFpAHgdD"
      },
      "source": [
        "from sklearn.preprocessing import StandardScaler\n",
        "\n",
        "scaler = StandardScaler()\n",
        "scaler.fit(X_train)\n",
        "\n",
        "X_train_std = scaler.transform(X_train)\n",
        "X_test_std = scaler.transform(X_test)"
      ],
      "execution_count": 3,
      "outputs": []
    },
    {
      "cell_type": "markdown",
      "metadata": {
        "id": "U4egjJ5oJBBC"
      },
      "source": [
        "Nyní můžeme vytvořit model neuronové sítě. Pouužijeme model se třemi vrstvami, přičemž první vrstva bude mít 30 neuronů a aktivační funkci _tanh_, druhá vrstva rovněž a poslední vrstva bude mít pouze jediný neuron s lineární aktivační funkcí. "
      ]
    },
    {
      "cell_type": "code",
      "metadata": {
        "id": "I9F3UwPRJHH5"
      },
      "source": [
        "%tensorflow_version 2.x\n",
        "from tensorflow.python.keras.models import Sequential\n",
        "from tensorflow.python.keras.layers import Dense, Activation\n",
        "\n",
        "model = Sequential()\n",
        "\n",
        "model.add(Dense(30, input_shape=(4, )))\n",
        "model.add(Activation('tanh'))\n",
        "model.add(Dense(30))\n",
        "model.add(Activation('tanh'))\n",
        "model.add(Dense(1))\n",
        "model.add(Activation('linear'))"
      ],
      "execution_count": 4,
      "outputs": []
    },
    {
      "cell_type": "markdown",
      "metadata": {
        "id": "5nX8hgCHLFEu"
      },
      "source": [
        "Dále je potřeba model zkompilovat. Pro kompilaci musíme zadat několik důležitých parametrů:\n",
        "* **loss** - chybová funknce, kterou budeme minimalizovat. Vzhledem k tomu, že se jedná o regresi, bude vhodnou funkcí Mean Squared Error.\n",
        "* **optimizer** - algoritmů pro hledání minima chybové funkce existuje celá řada. Všechny vycházejí z podobných principů a liší se hlavně ve způsobech, jakými minimalizují šanci uvíznutí v nějakém špatném lokálním extrému. Jedním z nejčastěji používaných optimalizátorů je [Adam](https://keras.io/api/optimizers/adam/).\n",
        "* **metrics** - během trénování umožňuje algoritmus průběžné vypisování aktuální kvality modelu. Pokud o to stojíme, je třeba specifikovat konkrétní metriku. V našem případě jsme zvolili Mean Absolute Error."
      ]
    },
    {
      "cell_type": "code",
      "metadata": {
        "id": "BY9gO9afKx6j"
      },
      "source": [
        "model.compile(loss='mean_squared_error',\n",
        "              optimizer='adam',\n",
        "              metrics=['mae'])"
      ],
      "execution_count": 5,
      "outputs": []
    },
    {
      "cell_type": "markdown",
      "metadata": {
        "id": "IarkYvEaM1Xp"
      },
      "source": [
        "Samotné trénování se provádí metodou fit a je třeba opět specifikovat několik parametrů:\n",
        "\n",
        "* trénovací data - X_train_std a y_train\n",
        "* **batch_size** - počet trénovacích příkladů, které jsou zpracovávány současně.\n",
        "* **epochs** - počet epoch (průchodů celými trénovacími daty).\n",
        "* **verbose** - úroveň množství výpisů během trénování\n",
        "* **validation_data** - data, použitá pro validaci"
      ]
    },
    {
      "cell_type": "code",
      "metadata": {
        "colab": {
          "base_uri": "https://localhost:8080/"
        },
        "id": "TYgSykN1N7DN",
        "outputId": "a9a23939-ab8e-4b30-c984-5085153d163e"
      },
      "source": [
        "model.fit(X_train_std, y_train,\n",
        "          batch_size = 64, epochs = 100, verbose=1,\n",
        "          validation_data=(X_test_std, y_test))"
      ],
      "execution_count": 6,
      "outputs": [
        {
          "output_type": "stream",
          "text": [
            "Epoch 1/100\n",
            "21/21 [==============================] - 1s 11ms/step - loss: 21.7230 - mae: 4.3664 - val_loss: 22.4440 - val_mae: 4.4201\n",
            "Epoch 2/100\n",
            "21/21 [==============================] - 0s 2ms/step - loss: 17.6982 - mae: 4.0447 - val_loss: 18.6094 - val_mae: 4.0331\n",
            "Epoch 3/100\n",
            "21/21 [==============================] - 0s 3ms/step - loss: 14.0564 - mae: 3.5819 - val_loss: 14.2687 - val_mae: 3.4544\n",
            "Epoch 4/100\n",
            "21/21 [==============================] - 0s 3ms/step - loss: 9.6357 - mae: 2.8917 - val_loss: 9.2776 - val_mae: 2.6184\n",
            "Epoch 5/100\n",
            "21/21 [==============================] - 0s 3ms/step - loss: 5.0929 - mae: 1.9614 - val_loss: 4.8908 - val_mae: 1.6077\n",
            "Epoch 6/100\n",
            "21/21 [==============================] - 0s 2ms/step - loss: 2.2017 - mae: 1.0751 - val_loss: 2.8643 - val_mae: 0.9580\n",
            "Epoch 7/100\n",
            "21/21 [==============================] - 0s 3ms/step - loss: 1.3356 - mae: 0.7751 - val_loss: 2.4075 - val_mae: 0.8875\n",
            "Epoch 8/100\n",
            "21/21 [==============================] - 0s 3ms/step - loss: 1.2500 - mae: 0.7757 - val_loss: 2.3672 - val_mae: 0.8780\n",
            "Epoch 9/100\n",
            "21/21 [==============================] - 0s 2ms/step - loss: 1.2347 - mae: 0.7706 - val_loss: 2.3391 - val_mae: 0.8732\n",
            "Epoch 10/100\n",
            "21/21 [==============================] - 0s 2ms/step - loss: 1.2127 - mae: 0.7660 - val_loss: 2.3091 - val_mae: 0.8690\n",
            "Epoch 11/100\n",
            "21/21 [==============================] - 0s 3ms/step - loss: 1.1974 - mae: 0.7537 - val_loss: 2.2873 - val_mae: 0.8709\n",
            "Epoch 12/100\n",
            "21/21 [==============================] - 0s 3ms/step - loss: 1.1883 - mae: 0.7586 - val_loss: 2.2752 - val_mae: 0.8610\n",
            "Epoch 13/100\n",
            "21/21 [==============================] - 0s 3ms/step - loss: 1.1736 - mae: 0.7509 - val_loss: 2.2300 - val_mae: 0.8638\n",
            "Epoch 14/100\n",
            "21/21 [==============================] - 0s 3ms/step - loss: 1.1698 - mae: 0.7608 - val_loss: 2.2524 - val_mae: 0.8551\n",
            "Epoch 15/100\n",
            "21/21 [==============================] - 0s 3ms/step - loss: 1.1605 - mae: 0.7358 - val_loss: 2.1915 - val_mae: 0.8583\n",
            "Epoch 16/100\n",
            "21/21 [==============================] - 0s 3ms/step - loss: 1.1477 - mae: 0.7376 - val_loss: 2.2087 - val_mae: 0.8507\n",
            "Epoch 17/100\n",
            "21/21 [==============================] - 0s 3ms/step - loss: 1.1379 - mae: 0.7351 - val_loss: 2.1576 - val_mae: 0.8528\n",
            "Epoch 18/100\n",
            "21/21 [==============================] - 0s 3ms/step - loss: 1.1341 - mae: 0.7407 - val_loss: 2.1676 - val_mae: 0.8522\n",
            "Epoch 19/100\n",
            "21/21 [==============================] - 0s 3ms/step - loss: 1.1263 - mae: 0.7307 - val_loss: 2.1415 - val_mae: 0.8470\n",
            "Epoch 20/100\n",
            "21/21 [==============================] - 0s 4ms/step - loss: 1.1207 - mae: 0.7356 - val_loss: 2.1274 - val_mae: 0.8470\n",
            "Epoch 21/100\n",
            "21/21 [==============================] - 0s 2ms/step - loss: 1.1114 - mae: 0.7326 - val_loss: 2.1030 - val_mae: 0.8491\n",
            "Epoch 22/100\n",
            "21/21 [==============================] - 0s 3ms/step - loss: 1.1048 - mae: 0.7399 - val_loss: 2.1174 - val_mae: 0.8394\n",
            "Epoch 23/100\n",
            "21/21 [==============================] - 0s 4ms/step - loss: 1.1018 - mae: 0.7142 - val_loss: 2.0830 - val_mae: 0.8486\n",
            "Epoch 24/100\n",
            "21/21 [==============================] - 0s 3ms/step - loss: 1.0946 - mae: 0.7334 - val_loss: 2.0745 - val_mae: 0.8407\n",
            "Epoch 25/100\n",
            "21/21 [==============================] - 0s 3ms/step - loss: 1.0898 - mae: 0.7180 - val_loss: 2.0678 - val_mae: 0.8381\n",
            "Epoch 26/100\n",
            "21/21 [==============================] - 0s 3ms/step - loss: 1.0854 - mae: 0.7309 - val_loss: 2.0897 - val_mae: 0.8363\n",
            "Epoch 27/100\n",
            "21/21 [==============================] - 0s 3ms/step - loss: 1.0913 - mae: 0.7218 - val_loss: 2.0608 - val_mae: 0.8283\n",
            "Epoch 28/100\n",
            "21/21 [==============================] - 0s 3ms/step - loss: 1.0689 - mae: 0.7166 - val_loss: 2.0248 - val_mae: 0.8360\n",
            "Epoch 29/100\n",
            "21/21 [==============================] - 0s 3ms/step - loss: 1.0629 - mae: 0.7179 - val_loss: 2.0261 - val_mae: 0.8271\n",
            "Epoch 30/100\n",
            "21/21 [==============================] - 0s 3ms/step - loss: 1.0602 - mae: 0.7149 - val_loss: 2.0258 - val_mae: 0.8292\n",
            "Epoch 31/100\n",
            "21/21 [==============================] - 0s 3ms/step - loss: 1.0605 - mae: 0.7113 - val_loss: 1.9938 - val_mae: 0.8317\n",
            "Epoch 32/100\n",
            "21/21 [==============================] - 0s 2ms/step - loss: 1.0455 - mae: 0.7116 - val_loss: 2.0028 - val_mae: 0.8242\n",
            "Epoch 33/100\n",
            "21/21 [==============================] - 0s 3ms/step - loss: 1.0437 - mae: 0.7005 - val_loss: 1.9713 - val_mae: 0.8314\n",
            "Epoch 34/100\n",
            "21/21 [==============================] - 0s 3ms/step - loss: 1.0402 - mae: 0.7157 - val_loss: 1.9928 - val_mae: 0.8261\n",
            "Epoch 35/100\n",
            "21/21 [==============================] - 0s 3ms/step - loss: 1.0351 - mae: 0.6989 - val_loss: 1.9659 - val_mae: 0.8222\n",
            "Epoch 36/100\n",
            "21/21 [==============================] - 0s 3ms/step - loss: 1.0305 - mae: 0.6983 - val_loss: 1.9293 - val_mae: 0.8311\n",
            "Epoch 37/100\n",
            "21/21 [==============================] - 0s 3ms/step - loss: 1.0227 - mae: 0.6990 - val_loss: 1.9356 - val_mae: 0.8195\n",
            "Epoch 38/100\n",
            "21/21 [==============================] - 0s 3ms/step - loss: 1.0158 - mae: 0.7044 - val_loss: 1.9533 - val_mae: 0.8147\n",
            "Epoch 39/100\n",
            "21/21 [==============================] - 0s 3ms/step - loss: 1.0119 - mae: 0.6928 - val_loss: 1.9142 - val_mae: 0.8158\n",
            "Epoch 40/100\n",
            "21/21 [==============================] - 0s 3ms/step - loss: 1.0073 - mae: 0.6983 - val_loss: 1.8964 - val_mae: 0.8193\n",
            "Epoch 41/100\n",
            "21/21 [==============================] - 0s 3ms/step - loss: 1.0049 - mae: 0.6858 - val_loss: 1.8816 - val_mae: 0.8182\n",
            "Epoch 42/100\n",
            "21/21 [==============================] - 0s 3ms/step - loss: 0.9974 - mae: 0.6920 - val_loss: 1.8963 - val_mae: 0.8169\n",
            "Epoch 43/100\n",
            "21/21 [==============================] - 0s 3ms/step - loss: 0.9864 - mae: 0.6846 - val_loss: 1.8509 - val_mae: 0.8115\n",
            "Epoch 44/100\n",
            "21/21 [==============================] - 0s 3ms/step - loss: 0.9789 - mae: 0.6865 - val_loss: 1.8592 - val_mae: 0.8080\n",
            "Epoch 45/100\n",
            "21/21 [==============================] - 0s 3ms/step - loss: 0.9752 - mae: 0.6781 - val_loss: 1.8675 - val_mae: 0.8072\n",
            "Epoch 46/100\n",
            "21/21 [==============================] - 0s 3ms/step - loss: 0.9659 - mae: 0.6809 - val_loss: 1.8456 - val_mae: 0.7969\n",
            "Epoch 47/100\n",
            "21/21 [==============================] - 0s 3ms/step - loss: 0.9632 - mae: 0.6802 - val_loss: 1.8309 - val_mae: 0.7990\n",
            "Epoch 48/100\n",
            "21/21 [==============================] - 0s 3ms/step - loss: 0.9527 - mae: 0.6744 - val_loss: 1.8196 - val_mae: 0.7959\n",
            "Epoch 49/100\n",
            "21/21 [==============================] - 0s 3ms/step - loss: 0.9586 - mae: 0.6702 - val_loss: 1.7752 - val_mae: 0.7947\n",
            "Epoch 50/100\n",
            "21/21 [==============================] - 0s 4ms/step - loss: 0.9358 - mae: 0.6656 - val_loss: 1.7843 - val_mae: 0.7932\n",
            "Epoch 51/100\n",
            "21/21 [==============================] - 0s 3ms/step - loss: 0.9413 - mae: 0.6684 - val_loss: 1.8438 - val_mae: 0.7799\n",
            "Epoch 52/100\n",
            "21/21 [==============================] - 0s 3ms/step - loss: 0.9220 - mae: 0.6552 - val_loss: 1.7267 - val_mae: 0.8013\n",
            "Epoch 53/100\n",
            "21/21 [==============================] - 0s 3ms/step - loss: 0.9140 - mae: 0.6619 - val_loss: 1.7453 - val_mae: 0.7740\n",
            "Epoch 54/100\n",
            "21/21 [==============================] - 0s 3ms/step - loss: 0.9004 - mae: 0.6388 - val_loss: 1.7086 - val_mae: 0.7759\n",
            "Epoch 55/100\n",
            "21/21 [==============================] - 0s 3ms/step - loss: 0.9053 - mae: 0.6605 - val_loss: 1.7336 - val_mae: 0.7680\n",
            "Epoch 56/100\n",
            "21/21 [==============================] - 0s 3ms/step - loss: 0.8884 - mae: 0.6414 - val_loss: 1.7292 - val_mae: 0.7725\n",
            "Epoch 57/100\n",
            "21/21 [==============================] - 0s 3ms/step - loss: 0.8772 - mae: 0.6356 - val_loss: 1.6716 - val_mae: 0.7556\n",
            "Epoch 58/100\n",
            "21/21 [==============================] - 0s 3ms/step - loss: 0.8671 - mae: 0.6362 - val_loss: 1.6620 - val_mae: 0.7597\n",
            "Epoch 59/100\n",
            "21/21 [==============================] - 0s 3ms/step - loss: 0.8565 - mae: 0.6303 - val_loss: 1.6926 - val_mae: 0.7509\n",
            "Epoch 60/100\n",
            "21/21 [==============================] - 0s 3ms/step - loss: 0.8492 - mae: 0.6255 - val_loss: 1.6128 - val_mae: 0.7496\n",
            "Epoch 61/100\n",
            "21/21 [==============================] - 0s 4ms/step - loss: 0.8427 - mae: 0.6242 - val_loss: 1.6101 - val_mae: 0.7520\n",
            "Epoch 62/100\n",
            "21/21 [==============================] - 0s 3ms/step - loss: 0.8320 - mae: 0.6159 - val_loss: 1.6106 - val_mae: 0.7445\n",
            "Epoch 63/100\n",
            "21/21 [==============================] - 0s 3ms/step - loss: 0.8296 - mae: 0.6198 - val_loss: 1.6220 - val_mae: 0.7354\n",
            "Epoch 64/100\n",
            "21/21 [==============================] - 0s 3ms/step - loss: 0.8295 - mae: 0.6124 - val_loss: 1.6411 - val_mae: 0.7320\n",
            "Epoch 65/100\n",
            "21/21 [==============================] - 0s 3ms/step - loss: 0.8215 - mae: 0.6129 - val_loss: 1.6050 - val_mae: 0.7274\n",
            "Epoch 66/100\n",
            "21/21 [==============================] - 0s 2ms/step - loss: 0.8076 - mae: 0.6018 - val_loss: 1.5593 - val_mae: 0.7309\n",
            "Epoch 67/100\n",
            "21/21 [==============================] - 0s 3ms/step - loss: 0.8046 - mae: 0.6019 - val_loss: 1.5604 - val_mae: 0.7292\n",
            "Epoch 68/100\n",
            "21/21 [==============================] - 0s 3ms/step - loss: 0.7939 - mae: 0.5984 - val_loss: 1.5487 - val_mae: 0.7168\n",
            "Epoch 69/100\n",
            "21/21 [==============================] - 0s 3ms/step - loss: 0.7937 - mae: 0.5998 - val_loss: 1.5665 - val_mae: 0.7217\n",
            "Epoch 70/100\n",
            "21/21 [==============================] - 0s 3ms/step - loss: 0.7896 - mae: 0.5942 - val_loss: 1.5170 - val_mae: 0.7288\n",
            "Epoch 71/100\n",
            "21/21 [==============================] - 0s 3ms/step - loss: 0.7894 - mae: 0.5986 - val_loss: 1.5119 - val_mae: 0.7154\n",
            "Epoch 72/100\n",
            "21/21 [==============================] - 0s 3ms/step - loss: 0.7797 - mae: 0.5881 - val_loss: 1.5185 - val_mae: 0.7128\n",
            "Epoch 73/100\n",
            "21/21 [==============================] - 0s 3ms/step - loss: 0.7814 - mae: 0.5917 - val_loss: 1.5090 - val_mae: 0.7080\n",
            "Epoch 74/100\n",
            "21/21 [==============================] - 0s 3ms/step - loss: 0.7794 - mae: 0.5874 - val_loss: 1.5465 - val_mae: 0.7067\n",
            "Epoch 75/100\n",
            "21/21 [==============================] - 0s 3ms/step - loss: 0.7865 - mae: 0.5988 - val_loss: 1.5988 - val_mae: 0.7129\n",
            "Epoch 76/100\n",
            "21/21 [==============================] - 0s 3ms/step - loss: 0.7683 - mae: 0.5800 - val_loss: 1.4612 - val_mae: 0.7134\n",
            "Epoch 77/100\n",
            "21/21 [==============================] - 0s 3ms/step - loss: 0.7684 - mae: 0.5913 - val_loss: 1.5356 - val_mae: 0.7040\n",
            "Epoch 78/100\n",
            "21/21 [==============================] - 0s 3ms/step - loss: 0.7723 - mae: 0.5877 - val_loss: 1.5302 - val_mae: 0.6995\n",
            "Epoch 79/100\n",
            "21/21 [==============================] - 0s 2ms/step - loss: 0.7611 - mae: 0.5814 - val_loss: 1.4879 - val_mae: 0.7037\n",
            "Epoch 80/100\n",
            "21/21 [==============================] - 0s 3ms/step - loss: 0.7517 - mae: 0.5788 - val_loss: 1.4966 - val_mae: 0.6892\n",
            "Epoch 81/100\n",
            "21/21 [==============================] - 0s 3ms/step - loss: 0.7553 - mae: 0.5798 - val_loss: 1.5068 - val_mae: 0.6983\n",
            "Epoch 82/100\n",
            "21/21 [==============================] - 0s 3ms/step - loss: 0.7473 - mae: 0.5753 - val_loss: 1.4755 - val_mae: 0.6950\n",
            "Epoch 83/100\n",
            "21/21 [==============================] - 0s 2ms/step - loss: 0.7474 - mae: 0.5781 - val_loss: 1.4925 - val_mae: 0.6881\n",
            "Epoch 84/100\n",
            "21/21 [==============================] - 0s 3ms/step - loss: 0.7452 - mae: 0.5710 - val_loss: 1.4746 - val_mae: 0.6976\n",
            "Epoch 85/100\n",
            "21/21 [==============================] - 0s 3ms/step - loss: 0.7541 - mae: 0.5861 - val_loss: 1.4830 - val_mae: 0.7043\n",
            "Epoch 86/100\n",
            "21/21 [==============================] - 0s 3ms/step - loss: 0.7475 - mae: 0.5787 - val_loss: 1.4856 - val_mae: 0.6879\n",
            "Epoch 87/100\n",
            "21/21 [==============================] - 0s 3ms/step - loss: 0.7360 - mae: 0.5697 - val_loss: 1.4643 - val_mae: 0.6940\n",
            "Epoch 88/100\n",
            "21/21 [==============================] - 0s 3ms/step - loss: 0.7386 - mae: 0.5725 - val_loss: 1.4512 - val_mae: 0.6866\n",
            "Epoch 89/100\n",
            "21/21 [==============================] - 0s 3ms/step - loss: 0.7428 - mae: 0.5718 - val_loss: 1.4524 - val_mae: 0.7019\n",
            "Epoch 90/100\n",
            "21/21 [==============================] - 0s 3ms/step - loss: 0.7472 - mae: 0.5782 - val_loss: 1.4828 - val_mae: 0.6939\n",
            "Epoch 91/100\n",
            "21/21 [==============================] - 0s 3ms/step - loss: 0.7323 - mae: 0.5725 - val_loss: 1.4302 - val_mae: 0.6848\n",
            "Epoch 92/100\n",
            "21/21 [==============================] - 0s 3ms/step - loss: 0.7404 - mae: 0.5776 - val_loss: 1.4889 - val_mae: 0.6817\n",
            "Epoch 93/100\n",
            "21/21 [==============================] - 0s 3ms/step - loss: 0.7359 - mae: 0.5739 - val_loss: 1.4239 - val_mae: 0.6878\n",
            "Epoch 94/100\n",
            "21/21 [==============================] - 0s 3ms/step - loss: 0.7288 - mae: 0.5694 - val_loss: 1.4839 - val_mae: 0.6819\n",
            "Epoch 95/100\n",
            "21/21 [==============================] - 0s 3ms/step - loss: 0.7318 - mae: 0.5746 - val_loss: 1.4842 - val_mae: 0.6918\n",
            "Epoch 96/100\n",
            "21/21 [==============================] - 0s 3ms/step - loss: 0.7313 - mae: 0.5708 - val_loss: 1.4677 - val_mae: 0.6785\n",
            "Epoch 97/100\n",
            "21/21 [==============================] - 0s 3ms/step - loss: 0.7277 - mae: 0.5726 - val_loss: 1.4695 - val_mae: 0.6887\n",
            "Epoch 98/100\n",
            "21/21 [==============================] - 0s 3ms/step - loss: 0.7318 - mae: 0.5791 - val_loss: 1.5111 - val_mae: 0.6856\n",
            "Epoch 99/100\n",
            "21/21 [==============================] - 0s 3ms/step - loss: 0.7447 - mae: 0.5762 - val_loss: 1.4387 - val_mae: 0.6928\n",
            "Epoch 100/100\n",
            "21/21 [==============================] - 0s 3ms/step - loss: 0.7348 - mae: 0.5739 - val_loss: 1.5112 - val_mae: 0.6922\n"
          ],
          "name": "stdout"
        },
        {
          "output_type": "execute_result",
          "data": {
            "text/plain": [
              "<tensorflow.python.keras.callbacks.History at 0x7fb30f524410>"
            ]
          },
          "metadata": {
            "tags": []
          },
          "execution_count": 6
        }
      ]
    },
    {
      "cell_type": "markdown",
      "metadata": {
        "id": "oyDHKVtlKBOU"
      },
      "source": [
        "## Vyhodnocení kvality modelu\n",
        "\n",
        "Nakonec provedeme predikce pro testovací data a vyhodnotíme výsledky. Pro vyhodnocení použijeme MAE i RMSE. Výsledky můžeme porovnat i s kvalitou dosaženou pomocí linární regrese a rozhodovacích stromů."
      ]
    },
    {
      "cell_type": "code",
      "metadata": {
        "colab": {
          "base_uri": "https://localhost:8080/"
        },
        "id": "00Qdvg0WAXga",
        "outputId": "7a3a672c-2955-4978-e863-f8b7de07bc4e"
      },
      "source": [
        "from sklearn.metrics import mean_absolute_error, mean_squared_error\n",
        "\n",
        "y_pred = model.predict(X_test_std)\n",
        "\n",
        "print (\"Vyhodocnoceni kvality MAE: {}, MSE: {}\".format(mean_absolute_error(y_test, y_pred), mean_squared_error(y_test, y_pred, squared=False)))"
      ],
      "execution_count": 7,
      "outputs": [
        {
          "output_type": "stream",
          "text": [
            "Vyhodocnoceni kvality MAE: 3.1081782491301015, MSE: 3.6889109957126633\n"
          ],
          "name": "stdout"
        }
      ]
    },
    {
      "cell_type": "markdown",
      "metadata": {
        "id": "AJrZw1PCeeNW"
      },
      "source": [
        "Výsledky z linární regrsese a rozhodovacích stromů jsou následující:\n",
        "\n",
        "Linearni regrese MAE: 0.6578472596904307, MSE: 0.8588766801030574\n",
        "\n",
        "Random forest MAE: 0.5328928962818005, MSE: 0.74871399470129\n",
        "\n",
        "Kvalita neuronových sítí pro tuto úlohu je tedy výrazně lepší než u lineární regese a srovnatelná s rozhodovacími stromy."
      ]
    }
  ]
}
